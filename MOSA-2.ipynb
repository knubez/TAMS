{
 "cells": [
  {
   "cell_type": "markdown",
   "id": "88896d3f-02c6-450a-b312-6e7267c98562",
   "metadata": {},
   "source": [
    "Step 2 for pre-processed MOSA WRF data.\n",
    "* Track\n",
    "* Classify CEs\n",
    "* Create df with info but not full set of CE coordinates"
   ]
  },
  {
   "cell_type": "code",
   "execution_count": null,
   "id": "c81a53e7-65d9-4c16-be91-9ac8c9519c3b",
   "metadata": {},
   "outputs": [],
   "source": [
    "from pathlib import Path\n",
    "\n",
    "import cartopy.crs as ccrs\n",
    "import matplotlib.pyplot as plt\n",
    "import numpy as np\n",
    "\n",
    "from tams.mosa import run_wrf_preproced"
   ]
  },
  {
   "cell_type": "markdown",
   "id": "0dc8f85c-3c62-4135-a51e-9ec9817587b7",
   "metadata": {},
   "source": [
    "## Get files"
   ]
  },
  {
   "cell_type": "code",
   "execution_count": null,
   "id": "6cca8605-6c55-4c41-adaa-1eac4560ded4",
   "metadata": {},
   "outputs": [],
   "source": [
    "files = sorted(Path(\"/glade/scratch/zmoon/mosa-pre\").glob(\"tb_rainrate*.parquet\"))\n",
    "\n",
    "print(f\"{len(files)} total files\")\n",
    "\n",
    "# files = files[:1000]  # test\n",
    "files = [p for p in files if p.name.startswith(\"tb_rainrate_2010\") or p.name.startswith(\"tb_rainrate_2011\")]  # first WY\n",
    "\n",
    "print(f\"using {len(files)} files\")\n",
    "\n",
    "print(files[0])\n",
    "print(\"...\")\n",
    "print(files[-1])"
   ]
  },
  {
   "cell_type": "markdown",
   "id": "992cbe36-e09a-4fe2-add5-02eaf36d3f6b",
   "metadata": {},
   "source": [
    "## Run"
   ]
  },
  {
   "cell_type": "code",
   "execution_count": null,
   "id": "24c08be5-0a2b-4505-b1a1-deefc99eb077",
   "metadata": {},
   "outputs": [],
   "source": [
    "ce = run_wrf_preproced(files)\n",
    "ce"
   ]
  },
  {
   "cell_type": "markdown",
   "id": "309dba44-6e7e-4b96-a02f-44881527290c",
   "metadata": {},
   "source": [
    "## Plot"
   ]
  },
  {
   "cell_type": "code",
   "execution_count": null,
   "id": "55b87077-fe94-4175-a995-c89d1be6bcd9",
   "metadata": {},
   "outputs": [],
   "source": [
    "ce.area_km2.astype(np.float64)"
   ]
  },
  {
   "cell_type": "code",
   "execution_count": null,
   "id": "eff4f946-4078-47ec-a560-3c6cc93b01b1",
   "metadata": {},
   "outputs": [],
   "source": [
    "proj = ccrs.Mercator()\n",
    "tran = ccrs.PlateCarree()\n",
    "\n",
    "fig, ax = plt.subplots(subplot_kw=dict(projection=proj), figsize=(7, 10))\n",
    "\n",
    "ax.coastlines()\n",
    "ax.gridlines(draw_labels=True)\n",
    "\n",
    "ax.scatter(ce.lon, ce.lat, s=ce.area_km2.astype(np.float64)/10000, marker=\".\", transform=tran, alpha=0.2, lw=0)"
   ]
  },
  {
   "cell_type": "markdown",
   "id": "81a4905e-5a15-4c9e-bca6-808167d86ca2",
   "metadata": {},
   "source": [
    "## Save df\n",
    "\n",
    "They only want MCSs, so we can drop the CEs that are not part of an MCS"
   ]
  },
  {
   "cell_type": "code",
   "execution_count": null,
   "id": "02f30a46-47bd-4a9a-9790-65d821acaeb0",
   "metadata": {},
   "outputs": [],
   "source": [
    "mcs = (\n",
    "    ce[ce.is_mcs]\n",
    "    .reset_index(drop=True)\n",
    "    .drop(columns=[\"is_mcs\", \"not_is_mcs_reason\"])\n",
    ")\n",
    "mcs"
   ]
  },
  {
   "cell_type": "code",
   "execution_count": null,
   "id": "3fc108ff-624f-4070-95b2-93102ea01c97",
   "metadata": {},
   "outputs": [],
   "source": [
    "fig, ax = plt.subplots(figsize=(10, 9))\n",
    "\n",
    "n = 0\n",
    "for _, g in mcs.groupby(\"mcs_id\"):\n",
    "    g.plot(x=\"lon\", y=\"lat\", ax=ax, label=\"\", legend=False)\n",
    "    n += 1\n",
    "    \n",
    "    if n > 50:\n",
    "        break"
   ]
  },
  {
   "cell_type": "code",
   "execution_count": null,
   "id": "a68bd289-66da-422d-aeda-0235b750e0af",
   "metadata": {},
   "outputs": [],
   "source": []
  }
 ],
 "metadata": {
  "kernelspec": {
   "display_name": "Python [conda env:mambaforge-tams-dev]",
   "language": "python",
   "name": "conda-env-mambaforge-tams-dev-py"
  },
  "language_info": {
   "codemirror_mode": {
    "name": "ipython",
    "version": 3
   },
   "file_extension": ".py",
   "mimetype": "text/x-python",
   "name": "python",
   "nbconvert_exporter": "python",
   "pygments_lexer": "ipython3",
   "version": "3.9.12"
  }
 },
 "nbformat": 4,
 "nbformat_minor": 5
}
