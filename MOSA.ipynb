{
 "cells": [
  {
   "cell_type": "code",
   "execution_count": null,
   "id": "a07354a8-a512-4b55-9e5b-a982c1cebe52",
   "metadata": {},
   "outputs": [],
   "source": [
    "import warnings\n",
    "\n",
    "import dask\n",
    "import matplotlib.pyplot as plt\n",
    "import numpy as np\n",
    "import pandas as pd\n",
    "import ptitprince as pt\n",
    "import seaborn as sns\n",
    "import xarray as xr\n",
    "from scipy import stats\n",
    "\n",
    "import tams"
   ]
  },
  {
   "cell_type": "markdown",
   "id": "af4c9661-6044-4ec5-98ef-77fc22059285",
   "metadata": {},
   "source": [
    "## Load dataset"
   ]
  },
  {
   "cell_type": "code",
   "execution_count": null,
   "id": "a5d538eb-2d59-4321-8af5-d0fe688d6d27",
   "metadata": {},
   "outputs": [],
   "source": [
    "ds0 = xr.open_mfdataset(\n",
    "    \"/glade/campaign/mmm/c3we/prein/SouthAmerica/MCS-Tracking/WY2011/WRF/tb_rainrate_2010-06*.nc\",\n",
    "    concat_dim='time', combine='nested', parallel=True)\n",
    "\n",
    "ds = (\n",
    "    ds0.rename({\"rainrate\": \"pr\", \"tb\": \"ctt\"})\n",
    "    .rename_dims({\"rlat\": \"y\", \"rlon\": \"x\"})\n",
    "    .isel(time=slice(1, None))\n",
    ")\n",
    "ds = ds.assign_coords(lon=(((ds.lon + 180) % 360) - 180))\n",
    "\n",
    "# with dask.config.set(**{'array.slicing.split_large_chunks': False}):\n",
    "\n",
    "ds"
   ]
  },
  {
   "cell_type": "markdown",
   "id": "95551804-1d73-4eaa-8f8a-6f04e4989c8a",
   "metadata": {},
   "source": [
    "## Identify CEs"
   ]
  },
  {
   "cell_type": "code",
   "execution_count": null,
   "id": "e53b70fb-3471-4cca-a72b-162a441f983d",
   "metadata": {},
   "outputs": [],
   "source": [
    "ce_lists, _ = tams.identify(ds.ctt, parallel=True, ctt_threshold=241, ctt_core_threshold=225)"
   ]
  },
  {
   "cell_type": "code",
   "execution_count": null,
   "id": "79d203ce-a775-4b1d-9bd3-9bdb9130eb94",
   "metadata": {},
   "outputs": [],
   "source": [
    "ce_lists[5].plot()"
   ]
  },
  {
   "cell_type": "code",
   "execution_count": null,
   "id": "d1ea84c3-153d-429c-87e1-c5326a6efaed",
   "metadata": {},
   "outputs": [],
   "source": [
    "c = ce_lists[5].iloc[0:1]\n",
    "d = ce_lists[6].iloc[0:1]\n",
    "tams.overlap(c, c.translate(xoff=0.1))"
   ]
  },
  {
   "cell_type": "markdown",
   "id": "851fd9df-00ad-418a-b40b-d24f08a55d9d",
   "metadata": {},
   "source": [
    "## Track"
   ]
  },
  {
   "cell_type": "code",
   "execution_count": null,
   "id": "de7048f9-1a89-4d2c-8831-0379ac90f5d3",
   "metadata": {},
   "outputs": [],
   "source": [
    "ce = tams.track(ce_lists, ds.time.values, overlap_threshold=0.5)\n",
    "ce"
   ]
  },
  {
   "cell_type": "code",
   "execution_count": null,
   "id": "820b2561-4760-49f3-ab93-2cefc70ddf72",
   "metadata": {},
   "outputs": [],
   "source": [
    "tams.plot_tracked(ce.query(\"time <= '2010-06-01 07'\"), size=20)"
   ]
  },
  {
   "cell_type": "markdown",
   "id": "48fc5847-aa33-4f2f-a5c8-cb366d29c676",
   "metadata": {},
   "source": [
    "## Classify (MCS???)\n",
    "\n",
    "### Add precip"
   ]
  },
  {
   "cell_type": "code",
   "execution_count": null,
   "id": "bec8f0dc-ba1e-415a-9ffe-309d56bfed34",
   "metadata": {},
   "outputs": [],
   "source": [
    "dfs = []\n",
    "for t in ds.time.values:\n",
    "    df = tams.data_in_contours(ds.pr.sel(time=t), ce.query(\"time == @t\"),\n",
    "                               merge=True,\n",
    "                              agg=(\"mean\", \"max\", \"count\"),)\n",
    "    dfs.append(df)\n",
    "ce = pd.concat(dfs)\n",
    "ce"
   ]
  },
  {
   "cell_type": "code",
   "execution_count": null,
   "id": "d6b3bea0-e73c-4f41-96a0-cff26ced9ce4",
   "metadata": {},
   "outputs": [],
   "source": [
    "is_mcs_list = []\n",
    "for mcs_id, g in ce.groupby(\"mcs_id\"):\n",
    "    # Compute time\n",
    "    t = g.time.unique()\n",
    "    tmin = t.min()\n",
    "    tmax = t.max()\n",
    "    duration = pd.Timedelta(tmax - tmin)\n",
    "    \n",
    "    # TODO: collect reasons\n",
    "\n",
    "    # Assuming instantaneous times, need 5 h for the 4 continuous h criteria\n",
    "    n = 5\n",
    "    if duration < pd.Timedelta(f\"{n}H\"):\n",
    "        is_mcs_list.append(False)\n",
    "        continue\n",
    "\n",
    "    # Sum area over cloud elements\n",
    "    area = g.groupby(\"itime\")[\"area_km2\"].sum()\n",
    "    \n",
    "    # 1. Assess area criterion\n",
    "    # NOTE: rolling usage assuming data is hourly\n",
    "    yes = (area >= 40_000).rolling(n, min_periods=0).count().gt(n).any()\n",
    "    if not yes:\n",
    "        is_mcs_list.append(False)\n",
    "        continue\n",
    "\n",
    "    # Agg min precip over cloud elements\n",
    "    maxpr = g.groupby(\"itime\")[\"pr_max\"].max()\n",
    "    \n",
    "    # 2. Assess minimum pixel-peak precip criterion\n",
    "    yes = (maxpr >= 10).rolling(n, min_periods=0).count().gt(n).any()\n",
    "    if not yes:\n",
    "        is_mcs_list.append(False)\n",
    "        continue\n",
    "    \n",
    "    # Compute rainfall volume\n",
    "    g[\"prvol\"] = g.area_km2 * g.mean_pr  # per CE\n",
    "    prvol = g.groupby(\"itime\")[\"prvol\"].sum()\n",
    "    \n",
    "    # 3. Assess minimum rainfall volume criterion\n",
    "    yes = (prvol >= 20_000).sum() >= 1\n",
    "    if not yes:\n",
    "        is_mcs_list.append(False)\n",
    "        continue\n",
    "    \n",
    "    # 4. Overshoot threshold currently met for all"
   ]
  },
  {
   "cell_type": "code",
   "execution_count": null,
   "id": "407bd6e7-f6e5-43d8-8e04-5f8511abe076",
   "metadata": {},
   "outputs": [],
   "source": [
    "ce = ce.merge(\n",
    "    pd.Series(is_mcs_list, index=range(len(is_mcs_list)), name=\"is_mcs\"),\n",
    "    how=\"left\", left_on=\"mcs_id\", right_index=True,\n",
    ")\n",
    "ce"
   ]
  },
  {
   "cell_type": "code",
   "execution_count": null,
   "id": "e57ad032-1c2a-4f24-97d2-de3e5a616fbd",
   "metadata": {},
   "outputs": [],
   "source": []
  }
 ],
 "metadata": {
  "kernelspec": {
   "display_name": "Python [conda env:miniconda3-aew_project]",
   "language": "python",
   "name": "conda-env-miniconda3-aew_project-py"
  },
  "language_info": {
   "codemirror_mode": {
    "name": "ipython",
    "version": 3
   },
   "file_extension": ".py",
   "mimetype": "text/x-python",
   "name": "python",
   "nbconvert_exporter": "python",
   "pygments_lexer": "ipython3",
   "version": "3.9.10"
  }
 },
 "nbformat": 4,
 "nbformat_minor": 5
}
