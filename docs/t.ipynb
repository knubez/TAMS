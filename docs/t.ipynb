{
 "cells": [
  {
   "cell_type": "markdown",
   "metadata": {},
   "source": [
    "# Sample satellite data\n",
    "\n",
    "Some graphical tests of current primary functions using the sample satellite data."
   ]
  },
  {
   "cell_type": "code",
   "execution_count": null,
   "metadata": {},
   "outputs": [],
   "source": [
    "import sys; sys.path.append(\"../\")\n",
    "import warnings\n",
    "\n",
    "import matplotlib.pyplot as plt\n",
    "import numpy as np\n",
    "import xarray as xr\n",
    "\n",
    "import tams"
   ]
  },
  {
   "cell_type": "code",
   "execution_count": null,
   "metadata": {},
   "outputs": [],
   "source": [
    "plt.close(\"all\")\n",
    "\n",
    "xr.set_options(display_expand_data=False)"
   ]
  },
  {
   "cell_type": "markdown",
   "metadata": {},
   "source": [
    "## Load data"
   ]
  },
  {
   "cell_type": "code",
   "execution_count": null,
   "metadata": {},
   "outputs": [],
   "source": [
    "r = tams.load_example_ir()\n",
    "\n",
    "tb = tams.tb_from_ir(r, ch=9).isel(time=slice(4))\n",
    "tb"
   ]
  },
  {
   "cell_type": "markdown",
   "metadata": {},
   "source": [
    "## Identify cloud elements (CEs)"
   ]
  },
  {
   "cell_type": "code",
   "execution_count": null,
   "metadata": {},
   "outputs": [],
   "source": [
    "times = tb.time\n",
    "contour_sets = [tams.identify(tb.sel(time=time)) for time in times]\n",
    "contour_sets[0].head()"
   ]
  },
  {
   "cell_type": "markdown",
   "metadata": {},
   "source": [
    "## Track CE groups between times"
   ]
  },
  {
   "cell_type": "code",
   "execution_count": null,
   "metadata": {},
   "outputs": [],
   "source": [
    "cs = tams.track(contour_sets, times, u_projection=-5)"
   ]
  },
  {
   "cell_type": "code",
   "execution_count": null,
   "metadata": {},
   "outputs": [],
   "source": [
    "fig, ax = plt.subplots(figsize=(12, 5))\n",
    "\n",
    "ax.set(xlabel=\"lon\", ylabel=\"lat\")\n",
    "\n",
    "colors = plt.cm.GnBu(np.linspace(0.2, 0.85, len(times)))\n",
    "\n",
    "# Plot blobs at each time\n",
    "for i, g in cs.groupby(\"itime\"):\n",
    "    color = colors[i]\n",
    "\n",
    "    g.plot(ax=ax, facecolor=color, edgecolor=color, alpha=0.25, lw=1.5)\n",
    "\n",
    "    # Label blobs with assigned ID\n",
    "    with warnings.catch_warnings():\n",
    "        warnings.filterwarnings(\n",
    "            \"ignore\",\n",
    "            category=UserWarning,\n",
    "            message=\"Geometry is in a geographic CRS. Results from 'centroid' are likely incorrect.\",\n",
    "        )\n",
    "        for id_, x, y in zip(g.id, g.centroid.x, g.centroid.y):\n",
    "            ax.text(x, y, id_, c=color, fontsize=14, zorder=10)\n",
    "\n",
    "\n",
    "fig.tight_layout()"
   ]
  },
  {
   "cell_type": "markdown",
   "metadata": {},
   "source": [
    "## Classify"
   ]
  },
  {
   "cell_type": "code",
   "execution_count": null,
   "metadata": {},
   "outputs": [],
   "source": [
    "classes = cs.groupby(\"id\").apply(tams.classify)\n",
    "cs[\"class\"] = cs.id.map(classes)\n",
    "cs"
   ]
  }
 ],
 "metadata": {
  "interpreter": {
   "hash": "885a394a41be420c21ab9d2795ce09cbc1affa11e198c29d90693f20f11c214b"
  },
  "kernelspec": {
   "display_name": "Python 3 (ipykernel)",
   "language": "python",
   "name": "python3"
  },
  "language_info": {
   "codemirror_mode": {
    "name": "ipython",
    "version": 3
   },
   "file_extension": ".py",
   "mimetype": "text/x-python",
   "name": "python",
   "nbconvert_exporter": "python",
   "pygments_lexer": "ipython3",
   "version": "3.9.10"
  }
 },
 "nbformat": 4,
 "nbformat_minor": 4
}
