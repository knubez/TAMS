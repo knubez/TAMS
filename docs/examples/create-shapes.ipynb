{
 "cells": [
  {
   "cell_type": "code",
   "execution_count": null,
   "id": "0",
   "metadata": {},
   "outputs": [],
   "source": [
    "import geopandas as gpd\n",
    "import numpy as np"
   ]
  },
  {
   "cell_type": "markdown",
   "id": "1",
   "metadata": {},
   "source": [
    "## Shapes"
   ]
  },
  {
   "cell_type": "markdown",
   "id": "2",
   "metadata": {},
   "source": [
    "### Rectangle"
   ]
  },
  {
   "cell_type": "code",
   "execution_count": null,
   "id": "3",
   "metadata": {},
   "outputs": [],
   "source": [
    "def make_rectangle(ll, ur):\n",
    "    \"\"\"Return the rectangle defined by two points (lower-left and upper-right corner).\"\"\"\n",
    "    from shapely.geometry import Point, Polygon\n",
    "    \n",
    "    ll, ur = Point(ll), Point(ur)\n",
    "    if ll.x == ur.x or ll.y == ur.y:\n",
    "        raise ValueError(\"not diagonal\")\n",
    "\n",
    "    return Polygon([(ll.x, ll.y), (ll.x, ur.y), (ur.x, ur.y), (ur.x, ll.y)])\n",
    "\n",
    "rect = make_rectangle((0, 0), (4, 2))\n",
    "\n",
    "display(rect)\n",
    "\n",
    "gpd.GeoSeries(rect).plot()"
   ]
  },
  {
   "cell_type": "markdown",
   "id": "4",
   "metadata": {},
   "source": [
    "### Circle"
   ]
  },
  {
   "cell_type": "code",
   "execution_count": null,
   "id": "5",
   "metadata": {},
   "outputs": [],
   "source": [
    "def make_circle(xy, d, *, half: bool = True):\n",
    "    \"\"\"\n",
    "    Parameters\n",
    "    ----------\n",
    "    xy\n",
    "        Center point.\n",
    "    d\n",
    "        Diameter.\n",
    "        (Or, radius if `half` is true.)\n",
    "    half\n",
    "        Whether `d` is diameter (``False``, default)\n",
    "        or half-diameter (radius; ``True``).\n",
    "    \"\"\"\n",
    "    from shapely.geometry import Point\n",
    "\n",
    "    r = d if half else d / 2\n",
    "    \n",
    "    return Point(xy).buffer(r)\n",
    "\n",
    "cir = make_circle((0, 0), 1)\n",
    "\n",
    "assert cir.bounds[2] - cir.bounds[0] == 2\n",
    "\n",
    "display(cir)"
   ]
  },
  {
   "cell_type": "markdown",
   "id": "6",
   "metadata": {},
   "source": [
    "### Ellipse"
   ]
  },
  {
   "cell_type": "code",
   "execution_count": null,
   "id": "7",
   "metadata": {},
   "outputs": [],
   "source": [
    "def make_ellipse(xy, w: float, h: float, *, angle: float = 0, half: bool = False):\n",
    "    \"\"\"\n",
    "    Parameters\n",
    "    ----------\n",
    "    xy\n",
    "        Center point.\n",
    "    w, h\n",
    "        Ellipse width and height.\n",
    "        (Or, half-width and half-height, the semi-diameters, if `half` is true.)\n",
    "    angle\n",
    "        Rotation (counter-clockwise; applied after creation; **degrees**).\n",
    "        For example ``angle=90`` will cause width and height to be switched in the result.\n",
    "    half\n",
    "        Whether `w` and `h` are expressed as \n",
    "        full diameters (``False``, default)\n",
    "        or semi/half diameters (``True``).\n",
    "    \"\"\"\n",
    "    # Based on https://gis.stackexchange.com/a/243462\n",
    "    import shapely.affinity\n",
    "    from shapely.geometry import Point\n",
    "\n",
    "    if half:\n",
    "        hw, hh = w, h\n",
    "    else:\n",
    "        hw, hh = w / 2, h / 2\n",
    "    \n",
    "    return shapely.affinity.rotate(shapely.affinity.scale(Point(xy).buffer(1), hw, hh), angle)\n",
    "\n",
    "\n",
    "ell = make_ellipse((0, 0), 1, 1, angle=0)\n",
    "assert ell.bounds == (-0.5, -0.5, 0.5, 0.5)\n",
    "\n",
    "ell = make_ellipse((0, 0), 1, 1, angle=0, half=True)\n",
    "assert ell.bounds == (-1, -1, 1, 1)\n",
    "\n",
    "ell = make_ellipse((-10, 5), 1.2, 0.8, angle=15)\n",
    "\n",
    "display(ell)\n",
    "\n",
    "gpd.GeoSeries(ell, crs=\"EPSG:4326\").plot(fc=\"none\")"
   ]
  },
  {
   "cell_type": "markdown",
   "id": "8",
   "metadata": {},
   "source": [
    "### Cone (circle-cone)"
   ]
  },
  {
   "cell_type": "code",
   "execution_count": null,
   "id": "9",
   "metadata": {},
   "outputs": [],
   "source": [
    "def make_cone(x_range, y_range, r_range):\n",
    "    \"\"\"\n",
    "    Parameters\n",
    "    ----------\n",
    "    x_range, y_range, r_range : Iterable[float, float]\n",
    "        Center and radius of initial and final circles used to construct the cone.\n",
    "\n",
    "    Returns\n",
    "    -------\n",
    "    Polygon\n",
    "    \"\"\"\n",
    "    from shapely.geometry import MultiPolygon, Polygon\n",
    "    from shapely.ops import unary_union\n",
    "\n",
    "    # Based on https://gis.stackexchange.com/a/326692\n",
    "    n = np.ceil(max(np.ptp(x_range), np.ptp(y_range))).astype(int) * 2\n",
    "    x = np.linspace(*x_range, n)\n",
    "    y = np.linspace(*y_range, n)\n",
    "    r = np.linspace(*r_range, n)\n",
    "\n",
    "    # Coords\n",
    "    theta = np.linspace(0, 2 * np.pi, 360)\n",
    "    polygon_x = x[:, None] + r[:, None] * np.sin(theta)\n",
    "    polygon_y = y[:, None] + r[:, None] * np.cos(theta)\n",
    "\n",
    "    # Circles\n",
    "    ps = [Polygon(i) for i in np.dstack((polygon_x, polygon_y))]\n",
    "\n",
    "    # Convex hulls of subsequent circles\n",
    "    n = range(len(ps)-1)\n",
    "    convex_hulls = [MultiPolygon([ps[i], ps[i+1]]).convex_hull for i in n]\n",
    "\n",
    "    # Final polygon\n",
    "    cone = unary_union(convex_hulls)\n",
    "\n",
    "    return cone\n",
    "\n",
    "\n",
    "x_range = (0, -10)\n",
    "y_range = (0, 0)\n",
    "r_range = (0.2, 3)\n",
    "\n",
    "cone = make_cone(x_range, y_range, r_range)\n",
    "\n",
    "display(cone)\n",
    "\n",
    "gpd.GeoSeries(cone, crs=\"EPSG:4326\").plot(fc=\"none\")"
   ]
  },
  {
   "cell_type": "code",
   "execution_count": null,
   "id": "10",
   "metadata": {},
   "outputs": [],
   "source": [
    "# Multiple cones, e.g. a moving CE or MCS at different times\n",
    "x = np.arange(5)\n",
    "y = -0.5 * x\n",
    "cen = gpd.GeoSeries(gpd.points_from_xy(x, y), crs=\"EPSG:4326\")\n",
    "\n",
    "dx, dy, r_range = 7, 0, (0.5, 2.5)\n",
    "\n",
    "cones = cen.apply(lambda p: make_cone((p.x, p.x + dx), (p.y, p.y + dy), r_range))\n",
    "cones.plot(fc=\"none\")"
   ]
  },
  {
   "cell_type": "markdown",
   "id": "11",
   "metadata": {},
   "source": [
    "## Tools"
   ]
  },
  {
   "cell_type": "markdown",
   "id": "12",
   "metadata": {},
   "source": [
    "### Line"
   ]
  },
  {
   "cell_type": "code",
   "execution_count": null,
   "id": "13",
   "metadata": {},
   "outputs": [],
   "source": [
    "def make_line(p1, p2):\n",
    "    \"\"\"Return the line connecting the two points.\"\"\"\n",
    "    from shapely.geometry import LineString\n",
    "\n",
    "    return LineString([p1, p2])\n",
    "\n",
    "make_line((0, 0), (1, 2))"
   ]
  },
  {
   "cell_type": "markdown",
   "id": "14",
   "metadata": {},
   "source": [
    "### Arc"
   ]
  },
  {
   "cell_type": "code",
   "execution_count": null,
   "id": "15",
   "metadata": {},
   "outputs": [],
   "source": [
    "def make_arc(xy, r: float, angle_range, *, n: int | None = None):\n",
    "    \"\"\"Make an arc line.\n",
    "\n",
    "    Angles in `angle_range` are mapped to [0, 360) with ``%``,\n",
    "    i.e. these inputs will have the same result:\n",
    "\n",
    "    - (0, 180)\n",
    "    - (0, -180)\n",
    "    - (0, 540)\n",
    "\n",
    "    Parameters\n",
    "    ----------\n",
    "    n\n",
    "    \"\"\"\n",
    "    # Based on https://stackoverflow.com/a/30762727\n",
    "    from shapely.geometry import Point, LineString\n",
    "\n",
    "    p = Point(xy)\n",
    "\n",
    "    a, b = angle_range\n",
    "    a %= 360\n",
    "    b %= 360\n",
    "    \n",
    "    if n is None:\n",
    "        n = np.clip(abs(b - a), 10, 360)\n",
    "    \n",
    "    theta = np.deg2rad(np.linspace(a, b, n))\n",
    "    x = p.x + r * np.cos(theta)\n",
    "    y = p.y + r * np.sin(theta)\n",
    "    \n",
    "    return LineString(np.column_stack((x, y)))\n",
    "\n",
    "make_arc((0, 0), 1, (150, 210))"
   ]
  },
  {
   "cell_type": "markdown",
   "id": "16",
   "metadata": {},
   "source": [
    "### Cut (split)"
   ]
  },
  {
   "cell_type": "code",
   "execution_count": null,
   "id": "17",
   "metadata": {},
   "outputs": [],
   "source": [
    "from shapely.geometry import MultiPolygon\n",
    "\n",
    "def cut(poly, line):  # TODO: `split` better name?\n",
    "    \"\"\"Split polygon along line.\"\"\"\n",
    "    # Based on https://kuanbutts.com/2020/07/07/subdivide-polygon-with-linestring/\n",
    "    from shapely.ops import polygonize\n",
    "    \n",
    "    to_cut = poly\n",
    "    cutter = line\n",
    "    \n",
    "    # Union the exterior lines of the polygon with the dividing linestring\n",
    "    unioned = to_cut.boundary.union(cutter)\n",
    "    \n",
    "    # Use polygonize geos operator and filter out poygons ouside of original input polygon\n",
    "    keep_polys = [poly for poly in polygonize(unioned) if poly.representative_point().within(to_cut)]\n",
    "\n",
    "    # Remaining polygons are the split polys of original shape\n",
    "    return keep_polys\n",
    "\n",
    "polys = cut(cone, make_arc((-3, 0), 4, (45, 360 - 45)))\n",
    "assert len(polys) == 2\n",
    "\n",
    "display(MultiPolygon(polys))\n",
    "\n",
    "gpd.GeoSeries(polys).plot(cmap=\"tab10\")"
   ]
  },
  {
   "cell_type": "markdown",
   "id": "18",
   "metadata": {},
   "source": [
    "## Examples"
   ]
  },
  {
   "cell_type": "markdown",
   "id": "19",
   "metadata": {},
   "source": [
    "### Quadrants"
   ]
  },
  {
   "cell_type": "code",
   "execution_count": null,
   "id": "20",
   "metadata": {},
   "outputs": [],
   "source": [
    "from itertools import chain\n",
    "\n",
    "xy = (0, 0)\n",
    "\n",
    "# outer = make_circle(xy, 5, half=True)\n",
    "# inner = make_circle(xy, 2.5, half=True)\n",
    "\n",
    "outer = make_ellipse(xy, w=7, h=5.5, angle=15, half=True)\n",
    "inner = make_ellipse(xy, w=3, h=2.5, angle=15, half=True)\n",
    "\n",
    "angle = 120  # angle of the backward/forward-poing sections (deg)\n",
    "rotate = 15  # rotate cuts wrt. horizontal (positive -> counterclockwise; deg)\n",
    "r = 6\n",
    "\n",
    "assert 0 < abs(angle) < 180\n",
    "angle2 = 180 - angle\n",
    "t = np.deg2rad(rotate + angle/2 + np.r_[0, angle2, angle2 + angle, angle + 2 * angle2])\n",
    "x0, x1, x2, x3 = r * np.cos(t)\n",
    "y0, y1, y2, y3 = r * np.sin(t)\n",
    "\n",
    "line1 = make_line((x2, y2), (x0, y0))\n",
    "line2 = make_line((x1, y1), (x3, y3))\n",
    "# display(line1, line2)\n",
    "\n",
    "cutters = [inner, line1, line2]\n",
    "\n",
    "polys = [outer]\n",
    "for cutter in cutters:\n",
    "    polys = list(chain.from_iterable(cut(p, cutter) for p in polys))\n",
    "\n",
    "assert len(polys) == 8\n",
    "\n",
    "s = gpd.GeoSeries(polys)\n",
    "assert np.isclose(s.area.sum(), outer.area)\n",
    "s.plot(cmap=\"tab10\", lw=2)"
   ]
  },
  {
   "cell_type": "code",
   "execution_count": null,
   "id": "21",
   "metadata": {},
   "outputs": [],
   "source": [
    "s.difference(make_ellipse((0, 0), 3, 1.6, angle=15)).plot(cmap=\"tab10\")"
   ]
  },
  {
   "cell_type": "markdown",
   "id": "22",
   "metadata": {},
   "source": [
    "### Forward and backward cones"
   ]
  },
  {
   "cell_type": "code",
   "execution_count": null,
   "id": "23",
   "metadata": {},
   "outputs": [],
   "source": [
    "from itertools import chain\n",
    "\n",
    "from shapely.geometry import MultiPolygon\n",
    "\n",
    "xc, yc = (5, 5)\n",
    "\n",
    "h = 10  # to center of final circle\n",
    "r = 7  # radius of final circle\n",
    "rotate = 20\n",
    "rmin = 0.35\n",
    "\n",
    "r_range = (rmin, r)\n",
    "r = np.r_[rmin, h]\n",
    "t = np.deg2rad(rotate + np.r_[0, 180])\n",
    "x_range1, x_range2 = xc + np.outer(np.cos(t), r)\n",
    "y_range1, y_range2 = yc + np.outer(np.sin(t), r)\n",
    "\n",
    "c1 = make_cone(x_range1, y_range1, r_range)\n",
    "c2 = make_cone(x_range2, y_range2, r_range)\n",
    "\n",
    "polys = [c1, c2]\n",
    "\n",
    "# Smooth the outer edges to a circle arc\n",
    "cutter = make_circle((xc, yc), 1.1 * h)\n",
    "polys = [p.intersection(cutter) for p in polys]\n",
    "\n",
    "# Split using a smaller circle\n",
    "cutter = make_circle((xc, yc), 0.7 * h).boundary\n",
    "polys = list(chain.from_iterable(cut(p, cutter) for p in polys))\n",
    "\n",
    "display(*polys)\n",
    "display(MultiPolygon(polys))\n",
    "\n",
    "gpd.GeoSeries(polys).plot(cmap=\"tab10\")"
   ]
  }
 ],
 "metadata": {
  "kernelspec": {
   "display_name": "Python 3 (ipykernel)",
   "language": "python",
   "name": "python3"
  },
  "language_info": {
   "codemirror_mode": {
    "name": "ipython",
    "version": 3
   },
   "file_extension": ".py",
   "mimetype": "text/x-python",
   "name": "python",
   "nbconvert_exporter": "python",
   "pygments_lexer": "ipython3",
   "version": "3.10.13"
  }
 },
 "nbformat": 4,
 "nbformat_minor": 5
}
