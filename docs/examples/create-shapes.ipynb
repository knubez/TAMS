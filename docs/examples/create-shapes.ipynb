{
 "cells": [
  {
   "cell_type": "code",
   "execution_count": null,
   "id": "0",
   "metadata": {},
   "outputs": [],
   "source": [
    "import geopandas as gpd\n",
    "import numpy as np"
   ]
  },
  {
   "cell_type": "markdown",
   "id": "1",
   "metadata": {},
   "source": [
    "### Ellipse"
   ]
  },
  {
   "cell_type": "code",
   "execution_count": null,
   "id": "2",
   "metadata": {},
   "outputs": [],
   "source": [
    "def make_ellipse(xy, w: float, h: float, *, angle: float = 0, half: bool = False):\n",
    "    \"\"\"\n",
    "    Parameters\n",
    "    ----------\n",
    "    xy\n",
    "        Center point.\n",
    "    w, h\n",
    "        Ellipse width and height.\n",
    "        (Half-width and half-height, the semi-diameters, if `half` is True.)\n",
    "    angle\n",
    "        Rotation (counter-clockwise; applied after creation; **degrees**).\n",
    "        For example ``angle=90`` will cause width and height to be switched in the result.\n",
    "    half\n",
    "        Whether `w` and `h` are expressed as \n",
    "        full diameters (``False``, default)\n",
    "        or semi/half diameters (``True``).\n",
    "    \"\"\"\n",
    "    # Based on https://gis.stackexchange.com/a/243462\n",
    "    import shapely.affinity\n",
    "    from shapely.geometry import Point\n",
    "\n",
    "    if half:\n",
    "        hw, hh = w, h\n",
    "    else:\n",
    "        hw, hh = w / 2, h / 2\n",
    "    \n",
    "    return shapely.affinity.rotate(shapely.affinity.scale(Point(xy).buffer(1), hw, hh), angle)\n",
    "\n",
    "ell = make_ellipse((0, 0), 1, 1, angle=0, half=True)\n",
    "print(ell.bounds)\n",
    "\n",
    "ell = make_ellipse((-10, 5), 1.2, 0.8, angle=15)\n",
    "\n",
    "display(ell)\n",
    "\n",
    "gpd.GeoSeries(ell, crs=\"EPSG:4326\").plot(fc=\"none\")"
   ]
  },
  {
   "cell_type": "markdown",
   "id": "3",
   "metadata": {},
   "source": [
    "## \"Cone\""
   ]
  },
  {
   "cell_type": "code",
   "execution_count": null,
   "id": "4",
   "metadata": {},
   "outputs": [],
   "source": [
    "def make_cone(x_range, y_range, r_range):\n",
    "    \"\"\"\n",
    "    Parameters\n",
    "    ----------\n",
    "    x_range, y_range, r_range : tuple[float, float]\n",
    "        Center and radius of initial and final circles.\n",
    "\n",
    "    Returns\n",
    "    -------\n",
    "    Polygon\n",
    "    \"\"\"\n",
    "    from shapely.geometry import MultiPolygon, Polygon\n",
    "    from shapely.ops import unary_union\n",
    "\n",
    "    # Based on https://gis.stackexchange.com/a/326692\n",
    "    n = np.ceil(max(np.ptp(x_range), np.ptp(y_range))).astype(int) * 2\n",
    "    x = np.linspace(*x_range, n)\n",
    "    y = np.linspace(*y_range, n)\n",
    "    r = np.linspace(*r_range, n)\n",
    "\n",
    "    # Coords\n",
    "    theta = np.linspace(0, 2 * np.pi, 360)\n",
    "    polygon_x = x[:, None] + r[:, None] * np.sin(theta)\n",
    "    polygon_y = y[:, None] + r[:, None] * np.cos(theta)\n",
    "\n",
    "    # Circles\n",
    "    ps = [Polygon(i) for i in np.dstack((polygon_x, polygon_y))]\n",
    "\n",
    "    # Convex hulls of subsequent circles\n",
    "    n = range(len(ps)-1)\n",
    "    convex_hulls = [MultiPolygon([ps[i], ps[i+1]]).convex_hull for i in n]\n",
    "\n",
    "    # Final polygon\n",
    "    cone = unary_union(convex_hulls)\n",
    "\n",
    "    return cone\n",
    "\n",
    "\n",
    "x_range = (0, -10)\n",
    "y_range = (0, 0)\n",
    "r_range = (0.2, 3)\n",
    "\n",
    "cone = make_cone(x_range, y_range, r_range)\n",
    "\n",
    "display(cone)\n",
    "\n",
    "gpd.GeoSeries(cone, crs=\"EPSG:4326\").plot(fc=\"none\")"
   ]
  },
  {
   "cell_type": "code",
   "execution_count": null,
   "id": "5",
   "metadata": {},
   "outputs": [],
   "source": [
    "# cones = cen.apply(lambda p: make_cone((p.x, p.x + dx), (p.y, p.y + dy), r_range))"
   ]
  },
  {
   "cell_type": "code",
   "execution_count": null,
   "id": "6",
   "metadata": {},
   "outputs": [],
   "source": [
    "def make_line(p1, p2):\n",
    "    \"\"\"Return the line connecting the two points.\"\"\"\n",
    "    from shapely.geometry import LineString\n",
    "\n",
    "    return LineString([p1, p2])\n",
    "\n",
    "make_line((0, 0), (1, 2))"
   ]
  },
  {
   "cell_type": "code",
   "execution_count": null,
   "id": "7",
   "metadata": {},
   "outputs": [],
   "source": [
    "def make_arc(xy, r: float, angle_range, *, n: int | None = None):\n",
    "    \"\"\"Make an arc line.\n",
    "\n",
    "    Angles in `angle_range` are mapped to [0, 360) with ``%``,\n",
    "    i.e. these inputs will have the same result:\n",
    "\n",
    "    - (0, 180)\n",
    "    - (0, -180)\n",
    "    - (0, 540)\n",
    "\n",
    "    Parameters\n",
    "    ----------\n",
    "    n\n",
    "    \"\"\"\n",
    "    # Based on https://stackoverflow.com/a/30762727\n",
    "    from shapely.geometry import Point, LineString\n",
    "\n",
    "    p = Point(xy)\n",
    "\n",
    "    a, b = angle_range\n",
    "    a %= 360\n",
    "    b %= 360\n",
    "    \n",
    "    if n is None:\n",
    "        n = np.clip(abs(b - a), 10, 360)\n",
    "    \n",
    "    theta = np.deg2rad(np.linspace(a, b, n))\n",
    "    x = p.x + r * np.cos(theta)\n",
    "    y = p.y + r * np.sin(theta)\n",
    "    \n",
    "    return LineString(np.column_stack((x, y)))\n",
    "\n",
    "make_arc((0, 0), 1, (150, 210))"
   ]
  },
  {
   "cell_type": "code",
   "execution_count": null,
   "id": "8",
   "metadata": {},
   "outputs": [],
   "source": [
    "from shapely.geometry import MultiPolygon\n",
    "\n",
    "def cut(poly, line):  # TODO: `split` better name?\n",
    "    \"\"\"Split polygon along line.\"\"\"\n",
    "    # Based on https://kuanbutts.com/2020/07/07/subdivide-polygon-with-linestring/\n",
    "    from shapely.ops import polygonize\n",
    "    \n",
    "    to_cut = poly\n",
    "    cutter = line\n",
    "    \n",
    "    # Union the exterior lines of the polygon with the dividing linestring\n",
    "    unioned = to_cut.boundary.union(cutter)\n",
    "    \n",
    "    # Use polygonize geos operator and filter out poygons ouside of original input polygon\n",
    "    keep_polys = [poly for poly in polygonize(unioned) if poly.representative_point().within(to_cut)]\n",
    "\n",
    "    # Remaining polygons are the split polys of original shape\n",
    "    return keep_polys\n",
    "\n",
    "polys = cut(cone, make_arc((-3, 0), 4, (45, 360 - 45)))\n",
    "print(len(polys))\n",
    "\n",
    "display(MultiPolygon(polys))\n",
    "\n",
    "gpd.GeoSeries(polys).plot(cmap=\"tab10\")"
   ]
  },
  {
   "cell_type": "markdown",
   "id": "9",
   "metadata": {},
   "source": [
    "### Split"
   ]
  },
  {
   "cell_type": "markdown",
   "id": "10",
   "metadata": {},
   "source": [
    "## Circle"
   ]
  },
  {
   "cell_type": "code",
   "execution_count": null,
   "id": "11",
   "metadata": {},
   "outputs": [],
   "source": [
    "def make_circle(xy, r):\n",
    "    from shapely.geometry import Point\n",
    "\n",
    "    return Point(xy).buffer(r/2)\n",
    "\n",
    "cir = make_circle((0, 0), 1)\n",
    "\n",
    "print(cir.bounds)\n",
    "\n",
    "display(cir)"
   ]
  },
  {
   "cell_type": "markdown",
   "id": "12",
   "metadata": {},
   "source": [
    "### Quadrants"
   ]
  },
  {
   "cell_type": "code",
   "execution_count": null,
   "id": "13",
   "metadata": {},
   "outputs": [],
   "source": [
    "from itertools import chain\n",
    "\n",
    "xy = (0, 0)\n",
    "\n",
    "outer = make_circle(xy, 5)\n",
    "inner = make_circle(xy, 2.5)\n",
    "\n",
    "# y=x and y=-x\n",
    "x = 10\n",
    "line1 = make_line((-x, -x), (x, x))\n",
    "line2 = make_line((-x, x), (x, -x))\n",
    "\n",
    "cutters = [inner, line1, line2]\n",
    "\n",
    "polys = [outer]\n",
    "for cutter in cutters:\n",
    "    polys = list(chain.from_iterable(cut(p, cutter) for p in polys))\n",
    "\n",
    "print(len(polys))\n",
    "\n",
    "s = gpd.GeoSeries(polys)\n",
    "assert np.isclose(s.area.sum(), outer.area)\n",
    "s.plot(cmap=\"tab10\", lw=2)"
   ]
  },
  {
   "cell_type": "code",
   "execution_count": null,
   "id": "14",
   "metadata": {},
   "outputs": [],
   "source": [
    "s.difference(make_ellipse((0, 0), 1.5, 0.8, angle=15)).plot(cmap=\"tab10\")"
   ]
  },
  {
   "cell_type": "code",
   "execution_count": null,
   "id": "15",
   "metadata": {},
   "outputs": [],
   "source": [
    "# TODO: rotation arg?\n",
    "# TODO: elliptical version of this?\n",
    "# TODO: split cone forward vs backward (with rotation) example?"
   ]
  },
  {
   "cell_type": "markdown",
   "id": "16",
   "metadata": {},
   "source": [
    "## Rectangle"
   ]
  },
  {
   "cell_type": "code",
   "execution_count": null,
   "id": "17",
   "metadata": {},
   "outputs": [],
   "source": [
    "def make_rectangle(ll, ur):\n",
    "    \"\"\"Return the rectangle defined by two points (lower-left and upper-right corner).\"\"\"\n",
    "    from shapely.geometry import Point, Polygon\n",
    "    \n",
    "    ll, ur = Point(ll), Point(ur)\n",
    "    if ll.x == ur.x or ll.y == ur.y:\n",
    "        raise ValueError(\"not diagonal\")\n",
    "\n",
    "    return Polygon([(ll.x, ll.y), (ll.x, ur.y), (ur.x, ur.y), (ur.x, ll.y)])\n",
    "\n",
    "rect = make_rectangle((0, 0), (4, 2))\n",
    "\n",
    "display(rect)\n",
    "\n",
    "gpd.GeoSeries(rect).plot()"
   ]
  }
 ],
 "metadata": {
  "kernelspec": {
   "display_name": "Python 3 (ipykernel)",
   "language": "python",
   "name": "python3"
  },
  "language_info": {
   "codemirror_mode": {
    "name": "ipython",
    "version": 3
   },
   "file_extension": ".py",
   "mimetype": "text/x-python",
   "name": "python",
   "nbconvert_exporter": "python",
   "pygments_lexer": "ipython3",
   "version": "3.10.13"
  }
 },
 "nbformat": 4,
 "nbformat_minor": 5
}
