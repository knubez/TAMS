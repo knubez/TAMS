{
 "cells": [
  {
   "cell_type": "code",
   "execution_count": null,
   "id": "0",
   "metadata": {},
   "outputs": [],
   "source": [
    "import geopandas as gpd\n",
    "import numpy as np\n",
    "import pandas as pd\n",
    "import regionmask\n",
    "from shapely import MultiPolygon, Polygon\n",
    "from shapely.affinity import rotate\n",
    "\n",
    "from tams.shapes import *"
   ]
  },
  {
   "cell_type": "markdown",
   "id": "1",
   "metadata": {},
   "source": [
    "## Shapes"
   ]
  },
  {
   "cell_type": "markdown",
   "id": "2",
   "metadata": {},
   "source": [
    "### Line"
   ]
  },
  {
   "cell_type": "code",
   "execution_count": null,
   "id": "3",
   "metadata": {},
   "outputs": [],
   "source": [
    "make_line((0, 0), (1, 2))"
   ]
  },
  {
   "cell_type": "markdown",
   "id": "4",
   "metadata": {},
   "source": [
    "### Arc"
   ]
  },
  {
   "cell_type": "code",
   "execution_count": null,
   "id": "5",
   "metadata": {},
   "outputs": [],
   "source": [
    "display(\n",
    "    make_arc((0, 0), 1, (150, 210.1)),\n",
    "    make_arc((0, 0), 1, (-25, 25)),\n",
    "    make_arc((0, 0), 1, (25, -25)),\n",
    ")"
   ]
  },
  {
   "cell_type": "markdown",
   "id": "6",
   "metadata": {},
   "source": [
    "### Rectangle"
   ]
  },
  {
   "cell_type": "code",
   "execution_count": null,
   "id": "7",
   "metadata": {},
   "outputs": [],
   "source": [
    "rect = make_rectangle((0, 0), (4, 2))\n",
    "\n",
    "display(rect)\n",
    "\n",
    "gpd.GeoSeries(rect).plot()"
   ]
  },
  {
   "cell_type": "code",
   "execution_count": null,
   "id": "8",
   "metadata": {},
   "outputs": [],
   "source": [
    "display(\n",
    "    make_rectangle2((0, 0), 3, 5),\n",
    "    make_square((0, 0), 1),\n",
    "    rotate(make_square((0, 0), 1), 30),\n",
    ")"
   ]
  },
  {
   "cell_type": "markdown",
   "id": "9",
   "metadata": {},
   "source": [
    "### Circle"
   ]
  },
  {
   "cell_type": "code",
   "execution_count": null,
   "id": "10",
   "metadata": {},
   "outputs": [],
   "source": [
    "cir = make_circle((0, 0), 1)\n",
    "\n",
    "assert cir.bounds[2] - cir.bounds[0] == 2\n",
    "\n",
    "cir"
   ]
  },
  {
   "cell_type": "code",
   "execution_count": null,
   "id": "11",
   "metadata": {},
   "outputs": [],
   "source": [
    "knife = make_line((-1, -5), (1, 5))\n",
    "display(knife)\n",
    "\n",
    "polys = split(cir, knife)\n",
    "assert len(polys) == 2\n",
    "\n",
    "gpd.GeoSeries(polys).plot(cmap=\"tab10\")"
   ]
  },
  {
   "cell_type": "markdown",
   "id": "12",
   "metadata": {},
   "source": [
    "### Ellipse"
   ]
  },
  {
   "cell_type": "code",
   "execution_count": null,
   "id": "13",
   "metadata": {},
   "outputs": [],
   "source": [
    "ell = make_ellipse((0, 0), 1, 1, angle=0)\n",
    "assert ell.bounds == (-0.5, -0.5, 0.5, 0.5)\n",
    "\n",
    "ell = make_ellipse((0, 0), 1, 1, angle=0, half=True)\n",
    "assert ell.bounds == (-1, -1, 1, 1)\n",
    "\n",
    "ell = make_ellipse((-10, 5), 1.2, 0.8, angle=15)\n",
    "\n",
    "display(ell)\n",
    "\n",
    "gpd.GeoSeries(ell, crs=\"EPSG:4326\").plot(fc=\"none\")"
   ]
  },
  {
   "cell_type": "markdown",
   "id": "14",
   "metadata": {},
   "source": [
    "### Cone (\"circle-cone\")"
   ]
  },
  {
   "cell_type": "code",
   "execution_count": null,
   "id": "15",
   "metadata": {},
   "outputs": [],
   "source": [
    "x_range = (0, -10)\n",
    "y_range = (0, 0)\n",
    "r_range = (0.2, 3)\n",
    "\n",
    "cone = make_cone(x_range, y_range, r_range)\n",
    "\n",
    "display(cone)\n",
    "\n",
    "gpd.GeoSeries(cone, crs=\"EPSG:4326\").plot(fc=\"none\")\n",
    "\n",
    "\n",
    "polys = split(cone, make_arc((-3, 0), 4, (45, 360 - 45)))\n",
    "assert len(polys) == 2\n",
    "\n",
    "display(MultiPolygon(polys))\n",
    "\n",
    "gpd.GeoSeries(polys).plot(cmap=\"tab10\")"
   ]
  },
  {
   "cell_type": "markdown",
   "id": "16",
   "metadata": {},
   "source": [
    "### Cone (capped with arc)"
   ]
  },
  {
   "cell_type": "code",
   "execution_count": null,
   "id": "17",
   "metadata": {},
   "outputs": [],
   "source": [
    "display(make_cone2((0, 0), 10, 5, rcap=np.inf))  # flat (triangle)\n",
    "display(make_cone2((0, 0), 10, 5))  # circle the cone is based on\n",
    "display(make_cone2((0, 0), 10, 5, rcap=5))  # more curved\n",
    "display(make_cone2((0, 0), 10, 5, rcap=2.5))  # like the circle-cone"
   ]
  },
  {
   "cell_type": "code",
   "execution_count": null,
   "id": "18",
   "metadata": {},
   "outputs": [],
   "source": [
    "# Something to think about is making the shape in the projection\n",
    "# and then translating back to lat/lon\n",
    "import matplotlib.pyplot as plt\n",
    "\n",
    "from pyproj import Transformer\n",
    "\n",
    "# crs = \"EPSG:32663\"  # equidistant cylindrical (no dlon change with lat; does nothing to the shape)\n",
    "# crs = \"EPSG:3857\"  # web mercator (no dlon change with lat, but cap distorts at higher lats)\n",
    "# crs = \"EPSG:7789\"  # this one seems slow\n",
    "# crs = \"EPSG:3035\"  # Gall-Peters (equal-area)\n",
    "# crs = \"+proj=laea\"  # Lambert Azimuthal equal-area\n",
    "crs = \"+proj=laea +lon_0=0 + lat_0=80\"\n",
    "# crs = \"+proj=aeqd\"  # Azimuthal Equidistant (should choose center pt)\n",
    "# crs = \"+proj=aeqd +lon_0=0 +lat_0=80\"  # Azimuthal Equidistant\n",
    "latlon = \"EPSG:4326\"\n",
    "\n",
    "print(gpd.GeoSeries(make_rectangle2((0, 80), 5, 2), crs=latlon).to_crs(\"EPSG:32663\").area)\n",
    "\n",
    "tran = Transformer.from_crs(latlon, crs, always_xy=True)\n",
    "\n",
    "x = 0\n",
    "y = 80\n",
    "h = 5\n",
    "d = 0.6 * h\n",
    "xy_crs = tran.transform(x, y)\n",
    "h_crs = tran.transform(x + h, y)[0] - xy_crs[0]\n",
    "d_crs = tran.transform(x, y + d)[1] - xy_crs[1]\n",
    "\n",
    "gpd.GeoSeries(\n",
    "    make_cone2(xy_crs, h_crs, d_crs),\n",
    "    crs=crs,\n",
    ").to_crs(latlon).plot()\n",
    "plt.gca().set_aspect(\"equal\", \"box\");"
   ]
  },
  {
   "cell_type": "markdown",
   "id": "19",
   "metadata": {},
   "source": [
    "## Examples"
   ]
  },
  {
   "cell_type": "markdown",
   "id": "20",
   "metadata": {},
   "source": [
    "### Multiple cones\n",
    "\n",
    "e.g. to apply to a moving CE or MCS centroid at different times"
   ]
  },
  {
   "cell_type": "code",
   "execution_count": null,
   "id": "21",
   "metadata": {},
   "outputs": [],
   "source": [
    "x = np.arange(5)\n",
    "y = -0.5 * x\n",
    "cen = gpd.GeoSeries(gpd.points_from_xy(x, y), crs=\"EPSG:4326\")\n",
    "\n",
    "dx, dy, r_range = 7, 0, (0.5, 2.5)\n",
    "\n",
    "cones = cen.apply(lambda p: make_cone((p.x, p.x + dx), (p.y, p.y + dy), r_range))\n",
    "cones.plot(fc=\"none\")"
   ]
  },
  {
   "cell_type": "markdown",
   "id": "22",
   "metadata": {},
   "source": [
    "### Quadrants"
   ]
  },
  {
   "cell_type": "code",
   "execution_count": null,
   "id": "23",
   "metadata": {},
   "outputs": [],
   "source": [
    "from itertools import chain\n",
    "\n",
    "xy = (0, 0)\n",
    "\n",
    "angle = -10  # ellipse rotation (deg)\n",
    "\n",
    "assert -45 < angle < 45\n",
    "outer = make_ellipse(xy, w=7, h=5.5, angle=angle, half=True)\n",
    "inner = make_ellipse(xy, w=3, h=2.5, angle=angle, half=True)\n",
    "\n",
    "fb_angle = 120  # size (angle) of the backward/forward-pointing sections (deg)\n",
    "rotate = -5  # rotate cuts wrt. horizontal (positive -> counterclockwise; deg)\n",
    "r = 1.1 * 7\n",
    "\n",
    "assert 0 < abs(fb_angle) < 180\n",
    "assert -45 < rotate < 45\n",
    "angle2 = 180 - fb_angle\n",
    "t = np.deg2rad(rotate + fb_angle/2 + np.r_[0, angle2, angle2 + fb_angle, fb_angle + 2 * angle2])\n",
    "x0, x1, x2, x3 = r * np.cos(t)\n",
    "y0, y1, y2, y3 = r * np.sin(t)\n",
    "\n",
    "line1 = make_line((x2, y2), (x0, y0))\n",
    "line2 = make_line((x1, y1), (x3, y3))\n",
    "\n",
    "cutters = [inner, line1, line2]\n",
    "\n",
    "polys = [outer]\n",
    "for cutter in cutters:\n",
    "    polys = list(chain.from_iterable(split(p, cutter) for p in polys))\n",
    "# assert len(polys) == 8\n",
    "\n",
    "s = gpd.GeoSeries(polys)\n",
    "assert np.isclose(s.area.sum(), outer.area)\n",
    "\n",
    "to_long = {\n",
    "    \"I\": \"inner\",\n",
    "    \"O\": \"outer\",\n",
    "    \"R\": \"right\",\n",
    "    \"L\": \"left\",\n",
    "    \"D\": \"down\",\n",
    "    \"U\": \"up\",\n",
    "}\n",
    "abbrevs = []\n",
    "names = []\n",
    "for io in \"IO\":\n",
    "    for d in \"RDLU\":\n",
    "        abbrevs.append(f\"{io}{d}\")\n",
    "        names.append(f\"{to_long[io]} {to_long[d]}\")\n",
    "\n",
    "df = s.to_frame(name=\"geometry\").assign(abbrev=abbrevs, name=names)\n",
    "display(df)\n",
    "\n",
    "df.plot(cmap=\"tab10\", column=\"abbrev\", legend=True)"
   ]
  },
  {
   "cell_type": "markdown",
   "id": "24",
   "metadata": {},
   "source": [
    "You may wish to exclude the CE/MCS area.\n",
    "It can be easily subtracted from the {class}`~geopandas.GeoSeries`:"
   ]
  },
  {
   "cell_type": "code",
   "execution_count": null,
   "id": "25",
   "metadata": {},
   "outputs": [],
   "source": [
    "ce = make_ellipse((0, 0), 1.6, 0.9, angle=angle)\n",
    "df_ = df.assign(geometry=df.difference(ce))\n",
    "df_.plot(cmap=\"tab10\", column=\"abbrev\", legend=True)"
   ]
  },
  {
   "cell_type": "markdown",
   "id": "26",
   "metadata": {},
   "source": [
    "Or included as an additional region:"
   ]
  },
  {
   "cell_type": "code",
   "execution_count": null,
   "id": "27",
   "metadata": {},
   "outputs": [],
   "source": [
    "df_ = df.assign(geometry=df.difference(ce))\n",
    "df_ = pd.concat(\n",
    "    [\n",
    "        df_,\n",
    "        gpd.GeoSeries(ce).to_frame(name=\"geometry\").assign(abbrev=\"CE\", name=\"cloud element\")\n",
    "    ],\n",
    "    ignore_index=True,\n",
    ")\n",
    "df_.plot(cmap=\"tab10\", column=\"abbrev\", legend=True)"
   ]
  },
  {
   "cell_type": "code",
   "execution_count": null,
   "id": "28",
   "metadata": {},
   "outputs": [],
   "source": [
    "regions = regionmask.from_geopandas(df_, abbrevs=\"abbrev\", names=\"name\")\n",
    "display(regions)\n",
    "regions.plot()"
   ]
  },
  {
   "cell_type": "markdown",
   "id": "29",
   "metadata": {},
   "source": [
    "### Forward and backward cones"
   ]
  },
  {
   "cell_type": "code",
   "execution_count": null,
   "id": "30",
   "metadata": {},
   "outputs": [],
   "source": [
    "from itertools import chain\n",
    "\n",
    "xc, yc = (5, 5)\n",
    "\n",
    "h = 10  # to center of final circle\n",
    "r = 7  # radius of final circle\n",
    "rotate = -2\n",
    "rmin = 0.35\n",
    "\n",
    "assert -45 < rotate < 45\n",
    "r_range = (rmin, r)\n",
    "r = np.r_[rmin, h]\n",
    "t = np.deg2rad(rotate + np.r_[0, 180])\n",
    "x_range1, x_range2 = xc + np.outer(np.cos(t), r)\n",
    "y_range1, y_range2 = yc + np.outer(np.sin(t), r)\n",
    "\n",
    "c1 = make_cone(x_range1, y_range1, r_range)\n",
    "c2 = make_cone(x_range2, y_range2, r_range)\n",
    "\n",
    "polys = [c1, c2]\n",
    "\n",
    "# Smooth the outer edges to a circle arc\n",
    "cutter = make_circle((xc, yc), 1.1 * h)\n",
    "polys = [p.intersection(cutter) for p in polys]\n",
    "\n",
    "# Split using a smaller circle\n",
    "cutter = make_circle((xc, yc), 0.5 * h).boundary\n",
    "polys = list(chain.from_iterable(split(p, cutter) for p in polys))\n",
    "\n",
    "# display(*polys)\n",
    "# display(MultiPolygon(polys))\n",
    "\n",
    "abbrevs = []\n",
    "names = []\n",
    "for d in \"RL\":\n",
    "    for io in \"IO\":\n",
    "        abbrevs.append(f\"{io}{d}\")\n",
    "        names.append(f\"{to_long[io]} {to_long[d]}\")\n",
    "\n",
    "df = gpd.GeoSeries(polys).to_frame(name=\"geometry\").assign(abbrev=abbrevs, name=names)\n",
    "display(df)\n",
    "\n",
    "df.plot(cmap=\"tab10\", column=\"abbrev\", legend=True)"
   ]
  }
 ],
 "metadata": {
  "kernelspec": {
   "display_name": "tams-dev",
   "language": "python",
   "name": "python3"
  },
  "language_info": {
   "codemirror_mode": {
    "name": "ipython",
    "version": 3
   },
   "file_extension": ".py",
   "mimetype": "text/x-python",
   "name": "python",
   "nbconvert_exporter": "python",
   "pygments_lexer": "ipython3",
   "version": "3.11.12"
  }
 },
 "nbformat": 4,
 "nbformat_minor": 5
}
