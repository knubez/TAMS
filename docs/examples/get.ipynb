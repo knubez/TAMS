{
 "cells": [
  {
   "cell_type": "markdown",
   "id": "0",
   "metadata": {},
   "source": [
    "# Stream input data"
   ]
  },
  {
   "cell_type": "code",
   "execution_count": null,
   "id": "1",
   "metadata": {},
   "outputs": [],
   "source": [
    "import warnings\n",
    "\n",
    "import cartopy\n",
    "import cartopy.crs as ccrs\n",
    "import matplotlib as mpl\n",
    "import matplotlib.pyplot as plt\n",
    "\n",
    "import tams\n",
    "\n",
    "warnings.filterwarnings(\"ignore\", category=cartopy.io.DownloadWarning)"
   ]
  },
  {
   "cell_type": "markdown",
   "id": "2",
   "metadata": {},
   "source": [
    "## GPM precipitation and brightness temperature\n",
    "\n",
    "With the help of [earthaccess](https://earthaccess.readthedocs.io/), we can stream these data without downloading the files to disk.\n",
    "* {func}`tams.data.get_imerg`\n",
    "* {func}`tams.data.get_mergir`"
   ]
  },
  {
   "cell_type": "code",
   "execution_count": null,
   "id": "3",
   "metadata": {},
   "outputs": [],
   "source": [
    "%%time\n",
    "\n",
    "pr = tams.data.get_imerg(\"2024-06-01 02:30\")[\"pr\"]\n",
    "pr"
   ]
  },
  {
   "cell_type": "code",
   "execution_count": null,
   "id": "4",
   "metadata": {},
   "outputs": [],
   "source": [
    "%%time\n",
    "\n",
    "tb = tams.data.get_mergir(pr.time.item())[\"tb\"]\n",
    "tb"
   ]
  },
  {
   "cell_type": "code",
   "execution_count": null,
   "id": "5",
   "metadata": {},
   "outputs": [],
   "source": [
    "fig = plt.figure(figsize=(13, 5))\n",
    "ax = fig.add_subplot(projection=ccrs.PlateCarree())\n",
    "\n",
    "ax.coastlines(color=\"magenta\")\n",
    "\n",
    "tb.plot(x=\"lon\", cmap=\"gist_gray_r\", robust=True, ax=ax)\n",
    "pr.plot(x=\"lon\", norm=mpl.colors.LogNorm(0.01, pr.quantile(0.99)), alpha=0.85, ax=ax);"
   ]
  },
  {
   "cell_type": "markdown",
   "id": "6",
   "metadata": {},
   "source": [
    "The white dots in the brightness temperature field above represent missing data.\n",
    "For most CE identification methods, this will influence results.\n",
    "Since they are mostly scattered points, not large regions,\n",
    "a reasonable way to fill in the missing data is a nearest-neighbor interpolation."
   ]
  },
  {
   "cell_type": "code",
   "execution_count": null,
   "id": "7",
   "metadata": {},
   "outputs": [],
   "source": [
    "%%time\n",
    "\n",
    "kws = dict(method=\"nearest\", fill_value=\"extrapolate\", assume_sorted=True)\n",
    "tb_ = tb.interpolate_na(\"lat\", **kws).interpolate_na(\"lon\", **kws)\n",
    "\n",
    "print(f\"{tb.isnull().sum().item() / tb.size:.3%} -> {tb_.isnull().sum().item() / tb_.size:.3%} null\")"
   ]
  },
  {
   "cell_type": "code",
   "execution_count": null,
   "id": "8",
   "metadata": {},
   "outputs": [],
   "source": [
    "box = dict(lon=slice(-115, -80), lat=slice(-53, -20))\n",
    "tb_.sel(**box).plot(cmap=\"gist_gray_r\", robust=True)\n",
    "plt.gca().set_aspect(\"equal\", \"box\")"
   ]
  }
 ],
 "metadata": {
  "kernelspec": {
   "display_name": "Python 3 (ipykernel)",
   "language": "python",
   "name": "python3"
  },
  "language_info": {
   "codemirror_mode": {
    "name": "ipython",
    "version": 3
   },
   "file_extension": ".py",
   "mimetype": "text/x-python",
   "name": "python",
   "nbconvert_exporter": "python",
   "pygments_lexer": "ipython3",
   "version": "3.10.13"
  },
  "mystnb": {
   "execution_raise_on_error": false
  }
 },
 "nbformat": 4,
 "nbformat_minor": 5
}
