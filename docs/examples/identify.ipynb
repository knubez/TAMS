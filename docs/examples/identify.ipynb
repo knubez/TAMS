{
 "cells": [
  {
   "cell_type": "markdown",
   "id": "0",
   "metadata": {},
   "source": [
    "# Identify\n",
    "\n",
    "Here, we demonstrate the impacts of some of the {func}`tams.identify` options."
   ]
  },
  {
   "cell_type": "code",
   "execution_count": null,
   "id": "1",
   "metadata": {
    "hide-output": true,
    "tags": [
     "hide-output"
    ]
   },
   "outputs": [],
   "source": [
    "import matplotlib.pyplot as plt\n",
    "import xarray as xr\n",
    "\n",
    "import tams\n",
    "\n",
    "xr.set_options(display_expand_data=False)"
   ]
  },
  {
   "cell_type": "code",
   "execution_count": null,
   "id": "2",
   "metadata": {},
   "outputs": [],
   "source": [
    "tb = tams.load_example_tb().isel(time=0)\n",
    "\n",
    "tb.plot(x=\"lon\", y=\"lat\", size=2.3, aspect=6, cmap=\"gist_gray_r\")\n",
    "\n",
    "ax = plt.gca()\n",
    "ax.set(xlim=(-40, 50), ylim=(0, 20))\n",
    "ax.set_aspect(\"equal\", \"box\")"
   ]
  },
  {
   "cell_type": "markdown",
   "id": "3",
   "metadata": {},
   "source": [
    "## Contour thresholds"
   ]
  },
  {
   "cell_type": "code",
   "execution_count": null,
   "id": "4",
   "metadata": {},
   "outputs": [],
   "source": [
    "fig, ax = plt.subplots(figsize=(10, 3))\n",
    "\n",
    "for i, (thresh, color, ls) in enumerate(\n",
    "    [\n",
    "        (250, \"firebrick\", \"--\"),\n",
    "        (235, \"rebeccapurple\", \"-\"),  # default\n",
    "        (225, \"mediumblue\", \":\"),\n",
    "    ]\n",
    "):\n",
    "    ce = tams.identify(tb, ctt_threshold=thresh)[0][0]\n",
    "    ce.plot(ax=ax, ec=color, fc=\"none\", ls=ls)\n",
    "    ax.text(0.005, 0.98 - (2 - i) * 0.1, len(ce), color=color, size=12, ha=\"left\", va=\"top\", transform=ax.transAxes)\n",
    "\n",
    "ax.set_title(\"$n$ CEs\", loc=\"left\", size=10)\n",
    "ax.set(xlabel=\"Longitude\", ylabel=\"Latitude\");"
   ]
  },
  {
   "cell_type": "markdown",
   "id": "5",
   "metadata": {},
   "source": [
    "## Size filtering threshold"
   ]
  },
  {
   "cell_type": "code",
   "execution_count": null,
   "id": "6",
   "metadata": {},
   "outputs": [],
   "source": [
    "%%time\n",
    "\n",
    "cases = [10, 100, 200, 500, 1000, 2000, 4000, 10_000]\n",
    "\n",
    "fig, axs = plt.subplots(len(cases), 1, sharex=True, sharey=True, figsize=(5, 8), constrained_layout=True)\n",
    "\n",
    "for ax, thresh in zip(axs.flat, cases):\n",
    "    ce = tams.identify(tb, size_threshold=thresh)[0][0]\n",
    "    ce.plot(ax=ax, ec=\"0.2\", fc=\"none\")\n",
    "    ax.text(0.005, 0.97, f\"{len(ce)}\", size=10, ha=\"left\", va=\"top\", transform=ax.transAxes)\n",
    "    ax.text(0.005, 0.03, f\"≥{thresh}km²\", size=8, ha=\"left\", va=\"bottom\", transform=ax.transAxes)\n",
    "\n",
    "axs[0].set_title(\"$n$ CEs\", loc=\"left\", size=10)\n",
    "fig.supxlabel(\"Longitude\")\n",
    "fig.supylabel(\"Latitude\");"
   ]
  },
  {
   "cell_type": "markdown",
   "id": "7",
   "metadata": {},
   "source": [
    "Disabling size filtering completely is possible but generally not useful except for debugging, or if you want to do your own size filtering. (Tiny CEs, that would otherwise be filtered out, are often too small to be linked with area overlap methods.) Also note that CE areas, needed by {func}`tams.classify`, are not computed by {func}`tams.identify` when size filtering is disabled."
   ]
  },
  {
   "cell_type": "code",
   "execution_count": null,
   "id": "8",
   "metadata": {},
   "outputs": [],
   "source": [
    "(\n",
    "    tams.identify(tb, size_filter=False)[0][0]\n",
    "    .plot(ec=\"0.2\", fc=\"none\")\n",
    "    .set(xlabel=\"Longitude\", ylabel=\"Latitude\")\n",
    ");"
   ]
  }
 ],
 "metadata": {
  "kernelspec": {
   "display_name": "Python 3 (ipykernel)",
   "language": "python",
   "name": "python3"
  },
  "language_info": {
   "codemirror_mode": {
    "name": "ipython",
    "version": 3
   },
   "file_extension": ".py",
   "mimetype": "text/x-python",
   "name": "python",
   "nbconvert_exporter": "python",
   "pygments_lexer": "ipython3",
   "version": "3.10.13"
  }
 },
 "nbformat": 4,
 "nbformat_minor": 5
}
