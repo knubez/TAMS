{
 "cells": [
  {
   "cell_type": "markdown",
   "id": "e2cbacf7-710f-4208-a14a-a4c4a43463d0",
   "metadata": {},
   "source": [
    "# Tracking options\n",
    "\n",
    "Exploring the impact of some of the tracking options for the sample datasets."
   ]
  },
  {
   "cell_type": "code",
   "execution_count": null,
   "id": "fc63f153-821a-4680-85d3-a9128c9be8b0",
   "metadata": {},
   "outputs": [],
   "source": [
    "import cartopy.crs as ccrs\n",
    "import matplotlib.pyplot as plt\n",
    "import numpy as np\n",
    "import xarray as xr\n",
    "\n",
    "import tams\n",
    "\n",
    "%matplotlib inline\n",
    "\n",
    "xr.set_options(display_expand_data=False)"
   ]
  },
  {
   "cell_type": "code",
   "execution_count": null,
   "id": "57f5dd85-1fa5-4e96-a8d8-9c0464560da6",
   "metadata": {},
   "outputs": [],
   "source": [
    "tb = tams.load_example_tb()\n",
    "tb"
   ]
  },
  {
   "cell_type": "markdown",
   "id": "96a34a15-9431-46de-92a3-88f6fc478ca2",
   "metadata": {},
   "source": [
    "## Identify cloud elements (CEs)"
   ]
  },
  {
   "cell_type": "code",
   "execution_count": null,
   "id": "a08cb460-f0b5-45ab-83e6-bb5d14eadbd6",
   "metadata": {},
   "outputs": [],
   "source": [
    "%%time\n",
    "\n",
    "ces, _ = tams.identify(tb)"
   ]
  },
  {
   "cell_type": "markdown",
   "id": "433b07ec-3d7a-4807-b251-4676c2b55f08",
   "metadata": {},
   "source": [
    "## Tracking options"
   ]
  },
  {
   "cell_type": "code",
   "execution_count": null,
   "id": "e38470d3-ae20-4377-b417-8ef2ee4bd635",
   "metadata": {},
   "outputs": [],
   "source": [
    "%%time\n",
    "\n",
    "cases = {}\n",
    "time = tb.time.values.tolist()\n",
    "\n",
    "proj = -15\n",
    "\n",
    "cases[\"default\"] = tams.track(ces, time)\n",
    "cases[\"link=f, norm=min\"] = tams.track(ces, time, look=\"f\", overlap_norm=\"min\")\n",
    "cases[\"link=f, norm=max\"] = tams.track(ces, time, look=\"f\", overlap_norm=\"max\")\n",
    "cases[f\"u_proj={proj}\"] = tams.track(ces, time, u_projection=proj)\n",
    "cases[f\"u_proj={proj} look=f, norm=min\"] = tams.track(ces, time, u_projection=proj, look=\"f\", overlap_norm=\"min\")\n",
    "cases[f\"u_proj={proj} look=f, norm=max\"] = tams.track(ces, time, u_projection=proj, look=\"f\", overlap_norm=\"max\")\n",
    "\n",
    "for key, ce in cases.items():\n",
    "    cases[key] = tams.classify(ce)"
   ]
  },
  {
   "cell_type": "code",
   "execution_count": null,
   "id": "2edfbc17-7ef1-4c26-abc6-eb401cd00dbe",
   "metadata": {},
   "outputs": [],
   "source": [
    "m, n = 2, 3\n",
    "assert len(cases) <= m * n\n",
    "\n",
    "# Restrict range\n",
    "lon_min, lat_min, lon_max, lat_max = -10, 8, -3, 15\n",
    "lon_min, lat_min, lon_max, lat_max = 17, 1, 27, 8\n",
    "lon_min, lat_min, lon_max, lat_max = 20, 1, 27, 4\n",
    "lon_min, lat_min, lon_max, lat_max = 30, 10, 38, 16\n",
    "\n",
    "proj = ccrs.PlateCarree()\n",
    "\n",
    "fig, axs = plt.subplots(m, n, figsize=(8, 5), sharex=True, sharey=True, subplot_kw=dict(projection=proj), constrained_layout=True)\n",
    "\n",
    "for i, ((key, ce), ax) in enumerate(zip(cases.items(), axs.flat)):\n",
    "    if i == 0:\n",
    "        assert key == \"default\"\n",
    "        tams.plot_tracked(ce)\n",
    "\n",
    "    tams.plot_tracked(ce.cx[lon_min:lon_max, lat_min:lat_max], ax=ax)\n",
    "    ax.text(0.03, 0.98, key, ha=\"left\", va=\"top\", transform=ax.transAxes, size=8)\n",
    "    gl = ax.gridlines(draw_labels=True, color=\"none\")\n",
    "    if not i < n:\n",
    "        gl.top_labels = False\n",
    "    if not i % n == 0:\n",
    "        gl.left_labels = False"
   ]
  }
 ],
 "metadata": {
  "kernelspec": {
   "display_name": "Python 3 (ipykernel)",
   "language": "python",
   "name": "python3"
  },
  "language_info": {
   "codemirror_mode": {
    "name": "ipython",
    "version": 3
   },
   "file_extension": ".py",
   "mimetype": "text/x-python",
   "name": "python",
   "nbconvert_exporter": "python",
   "pygments_lexer": "ipython3",
   "version": "3.9.18"
  }
 },
 "nbformat": 4,
 "nbformat_minor": 5
}
