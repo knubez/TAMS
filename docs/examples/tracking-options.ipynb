{
 "cells": [
  {
   "cell_type": "markdown",
   "id": "e2cbacf7-710f-4208-a14a-a4c4a43463d0",
   "metadata": {},
   "source": [
    "# Tracking options\n",
    "\n",
    "Exploring the impact of some of the tracking options for the sample datasets."
   ]
  },
  {
   "cell_type": "code",
   "execution_count": null,
   "id": "fc63f153-821a-4680-85d3-a9128c9be8b0",
   "metadata": {},
   "outputs": [],
   "source": [
    "import warnings\n",
    "from string import ascii_lowercase\n",
    "\n",
    "import cartopy.crs as ccrs\n",
    "import matplotlib as mpl\n",
    "import matplotlib.patheffects as path_effects\n",
    "import matplotlib.pyplot as plt\n",
    "import numpy as np\n",
    "import pandas as pd\n",
    "import seaborn as sns\n",
    "import xarray as xr\n",
    "\n",
    "import tams\n",
    "\n",
    "plt.rcParams.update(\n",
    "    {\n",
    "        \"axes.formatter.use_mathtext\": True,\n",
    "    }\n",
    ")\n",
    "\n",
    "%matplotlib inline\n",
    "\n",
    "xr.set_options(display_expand_data=False)"
   ]
  },
  {
   "cell_type": "markdown",
   "id": "4a004f2a-1c34-4285-925a-2b73e46a0769",
   "metadata": {},
   "source": [
    "## In sample satellite data"
   ]
  },
  {
   "cell_type": "code",
   "execution_count": null,
   "id": "57f5dd85-1fa5-4e96-a8d8-9c0464560da6",
   "metadata": {},
   "outputs": [],
   "source": [
    "tb = tams.load_example_tb()\n",
    "tb"
   ]
  },
  {
   "cell_type": "markdown",
   "id": "96a34a15-9431-46de-92a3-88f6fc478ca2",
   "metadata": {},
   "source": [
    "### Identify cloud elements (CEs)\n",
    "\n",
    "Our tracking options cases here are all in the tracking stage, so we only have to run {func}`tams.identify` once."
   ]
  },
  {
   "cell_type": "code",
   "execution_count": null,
   "id": "a08cb460-f0b5-45ab-83e6-bb5d14eadbd6",
   "metadata": {},
   "outputs": [],
   "source": [
    "%%time\n",
    "\n",
    "ces, _ = tams.identify(tb, parallel=False)\n",
    "# TODO: parallel not working on WSL with Win dir, getting `TypeError: cannot pickle '_thread.lock' object`"
   ]
  },
  {
   "cell_type": "markdown",
   "id": "433b07ec-3d7a-4807-b251-4676c2b55f08",
   "metadata": {},
   "source": [
    "### Run cases"
   ]
  },
  {
   "cell_type": "code",
   "execution_count": null,
   "id": "e38470d3-ae20-4377-b417-8ef2ee4bd635",
   "metadata": {},
   "outputs": [],
   "source": [
    "%%time\n",
    "\n",
    "cases = {}\n",
    "time = tb.time.values.tolist()\n",
    "\n",
    "proj = -15\n",
    "\n",
    "with warnings.catch_warnings():\n",
    "    warnings.filterwarnings(\"ignore\", message=\"forward `look` considered experimental\")\n",
    "    cases[\"default\"] = tams.track(ces, time)\n",
    "    cases[\"link=f, norm=min\"] = tams.track(ces, time, look=\"f\", overlap_norm=\"min\")\n",
    "    cases[\"link=f, norm=max\"] = tams.track(ces, time, look=\"f\", overlap_norm=\"max\")\n",
    "    cases[f\"u_proj={proj}\"] = tams.track(ces, time, u_projection=proj)\n",
    "    cases[f\"u_proj={proj}, link=f, norm=min\"] = tams.track(ces, time, u_projection=proj, look=\"f\", overlap_norm=\"min\")\n",
    "    cases[f\"u_proj={proj}, link=f, norm=max\"] = tams.track(ces, time, u_projection=proj, look=\"f\", overlap_norm=\"max\")\n",
    "\n",
    "for key, ce in cases.items():\n",
    "    cases[key] = tams.classify(ce)"
   ]
  },
  {
   "cell_type": "markdown",
   "id": "9f13f0b8-6aab-4b58-b059-8748f8acdb1a",
   "metadata": {},
   "source": [
    "### Plot"
   ]
  },
  {
   "cell_type": "code",
   "execution_count": null,
   "id": "2edfbc17-7ef1-4c26-abc6-eb401cd00dbe",
   "metadata": {},
   "outputs": [],
   "source": [
    "m, n = 2, 3\n",
    "assert len(cases) <= m * n\n",
    "\n",
    "# Restrict range\n",
    "# lon_min, lat_min, lon_max, lat_max = -10, 8, -3, 15\n",
    "# lon_min, lat_min, lon_max, lat_max = 17, 1, 27, 8\n",
    "# lon_min, lat_min, lon_max, lat_max = 20, 1, 27, 4\n",
    "lon_min, lat_min, lon_max, lat_max = 30, 10, 38, 16\n",
    "\n",
    "cases_full = []\n",
    "for key in cases:\n",
    "    d = {\"u_proj\": 0, \"link\": \"b\", \"norm\": \"a\"}\n",
    "    updates = {}\n",
    "    if key != \"default\":\n",
    "        for kv in key.split(\", \"):\n",
    "            k, v = kv.split(\"=\")\n",
    "            updates[k] = v\n",
    "        if \"norm\" not in updates and updates.get(\"link\", \"b\").startswith(\"f\"):\n",
    "            d[\"norm\"] = \"b\"\n",
    "    d.update(updates)\n",
    "    cases_full.append(d)\n",
    "tbl = pd.DataFrame(cases_full)\n",
    "tbl = tbl.assign(continued=False)\n",
    "\n",
    "for i, (_, ce) in enumerate(cases.items()):\n",
    "    n = ce.cx[lon_min:lon_max, lat_min:lat_max].mcs_id.nunique()\n",
    "    assert n in {1, 2}\n",
    "    if n == 1:\n",
    "        tbl.loc[i, \"continued\"] = True\n",
    "\n",
    "tams.plot_tracked(ce, label=\"none\", size=3.5, add_colorbar=True, cbar_kwargs=dict(fraction=0.05, shrink=0.3))\n",
    "\n",
    "ax = plt.gca()\n",
    "patch = mpl.patches.Polygon(\n",
    "    [(lon_min, lat_min), (lon_min, lat_max), (lon_max, lat_max), (lon_max, lat_min)],\n",
    "    ec=\"orangered\",\n",
    "    fill=False,\n",
    "    transform=ccrs.PlateCarree(),\n",
    ")\n",
    "ax.add_patch(patch)\n",
    "\n",
    "# proj = ccrs.PlateCarree()\n",
    "\n",
    "# fig, axs = plt.subplots(m, n, figsize=(8, 5), sharex=True, sharey=True, subplot_kw=dict(projection=proj), constrained_layout=True)\n",
    "\n",
    "# for i, ((key, ce), ax) in enumerate(zip(cases.items(), axs.flat)):\n",
    "#     if i == 0:\n",
    "#         assert key == \"default\"\n",
    "#         tams.plot_tracked(ce)\n",
    "    \n",
    "#     tams.plot_tracked(ce.cx[lon_min:lon_max, lat_min:lat_max], ax=ax)\n",
    "#     ax.text(0.03, 0.98, key, ha=\"left\", va=\"top\", transform=ax.transAxes, size=8)\n",
    "#     gl = ax.gridlines(draw_labels=True, color=\"none\")\n",
    "#     if not i < n:\n",
    "#         gl.top_labels = False\n",
    "#     if not i % n == 0:\n",
    "#         gl.left_labels = False\n",
    "\n",
    "with open(\"sat-tracking-options-table.txt\", \"w\") as f:\n",
    "    f.write(tbl.assign(continued=tbl.continued.map({True: \"y\", False: \"n\"})).style.to_latex())\n",
    "\n",
    "plt.savefig(\"sat-tracking-options-ces-box.pdf\", bbox_inches=\"tight\", pad_inches=0.05, transparent=False)"
   ]
  },
  {
   "cell_type": "markdown",
   "id": "bda62b52-4cc6-42e4-a42e-31f9301945dd",
   "metadata": {},
   "source": [
    "## In sample MPAS lat/lon dataset"
   ]
  },
  {
   "cell_type": "code",
   "execution_count": null,
   "id": "d19b2b80-8e2b-4541-a9f1-10a3d117afa3",
   "metadata": {},
   "outputs": [],
   "source": [
    "ds = tams.load_example_mpas().isel(time=slice(1, None)).rename_vars(tb=\"ctt\", precip=\"pr\")\n",
    "ds"
   ]
  },
  {
   "cell_type": "markdown",
   "id": "95010eee-cf3d-4fbf-b8c6-7ca39dfe329f",
   "metadata": {},
   "source": [
    "### Identify CEs using different CTT thresholds"
   ]
  },
  {
   "cell_type": "code",
   "execution_count": null,
   "id": "8d5067ae-2519-4700-adf5-39f3520abdf1",
   "metadata": {},
   "outputs": [],
   "source": [
    "%%time\n",
    "\n",
    "ctt = ds.ctt\n",
    "\n",
    "thresh = 235\n",
    "thresh_core = 219\n",
    "\n",
    "cases_ces = {}\n",
    "for delta in [-15, 0, 5]:\n",
    "    if delta == 0:\n",
    "        key = rf\"default ($T = {thresh}\\,\\mathrm{{K}}$, $T_\\mathrm{{core}} = {thresh_core}\\,\\mathrm{{K}}$)\"\n",
    "    else:\n",
    "        s_delta = str(delta) if delta <= 0 else f\"+{delta}\"\n",
    "        key = rf\"$(T, T_\\mathrm{{core}}) {s_delta}$\"\n",
    "    cases_ces[key] = tams.identify(ctt, parallel=True,\n",
    "        ctt_threshold=thresh + delta, ctt_core_threshold=thresh_core + delta)[0]"
   ]
  },
  {
   "cell_type": "markdown",
   "id": "9a2ddbe4-5e74-4268-ab37-6b6a893f2196",
   "metadata": {},
   "source": [
    "### Track for different $u$ projection values"
   ]
  },
  {
   "cell_type": "code",
   "execution_count": null,
   "id": "ee74efdb-ac8e-409e-b3f3-c193ad252f65",
   "metadata": {},
   "outputs": [],
   "source": [
    "%%time\n",
    "\n",
    "cases = {}\n",
    "time = ctt.time.values.tolist()\n",
    "\n",
    "projs = [-5, -10, -12]\n",
    "for proj in projs:\n",
    "    for thresh_key, ces in cases_ces.items():\n",
    "        key = rf\"{thresh_key}, $u_\\mathrm{{proj}} = {proj}\\,\\mathrm{{m}}\\,\\mathrm{{s}}^{{-1}}$\"\n",
    "        cases[key] = tams.track(ces, time, u_projection=proj)"
   ]
  },
  {
   "cell_type": "code",
   "execution_count": null,
   "id": "d5d973e1-989f-4beb-a13d-1ae1230197e0",
   "metadata": {},
   "outputs": [],
   "source": [
    "cases.keys()"
   ]
  },
  {
   "cell_type": "markdown",
   "id": "f582a079-1024-4485-8cc6-2448896a9a8e",
   "metadata": {},
   "source": [
    "### Plot"
   ]
  },
  {
   "cell_type": "code",
   "execution_count": null,
   "id": "da018ca9-36da-45cb-adcb-31538e8eabc9",
   "metadata": {},
   "outputs": [],
   "source": [
    "m = len(projs)\n",
    "n = 3\n",
    "assert m * n == len(cases)\n",
    "\n",
    "fig, axs = plt.subplots(m, n, figsize=(8.2, 7), sharex=True, sharey=True, constrained_layout=True)\n",
    "\n",
    "for a, (key, ce), ax in zip(ascii_lowercase, cases.items(), axs.flat):\n",
    "    n = ce.mcs_id.nunique()\n",
    "    # Dist of max area\n",
    "    x = ce.groupby(\"mcs_id\").area_km2.max()\n",
    "    x.plot.kde(ax=ax, label=\"CE\")\n",
    "    \n",
    "    mcs = ce.groupby([\"mcs_id\", \"itime\"]).area_km2.sum()\n",
    "    x2 = mcs.groupby(\"mcs_id\").max()\n",
    "    x2.plot.kde(ax=ax, label=\"MCS\")\n",
    "    \n",
    "    # ax.text(0.99, 0.98, f\"$N={n}$\", size=9, ha=\"right\", va=\"top\", transform=ax.transAxes)\n",
    "    ax.text(0.99, 0.03, f\"$N={n}$\", size=9, ha=\"right\", va=\"bottom\", transform=ax.transAxes)\n",
    "    \n",
    "    # ax.set_title(key, size=9)\n",
    "    i = key.index(\", $u_\")\n",
    "    l1, l2 = key[:i], key[i+2:]\n",
    "    if ax.get_subplotspec().is_first_col():\n",
    "        xt, yt = 0.02, 0.22\n",
    "    else:\n",
    "        xt, yt = 0.1, 0.97\n",
    "    ax.text(xt, yt, l1, size=10, ha=\"left\", va=\"top\", transform=ax.transAxes)\n",
    "    ax.text(xt, yt - 0.09, l2, size=10, ha=\"left\", va=\"top\", transform=ax.transAxes)\n",
    "    \n",
    "    ax.set_ylabel(\"\")\n",
    "    ax.text(0.02, 0.97, f\"{a}\", size=12, weight=\"bold\", ha=\"left\", va=\"top\", transform=ax.transAxes)\n",
    "    if a == \"c\":\n",
    "        ax.legend(loc=\"center right\")\n",
    "\n",
    "fig.supylabel(\"Density\", x=-0.03)\n",
    "fig.supxlabel(\"Area [km$^2$]\")\n",
    "\n",
    "# ax.set_xlim(xmin=0)\n",
    "ax.set_xlim(xmin=1000); ax.set_xscale(\"log\")\n",
    "ax.set_ylim(ymin=0)\n",
    "\n",
    "fig.savefig(\"mpas-tracking-options-area-kde.pdf\", bbox_inches=\"tight\", pad_inches=0.05, transparent=False)"
   ]
  },
  {
   "cell_type": "code",
   "execution_count": null,
   "id": "ff1289bc-13fc-4980-b95f-2593a42aa392",
   "metadata": {},
   "outputs": [],
   "source": [
    "# 2-D dist, duration and area\n",
    "\n",
    "m = len(projs)\n",
    "n = 3\n",
    "assert m * n == len(cases)\n",
    "\n",
    "fig, axs = plt.subplots(m, n, figsize=(8.2, 7), sharex=True, sharey=True, constrained_layout=True)\n",
    "\n",
    "for a, (key, ce), ax in zip(ascii_lowercase, cases.items(), axs.flat):\n",
    "    n = ce.mcs_id.nunique()\n",
    "    gb = ce.groupby(\"mcs_id\")\n",
    "    area = gb.area_km2.max()\n",
    "    dur = ((gb.time.max() - gb.time.min()).dt.total_seconds() / 3600).rename(\"duration_h\")\n",
    "    data = pd.concat([area, dur], axis=\"columns\")\n",
    "    \n",
    "    # sns.jointplot(x=\"area_km2\", y=\"duration_h\", kind=\"kde\", joint_kws=dict(fill=True), ax=ax, data=data)\n",
    "    sns.kdeplot(x=\"area_km2\", y=\"duration_h\", fill=True, common_norm=True, clip=(0, None), hue_norm=(0, 0.5), ax=ax, data=data)\n",
    "    # TODO: ensure same levels?\n",
    "    # sns.rugplot(x=\"area_km2\", y=\"duration_h\", ax=ax, data=data)\n",
    "    \n",
    "    #ax.text(0.99, 0.98, f\"$N={n}$\", size=9, ha=\"right\", va=\"top\", transform=ax.transAxes)\n",
    "    ax.text(0.99, 0.03, f\"$N={n}$\", size=9, ha=\"right\", va=\"bottom\",\n",
    "            path_effects=[path_effects.withStroke(linewidth=1.5, foreground=\"w\")],\n",
    "            transform=ax.transAxes)\n",
    "   \n",
    "    # ax.set_title(key, size=10)\n",
    "    i = key.index(\", $u_\")\n",
    "    l1, l2 = key[:i], key[i+2:]\n",
    "    xt, yt = 0.09, 0.975\n",
    "    kws = dict(size=10, ha=\"left\", va=\"top\", transform=ax.transAxes, path_effects=[path_effects.withStroke(linewidth=1.5, foreground=\"w\")])\n",
    "    ax.text(xt, yt, l1, **kws)\n",
    "    ax.text(xt, yt - 0.09, l2, **kws)\n",
    "    \n",
    "    ax.set_xlabel(\"\")\n",
    "    ax.set_ylabel(\"\")\n",
    "    ax.text(0.02, 0.97, f\"{a}\", size=12, weight=\"bold\", ha=\"left\", va=\"top\", transform=ax.transAxes,\n",
    "        path_effects=[path_effects.withStroke(linewidth=1.5, foreground=\"w\")],\n",
    "    )\n",
    "\n",
    "fig.supylabel(\"Duration [h]\", x=-0.03)\n",
    "fig.supxlabel(\"Area [km$^2$]\")\n",
    "\n",
    "ax.set_xlim(xmin=0, xmax=0.5e7)\n",
    "ax.set_ylim(ymin=0, ymax=30)\n",
    "\n",
    "fig.savefig(\"mpas-tracking-options-duration-area-2d-kde.pdf\", bbox_inches=\"tight\", pad_inches=0.05, transparent=False)"
   ]
  }
 ],
 "metadata": {
  "kernelspec": {
   "display_name": "Python 3 (ipykernel)",
   "language": "python",
   "name": "python3"
  },
  "language_info": {
   "codemirror_mode": {
    "name": "ipython",
    "version": 3
   },
   "file_extension": ".py",
   "mimetype": "text/x-python",
   "name": "python",
   "nbconvert_exporter": "python",
   "pygments_lexer": "ipython3",
   "version": "3.10.13"
  }
 },
 "nbformat": 4,
 "nbformat_minor": 5
}
