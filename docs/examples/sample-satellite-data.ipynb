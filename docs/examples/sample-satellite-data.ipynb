{
 "cells": [
  {
   "cell_type": "markdown",
   "metadata": {},
   "source": [
    "# Sample satellite data\n",
    "\n",
    "Some graphical tests of current primary functions using the {func}`sample satellite data <tams.load_example_tb>`."
   ]
  },
  {
   "cell_type": "code",
   "execution_count": null,
   "metadata": {
    "tags": [
     "hide-output"
    ]
   },
   "outputs": [],
   "source": [
    "import warnings\n",
    "\n",
    "import cartopy\n",
    "import cartopy.crs as ccrs\n",
    "import matplotlib.pyplot as plt\n",
    "import numpy as np\n",
    "import pandas as pd\n",
    "import regionmask\n",
    "import xarray as xr\n",
    "from xrframes import Frames\n",
    "from IPython.display import Image\n",
    "\n",
    "import tams\n",
    "\n",
    "warnings.filterwarnings(\"ignore\", category=cartopy.io.DownloadWarning)\n",
    "\n",
    "%matplotlib inline\n",
    "\n",
    "xr.set_options(display_expand_data=False)"
   ]
  },
  {
   "cell_type": "markdown",
   "metadata": {},
   "source": [
    "## Load data"
   ]
  },
  {
   "cell_type": "code",
   "execution_count": null,
   "metadata": {},
   "outputs": [],
   "source": [
    "tb = tams.load_example_tb().isel(time=slice(4))\n",
    "tb"
   ]
  },
  {
   "cell_type": "code",
   "execution_count": null,
   "metadata": {},
   "outputs": [],
   "source": [
    "tb.isel(time=0).plot(x=\"lon\", y=\"lat\", size=5, aspect=2.5);"
   ]
  },
  {
   "cell_type": "markdown",
   "metadata": {},
   "source": [
    "## Identify cloud elements (CEs)"
   ]
  },
  {
   "cell_type": "code",
   "execution_count": null,
   "metadata": {},
   "outputs": [],
   "source": [
    "times = tb.time\n",
    "contour_sets, contour_sets_219 = tams.identify(tb)\n",
    "contour_sets[0].head()"
   ]
  },
  {
   "cell_type": "code",
   "execution_count": null,
   "metadata": {},
   "outputs": [],
   "source": [
    "contour_sets_219[0].head()"
   ]
  },
  {
   "cell_type": "code",
   "execution_count": null,
   "metadata": {},
   "outputs": [],
   "source": [
    "# Simple plot to test 219 matching\n",
    "m, n = 0, 1  # time, contour #\n",
    "fig, ax = plt.subplots()\n",
    "c = contour_sets[m].iloc[[n]]\n",
    "c.plot(ax=ax)\n",
    "c.cs219.plot(color=\"red\", ax=ax, alpha=0.4);"
   ]
  },
  {
   "cell_type": "markdown",
   "metadata": {},
   "source": [
    "## Track CE groups between times"
   ]
  },
  {
   "cell_type": "code",
   "execution_count": null,
   "metadata": {},
   "outputs": [],
   "source": [
    "cs = tams.track(contour_sets, times, u_projection=-5).reset_index(drop=True)\n",
    "cs.head()"
   ]
  },
  {
   "cell_type": "code",
   "execution_count": null,
   "metadata": {},
   "outputs": [],
   "source": [
    "tams.plot_tracked(cs)"
   ]
  },
  {
   "cell_type": "code",
   "execution_count": null,
   "metadata": {},
   "outputs": [],
   "source": [
    "size = 2.5\n",
    "cx = cy = 3\n",
    "vmin, vmax = 190, 300\n",
    "\n",
    "if cx > 1 or cy > 1:\n",
    "    tb_ = tb.coarsen(x=cx, y=cy, boundary=\"trim\").mean()\n",
    "else:\n",
    "    tb_ = tb\n",
    "\n",
    "x0, x1 = tb_.lon.min().item(), tb_.lon.max().item()\n",
    "y0, y1 = tb_.lat.min().item(), tb_.lat.max().item()\n",
    "# extent = [x0, x1, y0, y1]\n",
    "extent = [-40, 50, 0, 20]\n",
    "\n",
    "aspect = (x1 - x0) / (y1 - y0)\n",
    "proj = ccrs.Mercator()\n",
    "tran = ccrs.PlateCarree()\n",
    "\n",
    "def plot(tb_i):\n",
    "    fig = plt.figure(figsize=(size * aspect, size + 1))\n",
    "    gs = fig.add_gridspec(\n",
    "        2, 2,\n",
    "        width_ratios=(1, 1), height_ratios=(aspect * 2 + 1, 1),\n",
    "        left=0.1, right=0.9, bottom=0.1, top=0.9,\n",
    "        wspace=0.05, hspace=0.18,\n",
    "    )\n",
    "\n",
    "    ax = fig.add_subplot(gs[0, :], projection=proj)\n",
    "    ax.set_extent(extent, crs=tran)\n",
    "    ax.gridlines(draw_labels=True)\n",
    "    ax.coastlines(color=\"orange\", alpha=0.5)\n",
    "\n",
    "    ax2 = fig.add_subplot(gs[1, 0])\n",
    "    ax3 = fig.add_subplot(gs[1, 1])\n",
    "\n",
    "    t = pd.Timestamp(tb_i.time.item())\n",
    "\n",
    "    # Background -- CTT\n",
    "    tb_i.plot(\n",
    "        x=\"lon\", y=\"lat\",\n",
    "        cmap=\"gray_r\", ax=ax, cbar_ax=ax2,\n",
    "        transform=tran,\n",
    "        cbar_kwargs=dict(orientation=\"horizontal\"),\n",
    "        vmin=vmin, vmax=vmax, extend=\"both\",\n",
    "    )\n",
    "\n",
    "    # CEs with colored precip (currently Tb)\n",
    "    shapes = cs.query(\"time == @t\")[[\"geometry\"]]\n",
    "    regions = regionmask.from_geopandas(shapes, overlap=False)\n",
    "    # NOTE: regionmask reports some overlap does exist\n",
    "    mask = regions.mask(tb_i)\n",
    "    masked = tb_i.where(mask >= 0)\n",
    "    masked.plot.pcolormesh(\n",
    "        x=\"lon\", y=\"lat\",\n",
    "        ax=ax, cbar_ax=ax3, transform=tran, alpha=0.6,\n",
    "        cbar_kwargs=dict(orientation=\"horizontal\"),\n",
    "        vmin=vmin, vmax=vmax, extend=\"both\",\n",
    "    )\n",
    "\n",
    "    # Tracks up to this time\n",
    "    for _, g in cs.groupby(\"mcs_id\"):\n",
    "        g_ = g[g.time <= t].dissolve(\"itime\")\n",
    "        c = g_.to_crs(\"EPSG:32663\").centroid.to_crs(\"EPSG:4326\")\n",
    "        ax.plot(c.x, c.y, \".-\", c=\"r\", lw=2, alpha=0.4, transform=tran)\n",
    "        c_t = c[g_.time == t]\n",
    "        if not c_t.empty:\n",
    "            ax.plot(c_t.x, c_t.y, \".\", c=\"r\", ms=8, transform=tran)\n",
    "\n",
    "    ax.set_title(\"\")\n",
    "    ax.set_title(f\"{t:%Y-%m-%d %HZ}\", loc=\"left\", size=11)\n",
    "\n",
    "frames = Frames(tb_, plot, dim=\"time\")\n",
    "frames.write(dpi=120)\n",
    "frames.to_gif(\"./tb.gif\", fps=1)\n",
    "\n",
    "Image(\"./tb.gif\")"
   ]
  },
  {
   "cell_type": "markdown",
   "metadata": {},
   "source": [
    "## Classify"
   ]
  },
  {
   "cell_type": "code",
   "execution_count": null,
   "metadata": {},
   "outputs": [],
   "source": [
    "cs = tams.classify(cs)\n",
    "cs.head()"
   ]
  }
 ],
 "metadata": {
  "interpreter": {
   "hash": "885a394a41be420c21ab9d2795ce09cbc1affa11e198c29d90693f20f11c214b"
  },
  "kernelspec": {
   "display_name": "Python 3 (ipykernel)",
   "language": "python",
   "name": "python3"
  },
  "language_info": {
   "codemirror_mode": {
    "name": "ipython",
    "version": 3
   },
   "file_extension": ".py",
   "mimetype": "text/x-python",
   "name": "python",
   "nbconvert_exporter": "python",
   "pygments_lexer": "ipython3",
   "version": "3.10.13"
  }
 },
 "nbformat": 4,
 "nbformat_minor": 4
}
