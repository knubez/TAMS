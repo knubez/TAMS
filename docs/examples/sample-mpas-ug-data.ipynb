{
 "cells": [
  {
   "cell_type": "markdown",
   "id": "0",
   "metadata": {},
   "source": [
    "# MPAS unstructured grid data\n",
    "\n",
    "In this example, we demonstrate CE identification with {func}`unstructured-grid data <tams.load_example_mpas_ug>` from MPAS\n",
    "and compare to the results using the {func}`regridded dataset <tams.load_example_mpas>`."
   ]
  },
  {
   "cell_type": "code",
   "execution_count": null,
   "id": "1",
   "metadata": {
    "tags": [
     "hide-output"
    ]
   },
   "outputs": [],
   "source": [
    "import warnings\n",
    "\n",
    "import cartopy\n",
    "import cartopy.crs as ccrs\n",
    "import cartopy.feature as cfeature\n",
    "import geopandas as gpd\n",
    "import matplotlib as mpl\n",
    "import matplotlib.pyplot as plt\n",
    "import numpy as np\n",
    "import pandas as pd\n",
    "import xarray as xr\n",
    "from matplotlib.tri import Triangulation\n",
    "\n",
    "import tams\n",
    "\n",
    "warnings.filterwarnings(\"ignore\", category=cartopy.io.DownloadWarning)\n",
    "\n",
    "%matplotlib inline\n",
    "\n",
    "xr.set_options(display_expand_data=False)"
   ]
  },
  {
   "cell_type": "markdown",
   "id": "2",
   "metadata": {},
   "source": [
    "## Load data"
   ]
  },
  {
   "cell_type": "code",
   "execution_count": null,
   "id": "3",
   "metadata": {},
   "outputs": [],
   "source": [
    "ds = tams.load_example_mpas_ug()\n",
    "ds"
   ]
  },
  {
   "cell_type": "code",
   "execution_count": null,
   "id": "4",
   "metadata": {},
   "outputs": [],
   "source": [
    "fig, ax = plt.subplots(figsize=(6, 3))\n",
    "\n",
    "sel = ds.isel(cell=slice(None, None, 20))\n",
    "ax.scatter(sel.lon, sel.lat, marker=\".\", s=10, alpha=0.5, edgecolors=\"none\")\n",
    "ax.set(xlabel=\"lon\", ylabel=\"lat\")\n",
    "ax.autoscale(tight=True)"
   ]
  },
  {
   "cell_type": "code",
   "execution_count": null,
   "id": "5",
   "metadata": {},
   "outputs": [],
   "source": [
    "%%time\n",
    "\n",
    "fig, ax = plt.subplots(figsize=(7.5, 3))\n",
    "\n",
    "im = ax.scatter(ds.lon, ds.lat, c=ds.tb.isel(time=10), marker=\".\", s=3, edgecolors=\"none\")\n",
    "fig.colorbar(im, ax=ax, label=\"Tb\")\n",
    "ax.autoscale(tight=True)\n",
    "ax.set(xlabel=\"lon\", ylabel=\"lat\")"
   ]
  },
  {
   "cell_type": "code",
   "execution_count": null,
   "id": "6",
   "metadata": {},
   "outputs": [],
   "source": [
    "ts = ds.mean(\"cell\", keep_attrs=True)\n",
    "\n",
    "fig, ax = plt.subplots(figsize=(6, 3))\n",
    "ax2 = ax.twinx()\n",
    "\n",
    "ts.tb.plot(ax=ax, c=\"orangered\")\n",
    "ts.precip.plot(ax=ax2, c=\"cornflowerblue\")\n",
    "ax.autoscale(axis=\"x\", tight=True)\n",
    "ax.grid(True)"
   ]
  },
  {
   "cell_type": "markdown",
   "id": "7",
   "metadata": {},
   "source": [
    "## Identify CEs"
   ]
  },
  {
   "cell_type": "code",
   "execution_count": null,
   "id": "8",
   "metadata": {},
   "outputs": [],
   "source": [
    "%%time\n",
    "\n",
    "itime = 10\n",
    "\n",
    "stime = pd.Timestamp(ds.time.values[itime]).strftime(r\"%Y-%m-%d_%H\")\n",
    "print(stime)\n",
    "\n",
    "x = ds.lon\n",
    "y = ds.lat\n",
    "tri = Triangulation(x, y)"
   ]
  },
  {
   "cell_type": "code",
   "execution_count": null,
   "id": "9",
   "metadata": {},
   "outputs": [],
   "source": [
    "%%time\n",
    "\n",
    "# Passing the triangulation in is not required but makes it faster\n",
    "shapes = tams.core._contours_to_gdf(tams.contours(ds.tb.isel(time=itime), value=235, triangulation=tri));"
   ]
  },
  {
   "cell_type": "code",
   "execution_count": null,
   "id": "10",
   "metadata": {},
   "outputs": [],
   "source": [
    "%%time\n",
    "\n",
    "# `tams.identify` does the above but also for the core threshold and does size filtering by default\n",
    "cs_ug, cs_ug_core = list(zip(*tams.identify(ds.tb.isel(time=itime))))[0]"
   ]
  },
  {
   "cell_type": "code",
   "execution_count": null,
   "id": "11",
   "metadata": {},
   "outputs": [],
   "source": [
    "%%time\n",
    "\n",
    "tran = ccrs.PlateCarree()\n",
    "proj = ccrs.PlateCarree()  # near equator\n",
    "\n",
    "fig, (ax1, ax2) = plt.subplots(2, 1, figsize=(10, 6), subplot_kw=dict(projection=proj), constrained_layout=True)\n",
    "\n",
    "ax = ax1\n",
    "\n",
    "ax.add_feature(cfeature.LAND)\n",
    "\n",
    "tcs = ax.tricontour(tri, ds.tb.isel(time=itime), levels=[235], colors=\"red\", linewidths=1, transform=tran)\n",
    "tcs_core = ax.tricontour(tri, ds.tb.isel(time=itime), levels=[219], colors=\"blue\", linewidths=1, transform=tran)\n",
    "\n",
    "shapes.plot(fc=\"none\", ec=\"green\", lw=1.5, ls=\":\", ax=ax, transform=tran)  # not size-filtered\n",
    "cs_ug.plot(fc=\"none\", ec=\"lawngreen\", lw=2, ax=ax, zorder=3, transform=tran)\n",
    "\n",
    "ax.gridlines(draw_labels=True)\n",
    "\n",
    "legend_handles = [\n",
    "    mpl.patches.Patch(color=\"red\", label=\"219 K contours\"),\n",
    "    mpl.patches.Patch(color=\"blue\", label=\"235 K contours\"),\n",
    "    mpl.patches.Patch(color=\"lawngreen\", label=\"CE polygons\"),\n",
    "]\n",
    "ax.legend(handles=legend_handles, loc=\"upper right\")\n",
    "\n",
    "ax = ax2\n",
    "\n",
    "ds_rg = tams.load_example_mpas().sel(lat=slice(None, 20))  # same lat upper bound as in the ug data\n",
    "\n",
    "ax.add_feature(cfeature.LAND)\n",
    "\n",
    "cs_rg, cs_rg_core = list(zip(*tams.identify(ds_rg.tb.isel(time=itime))))[0]\n",
    "\n",
    "a = cs_rg_core.plot(fc=\"none\", ec=\"royalblue\", lw=1.5, ls=\"--\", transform=tran, ax=ax)\n",
    "cs_ug_core.plot(fc=\"none\", ec=\"mediumblue\", lw=2, transform=tran, ax=ax)\n",
    "\n",
    "cs_rg.plot(fc=\"none\", ec=\"red\", lw=1.5, ls=\"--\", transform=tran, ax=ax)\n",
    "cs_ug.plot(fc=\"none\", ec=\"firebrick\", lw=2, zorder=3, transform=tran, ax=ax)\n",
    "\n",
    "legend_handles = [\n",
    "    mpl.lines.Line2D([], [], color=\"royalblue\", ls=\"--\", lw=1.5, label=\"Regridded | cold-core polygons\"),\n",
    "    mpl.lines.Line2D([], [], color=\"red\", ls=\"--\", lw=1.5, label=\"Regridded | CE polygons\"),\n",
    "    mpl.lines.Line2D([], [], color=\"mediumblue\", ls=\"-\", lw=2, label=\"Native | cold-core polygons\"),\n",
    "    mpl.lines.Line2D([], [], color=\"firebrick\", ls=\"-\", lw=2, label=\"Native | CE polygons\"),\n",
    "]\n",
    "\n",
    "gl = ax.gridlines(draw_labels=True)\n",
    "gl.top_labels = False\n",
    "# ax.autoscale(tight=True)\n",
    "ax.set_xlim(ax1.get_xlim()); ax.set_ylim(ax1.get_ylim())\n",
    "fig.legend(handles=legend_handles, ncol=2, loc=\"lower right\", bbox_to_anchor=[0, -0.09, 0.961, 1], frameon=False)\n",
    "\n",
    "for a, ax in zip(\"abc\", [ax1, ax2]):\n",
    "    ax.text(0.007, 0.98, a, weight=\"bold\", size=14, va=\"top\", ha=\"left\", transform=ax.transAxes)\n",
    "\n",
    "fig.savefig(f\"mpas-ug-contours-and-vs-rg-ces_{stime}.pdf\", bbox_inches=\"tight\", pad_inches=0.05, transparent=False)"
   ]
  },
  {
   "cell_type": "markdown",
   "id": "12",
   "metadata": {},
   "source": [
    "## Triangulations\n",
    "\n",
    "The above contouring is based on the [Delauney triangulation](https://en.wikipedia.org/wiki/Delaunay_triangulation).\n",
    "This connects the cell centers with straight lines to form triangles.\n",
    "But this triangulation doesn't correspond to the MPAS mesh, per se.\n",
    "\n",
    "MPAS-Tools, though, [provides a method](https://mpas-dev.github.io/MPAS-Tools/1.0.0/visualization.html#mpas-mesh-to-triangles) for dividing the mesh grid cells into triangles\n",
    "and interpolating data defined at cell centers (like OLR) to the triangle nodes.\n",
    "The triangle nodes include the cell centers (one per triangle)\n",
    "and the grid cell vertices (two per triangle).\n",
    "A hexagonal grid cell, e.g., is divided into 6 triangles,\n",
    "which all share the cell center as a node.\n",
    "\n",
    "We compared the contourings from these two methods.\n",
    "For our intents and purposes\n",
    "(identifying CEs with area ≥ 4000 km²),\n",
    "the differences appear to be negligible.\n",
    "The mesh horizontal resolution is 15 km,\n",
    "which seems to be sufficiently high that the Delauney triangulation is a good approximation.\n",
    "\n",
    "```{code-block} python\n",
    ":class: toggle\n",
    "\n",
    "# Code\n",
    "```\n",
    "\n",
    "![tricontour comparison zoomed](../_static/tri-compare_zoom.png)"
   ]
  },
  {
   "cell_type": "markdown",
   "id": "13",
   "metadata": {},
   "source": [
    "## Precip inside CE\n",
    "\n",
    "This figure is intended to demonstrate what {func}`tams.data_in_contours` does."
   ]
  },
  {
   "cell_type": "code",
   "execution_count": null,
   "id": "14",
   "metadata": {},
   "outputs": [],
   "source": [
    "ce = cs_ug.cx[138:145, -4:3]\n",
    "assert len(ce) == 1, \"just one CE\"\n",
    "\n",
    "fig, ax = plt.subplots(figsize=(5, 4), subplot_kw=dict(projection=proj), constrained_layout=True)\n",
    "\n",
    "ax.gridlines(draw_labels=True)\n",
    "ax.set_extent([137.5, 148, -4, 3], crs=tran)\n",
    "ax.add_feature(cfeature.LAND)\n",
    "\n",
    "# tcs = ax.tricontourf(tri, ds.tb.isel(time=itime), levels=20, cmap=\"viridis_r\", transform=tran)\n",
    "\n",
    "pr = ds.precip.isel(time=itime)\n",
    "s = ax.scatter(pr.lon, pr.lat, c=pr,\n",
    "    ec=\"none\", s=7,\n",
    "    cmap=\"viridis\", vmin=0, vmax=5, alpha=0.35,\n",
    "    transform=tran,\n",
    ")\n",
    "\n",
    "within = (\n",
    "    gpd.GeoDataFrame({\"pr\": pr}, geometry=gpd.points_from_xy(pr.lon, pr.lat, crs=4326))\n",
    "    .sjoin(ce[[\"geometry\"]], predicate=\"within\", how=\"left\")\n",
    "    .dropna(subset=\"index_right\")\n",
    ")\n",
    "within.plot(ax=ax, column=\"pr\", cmap=\"viridis\", vmin=0, vmax=5, markersize=12, edgecolor=\"none\")\n",
    "\n",
    "ce.plot(ax=ax, fc=\"none\", ec=\"magenta\", lw=2)\n",
    "\n",
    "# ce.set_geometry(\"cs219\").plot(ax=ax, fc=\"none\", ec=\"cyan\", lw=1.5)\n",
    "\n",
    "fig.colorbar(s, orientation=\"horizontal\", extend=\"max\", shrink=0.7, label=\"Precipitation rate [mm/hr]\")\n",
    "\n",
    "fig.savefig(f\"mpas-ug-points-within-example_{stime}.png\", dpi=200, bbox_inches=\"tight\", pad_inches=0.05, transparent=False)"
   ]
  },
  {
   "cell_type": "markdown",
   "id": "15",
   "metadata": {},
   "source": [
    "## Versions"
   ]
  },
  {
   "cell_type": "code",
   "execution_count": null,
   "id": "16",
   "metadata": {},
   "outputs": [],
   "source": [
    "%load_ext watermark"
   ]
  },
  {
   "cell_type": "code",
   "execution_count": null,
   "id": "17",
   "metadata": {},
   "outputs": [],
   "source": [
    "%watermark -v -w -p cartopy,dask,gdown,geopandas,joblib,matplotlib,netCDF4,numpy,pandas,regionmask,scipy,seaborn,shapely,skimage,xarray"
   ]
  }
 ],
 "metadata": {
  "kernelspec": {
   "display_name": "Python 3 (ipykernel)",
   "language": "python",
   "name": "python3"
  },
  "language_info": {
   "codemirror_mode": {
    "name": "ipython",
    "version": 3
   },
   "file_extension": ".py",
   "mimetype": "text/x-python",
   "name": "python",
   "nbconvert_exporter": "python",
   "pygments_lexer": "ipython3",
   "version": "3.10.13"
  }
 },
 "nbformat": 4,
 "nbformat_minor": 5
}
