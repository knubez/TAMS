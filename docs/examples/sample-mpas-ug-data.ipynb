{
 "cells": [
  {
   "cell_type": "markdown",
   "id": "d7b6b1ad-3ab4-494b-a76f-93b391a3f028",
   "metadata": {},
   "source": [
    "# MPAS unstructured grid data"
   ]
  },
  {
   "cell_type": "code",
   "execution_count": null,
   "id": "9c3986a8-51f9-4a8e-bdd7-01f6672a780c",
   "metadata": {},
   "outputs": [],
   "source": [
    "import matplotlib.pyplot as plt\n",
    "import numpy as np\n",
    "from matplotlib.tri import Triangulation\n",
    "\n",
    "import tams\n",
    "\n",
    "%matplotlib inline"
   ]
  },
  {
   "cell_type": "markdown",
   "id": "3bb91273-9857-479a-b2f4-be502cc52c1a",
   "metadata": {},
   "source": [
    "## Load data"
   ]
  },
  {
   "cell_type": "code",
   "execution_count": null,
   "id": "d552c7c5-b5fe-4bdb-b324-738a29453b78",
   "metadata": {},
   "outputs": [],
   "source": [
    "ds = tams.load_example_mpas_ug()\n",
    "ds"
   ]
  },
  {
   "cell_type": "code",
   "execution_count": null,
   "id": "5483b3a7-025e-47e7-9ff2-1c306fce00e8",
   "metadata": {},
   "outputs": [],
   "source": [
    "fig, ax = plt.subplots(figsize=(6, 3))\n",
    "\n",
    "sel = ds.isel(cell=slice(None, None, 20))\n",
    "ax.scatter(sel.lon, sel.lat, marker=\".\", s=10, alpha=0.5, edgecolors=\"none\")\n",
    "ax.set(xlabel=\"lon\", ylabel=\"lat\")\n",
    "ax.autoscale(tight=True)"
   ]
  },
  {
   "cell_type": "code",
   "execution_count": null,
   "id": "e416da1f-ee50-4887-afcf-c79a552f279c",
   "metadata": {},
   "outputs": [],
   "source": [
    "%%time\n",
    "\n",
    "fig, ax = plt.subplots(figsize=(7.5, 3))\n",
    "\n",
    "im = ax.scatter(ds.lon, ds.lat, c=ds.tb.isel(time=10), marker=\".\", s=3, edgecolors=\"none\")\n",
    "fig.colorbar(im, ax=ax, label=\"Tb\")\n",
    "ax.autoscale(tight=True)\n",
    "ax.set(xlabel=\"lon\", ylabel=\"lat\")"
   ]
  },
  {
   "cell_type": "code",
   "execution_count": null,
   "id": "6b852b14-b64d-4d20-9177-a224938ffab4",
   "metadata": {},
   "outputs": [],
   "source": [
    "ts = ds.mean(\"cell\", keep_attrs=True)\n",
    "\n",
    "fig, ax = plt.subplots(figsize=(6, 3))\n",
    "ax2 = ax.twinx()\n",
    "\n",
    "ts.tb.plot(ax=ax, c=\"orangered\")\n",
    "ts.precip.plot(ax=ax2, c=\"cornflowerblue\")\n",
    "ax.autoscale(axis=\"x\", tight=True)\n",
    "ax.grid(True)"
   ]
  },
  {
   "cell_type": "markdown",
   "id": "4b310c93-5c28-49aa-ab9c-2da1a3b66fe8",
   "metadata": {},
   "source": [
    "## Identify CEs"
   ]
  },
  {
   "cell_type": "code",
   "execution_count": null,
   "id": "e6df13ec-8401-4613-9368-a0aad169522c",
   "metadata": {},
   "outputs": [],
   "source": [
    "%%time\n",
    "\n",
    "itime = 10\n",
    "\n",
    "x = ds.lon\n",
    "y = ds.lat\n",
    "tri = Triangulation(x, y)"
   ]
  },
  {
   "cell_type": "code",
   "execution_count": null,
   "id": "3b78cb23-6cd4-4838-87c4-2a7b31780154",
   "metadata": {},
   "outputs": [],
   "source": [
    "%%time\n",
    "\n",
    "# Passing the triangulation in is not required but makes it faster\n",
    "shapes = tams.core._contours_to_gdf(tams.contours(ds.tb.isel(time=itime), value=235, triangulation=tri));"
   ]
  },
  {
   "cell_type": "code",
   "execution_count": null,
   "id": "87cd75b7-7563-4b74-8ebb-d4cf19c6e953",
   "metadata": {},
   "outputs": [],
   "source": [
    "%%time\n",
    "\n",
    "cs_ug, cs_ug_core = list(zip(*tams.identify(ds.tb.isel(time=10))))[0]"
   ]
  },
  {
   "cell_type": "code",
   "execution_count": null,
   "id": "95225bb2-0706-421c-bb92-1478f095b509",
   "metadata": {},
   "outputs": [],
   "source": [
    "fig, ax = plt.subplots(figsize=(12, 5))\n",
    "\n",
    "tcs = ax.tricontour(tri, ds.tb.isel(time=itime), levels=[235], colors=\"red\", linewidths=1)\n",
    "tcs_core = ax.tricontour(tri, ds.tb.isel(time=itime), levels=[219], colors=\"blue\", linewidths=1)\n",
    "\n",
    "shapes.plot(fc=\"none\", ec=\"green\", lw=1.5, ls=\":\", ax=ax)  # not size-filtered\n",
    "cs_ug.plot(fc=\"none\", ec=\"lawngreen\", lw=2, ax=ax, zorder=20)\n",
    "\n",
    "ax.set(xlabel=\"lon\", ylabel=\"lat\")"
   ]
  },
  {
   "cell_type": "code",
   "execution_count": null,
   "id": "3bb5b7f8-ebc6-40e8-b6e2-2614d66dd955",
   "metadata": {},
   "outputs": [],
   "source": [
    "ds_rg = tams.load_example_mpas().sel(lat=slice(None, 20))\n",
    "\n",
    "fig, ax = plt.subplots(figsize=(12, 5))\n",
    "\n",
    "cs_rg, cs_rg_core = list(zip(*tams.identify(ds_rg.tb.isel(time=itime))))[0]\n",
    "\n",
    "a = cs_rg_core.plot(fc=\"none\", ec=\"royalblue\", lw=1.5, ls=\"--\", ax=ax)\n",
    "cs_ug_core.plot(fc=\"none\", ec=\"mediumblue\", lw=2, ax=ax)\n",
    "\n",
    "cs_rg.plot(fc=\"none\", ec=\"red\", lw=1.5, ls=\"--\", ax=ax)\n",
    "cs_ug.plot(fc=\"none\", ec=\"firebrick\", lw=2, ax=ax)\n",
    "\n",
    "ax.set(xlabel=\"lon\", ylabel=\"lat\")"
   ]
  }
 ],
 "metadata": {
  "kernelspec": {
   "display_name": "Python 3 (ipykernel)",
   "language": "python",
   "name": "python3"
  },
  "language_info": {
   "codemirror_mode": {
    "name": "ipython",
    "version": 3
   },
   "file_extension": ".py",
   "mimetype": "text/x-python",
   "name": "python",
   "nbconvert_exporter": "python",
   "pygments_lexer": "ipython3",
   "version": "3.10.13"
  }
 },
 "nbformat": 4,
 "nbformat_minor": 5
}
