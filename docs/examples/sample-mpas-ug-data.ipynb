{
 "cells": [
  {
   "cell_type": "markdown",
   "id": "d7b6b1ad-3ab4-494b-a76f-93b391a3f028",
   "metadata": {},
   "source": [
    "# MPAS unstructured grid data\n",
    "\n",
    "In this example, we demonstrate CE identification with {func}`unstructured-grid data <tams.load_example_mpas_ug>` from MPAS\n",
    "and compare to the results using the {func}`regridded dataset <tams.load_example_mpas>`."
   ]
  },
  {
   "cell_type": "code",
   "execution_count": null,
   "id": "9c3986a8-51f9-4a8e-bdd7-01f6672a780c",
   "metadata": {
    "tags": [
     "hide-output"
    ]
   },
   "outputs": [],
   "source": [
    "import warnings\n",
    "\n",
    "import cartopy\n",
    "import cartopy.crs as ccrs\n",
    "import cartopy.feature as cfeature\n",
    "import matplotlib as mpl\n",
    "import matplotlib.pyplot as plt\n",
    "import numpy as np\n",
    "import pandas as pd\n",
    "import xarray as xr\n",
    "from matplotlib.tri import Triangulation\n",
    "\n",
    "import tams\n",
    "\n",
    "warnings.filterwarnings(\"ignore\", category=cartopy.io.DownloadWarning)\n",
    "\n",
    "%matplotlib inline\n",
    "\n",
    "xr.set_options(display_expand_data=False)"
   ]
  },
  {
   "cell_type": "markdown",
   "id": "3bb91273-9857-479a-b2f4-be502cc52c1a",
   "metadata": {},
   "source": [
    "## Load data"
   ]
  },
  {
   "cell_type": "code",
   "execution_count": null,
   "id": "d552c7c5-b5fe-4bdb-b324-738a29453b78",
   "metadata": {},
   "outputs": [],
   "source": [
    "ds = tams.load_example_mpas_ug()\n",
    "ds"
   ]
  },
  {
   "cell_type": "code",
   "execution_count": null,
   "id": "5483b3a7-025e-47e7-9ff2-1c306fce00e8",
   "metadata": {},
   "outputs": [],
   "source": [
    "fig, ax = plt.subplots(figsize=(6, 3))\n",
    "\n",
    "sel = ds.isel(cell=slice(None, None, 20))\n",
    "ax.scatter(sel.lon, sel.lat, marker=\".\", s=10, alpha=0.5, edgecolors=\"none\")\n",
    "ax.set(xlabel=\"lon\", ylabel=\"lat\")\n",
    "ax.autoscale(tight=True)"
   ]
  },
  {
   "cell_type": "code",
   "execution_count": null,
   "id": "e416da1f-ee50-4887-afcf-c79a552f279c",
   "metadata": {},
   "outputs": [],
   "source": [
    "%%time\n",
    "\n",
    "fig, ax = plt.subplots(figsize=(7.5, 3))\n",
    "\n",
    "im = ax.scatter(ds.lon, ds.lat, c=ds.tb.isel(time=10), marker=\".\", s=3, edgecolors=\"none\")\n",
    "fig.colorbar(im, ax=ax, label=\"Tb\")\n",
    "ax.autoscale(tight=True)\n",
    "ax.set(xlabel=\"lon\", ylabel=\"lat\")"
   ]
  },
  {
   "cell_type": "code",
   "execution_count": null,
   "id": "6b852b14-b64d-4d20-9177-a224938ffab4",
   "metadata": {},
   "outputs": [],
   "source": [
    "ts = ds.mean(\"cell\", keep_attrs=True)\n",
    "\n",
    "fig, ax = plt.subplots(figsize=(6, 3))\n",
    "ax2 = ax.twinx()\n",
    "\n",
    "ts.tb.plot(ax=ax, c=\"orangered\")\n",
    "ts.precip.plot(ax=ax2, c=\"cornflowerblue\")\n",
    "ax.autoscale(axis=\"x\", tight=True)\n",
    "ax.grid(True)"
   ]
  },
  {
   "cell_type": "markdown",
   "id": "4b310c93-5c28-49aa-ab9c-2da1a3b66fe8",
   "metadata": {},
   "source": [
    "## Identify CEs"
   ]
  },
  {
   "cell_type": "code",
   "execution_count": null,
   "id": "e6df13ec-8401-4613-9368-a0aad169522c",
   "metadata": {},
   "outputs": [],
   "source": [
    "%%time\n",
    "\n",
    "itime = 10\n",
    "\n",
    "stime = pd.Timestamp(ds.time.values[itime]).strftime(r\"%Y-%m-%d_%H\")\n",
    "print(stime)\n",
    "\n",
    "x = ds.lon\n",
    "y = ds.lat\n",
    "tri = Triangulation(x, y)"
   ]
  },
  {
   "cell_type": "code",
   "execution_count": null,
   "id": "3b78cb23-6cd4-4838-87c4-2a7b31780154",
   "metadata": {},
   "outputs": [],
   "source": [
    "%%time\n",
    "\n",
    "# Passing the triangulation in is not required but makes it faster\n",
    "shapes = tams.core._contours_to_gdf(tams.contours(ds.tb.isel(time=itime), value=235, triangulation=tri));"
   ]
  },
  {
   "cell_type": "code",
   "execution_count": null,
   "id": "87cd75b7-7563-4b74-8ebb-d4cf19c6e953",
   "metadata": {},
   "outputs": [],
   "source": [
    "%%time\n",
    "\n",
    "# `tams.identify` does the above but also for the core threshold and does size filtering by default\n",
    "cs_ug, cs_ug_core = list(zip(*tams.identify(ds.tb.isel(time=10))))[0]"
   ]
  },
  {
   "cell_type": "code",
   "execution_count": null,
   "id": "95225bb2-0706-421c-bb92-1478f095b509",
   "metadata": {},
   "outputs": [],
   "source": [
    "%%time\n",
    "\n",
    "tran = ccrs.PlateCarree()\n",
    "proj = ccrs.PlateCarree()  # near equator\n",
    "\n",
    "fig, (ax1, ax2) = plt.subplots(2, 1, figsize=(10, 6), subplot_kw=dict(projection=proj), constrained_layout=True)\n",
    "\n",
    "ax = ax1\n",
    "\n",
    "ax.add_feature(cfeature.LAND)\n",
    "\n",
    "tcs = ax.tricontour(tri, ds.tb.isel(time=itime), levels=[235], colors=\"red\", linewidths=1, transform=tran)\n",
    "tcs_core = ax.tricontour(tri, ds.tb.isel(time=itime), levels=[219], colors=\"blue\", linewidths=1, transform=tran)\n",
    "\n",
    "shapes.plot(fc=\"none\", ec=\"green\", lw=1.5, ls=\":\", ax=ax, transform=tran)  # not size-filtered\n",
    "cs_ug.plot(fc=\"none\", ec=\"lawngreen\", lw=2, ax=ax, zorder=3, transform=tran)\n",
    "\n",
    "ax.gridlines(draw_labels=True)\n",
    "\n",
    "legend_handles = [\n",
    "    mpl.patches.Patch(color=\"red\", label=\"219 K contours\"),\n",
    "    mpl.patches.Patch(color=\"blue\", label=\"235 K contours\"),\n",
    "    mpl.patches.Patch(color=\"lawngreen\", label=\"CE polygons\"),\n",
    "]\n",
    "ax.legend(handles=legend_handles, loc=\"upper right\")\n",
    "\n",
    "ax = ax2\n",
    "\n",
    "ds_rg = tams.load_example_mpas().sel(lat=slice(None, 20))  # same lat upper bound as in the ug data\n",
    "\n",
    "ax.add_feature(cfeature.LAND)\n",
    "\n",
    "cs_rg, cs_rg_core = list(zip(*tams.identify(ds_rg.tb.isel(time=itime))))[0]\n",
    "\n",
    "a = cs_rg_core.plot(fc=\"none\", ec=\"royalblue\", lw=1.5, ls=\"--\", transform=tran, ax=ax)\n",
    "cs_ug_core.plot(fc=\"none\", ec=\"mediumblue\", lw=2, transform=tran, ax=ax)\n",
    "\n",
    "cs_rg.plot(fc=\"none\", ec=\"red\", lw=1.5, ls=\"--\", transform=tran, ax=ax)\n",
    "cs_ug.plot(fc=\"none\", ec=\"firebrick\", lw=2, zorder=3, transform=tran, ax=ax)\n",
    "\n",
    "legend_handles = [\n",
    "    mpl.lines.Line2D([], [], color=\"royalblue\", ls=\"--\", lw=1.5, label=\"Regridded | cold-core polygons\"),\n",
    "    mpl.lines.Line2D([], [], color=\"red\", ls=\"--\", lw=1.5, label=\"Regridded | CE polygons\"),\n",
    "    mpl.lines.Line2D([], [], color=\"mediumblue\", ls=\"-\", lw=2, label=\"Native | cold-core polygons\"),\n",
    "    mpl.lines.Line2D([], [], color=\"firebrick\", ls=\"-\", lw=2, label=\"Native | CE polygons\"),\n",
    "]\n",
    "\n",
    "gl = ax.gridlines(draw_labels=True)\n",
    "gl.top_labels = False\n",
    "# ax.autoscale(tight=True)\n",
    "ax.set_xlim(ax1.get_xlim()); ax.set_ylim(ax1.get_ylim())\n",
    "fig.legend(handles=legend_handles, ncol=2, loc=\"lower right\", bbox_to_anchor=[0, -0.09, 0.961, 1], frameon=False)\n",
    "\n",
    "for a, ax in zip(\"abc\", [ax1, ax2]):\n",
    "    ax.text(0.007, 0.98, a, weight=\"bold\", size=14, va=\"top\", ha=\"left\", transform=ax.transAxes)\n",
    "\n",
    "fig.savefig(f\"mpas-ug-contours-and-vs-rg-ces_{stime}.pdf\", bbox_inches=\"tight\", pad_inches=0.05, transparent=False)"
   ]
  }
 ],
 "metadata": {
  "kernelspec": {
   "display_name": "Python 3 (ipykernel)",
   "language": "python",
   "name": "python3"
  },
  "language_info": {
   "codemirror_mode": {
    "name": "ipython",
    "version": 3
   },
   "file_extension": ".py",
   "mimetype": "text/x-python",
   "name": "python",
   "nbconvert_exporter": "python",
   "pygments_lexer": "ipython3",
   "version": "3.10.13"
  }
 },
 "nbformat": 4,
 "nbformat_minor": 5
}
