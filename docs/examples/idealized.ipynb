{
 "cells": [
  {
   "cell_type": "code",
   "execution_count": null,
   "id": "0",
   "metadata": {},
   "outputs": [],
   "source": [
    "import geopandas as gpd\n",
    "import matplotlib.pyplot as plt\n",
    "\n",
    "import tams\n",
    "from tams.idealized import Blob, Field, Sim"
   ]
  },
  {
   "cell_type": "code",
   "execution_count": null,
   "id": "1",
   "metadata": {},
   "outputs": [],
   "source": [
    "Blob().get_tendency()"
   ]
  },
  {
   "cell_type": "code",
   "execution_count": null,
   "id": "2",
   "metadata": {},
   "outputs": [],
   "source": [
    "Blob().polygon"
   ]
  },
  {
   "cell_type": "code",
   "execution_count": null,
   "id": "3",
   "metadata": {},
   "outputs": [],
   "source": [
    "Blob(c=(1, 2)).split()"
   ]
  },
  {
   "cell_type": "code",
   "execution_count": null,
   "id": "4",
   "metadata": {},
   "outputs": [],
   "source": [
    "Field(Blob(c=(1, 2), a=3, b=1, theta=20).split(3)).to_geopandas().plot(fc=\"none\")"
   ]
  },
  {
   "cell_type": "code",
   "execution_count": null,
   "id": "5",
   "metadata": {},
   "outputs": [],
   "source": [
    "b1 = Blob(a=3, b=1, theta=30)\n",
    "b2 = Blob(a=4, b=2)\n",
    "b3 = b1.merge(b2)\n",
    "\n",
    "Field([b1, b2, b3]).to_geopandas().plot(fc=\"none\")"
   ]
  },
  {
   "cell_type": "code",
   "execution_count": null,
   "id": "6",
   "metadata": {},
   "outputs": [],
   "source": [
    "Field()"
   ]
  },
  {
   "cell_type": "code",
   "execution_count": null,
   "id": "7",
   "metadata": {},
   "outputs": [],
   "source": [
    "%%time\n",
    "\n",
    "b = Blob(c=(0, 0), a=5, b=3)\n",
    "\n",
    "ctt = Field(b).to_xarray()\n",
    "\n",
    "(ce,), _ = tams.identify(ctt)\n",
    "\n",
    "fig, ax = plt.subplots(figsize=(10, 6))\n",
    "\n",
    "ctt.plot(ax=ax)\n",
    "gpd.GeoSeries(b.ring).plot(ec=\"magenta\", ax=ax)\n",
    "\n",
    "ce.plot(ax=ax, lw=2.5, ls=\":\", ec=\"black\", fc=\"none\", zorder=10)\n",
    "\n",
    "ax.set_aspect(\"equal\")"
   ]
  },
  {
   "cell_type": "code",
   "execution_count": null,
   "id": "8",
   "metadata": {},
   "outputs": [],
   "source": [
    "fig, [ax1, ax2] = plt.subplots(1, 2, figsize=(8, 4), sharex=True, sharey=True, layout=\"constrained\")\n",
    "\n",
    "ctt.sel(lat=0, method=\"nearest\").plot(ax=ax1)\n",
    "ctt.sel(lon=0, method=\"nearest\").plot(ax=ax2)\n",
    "\n",
    "ax2.set_ylabel(\"\")\n",
    "for ax in fig.get_axes():\n",
    "    ax.axhline(235, c=\"0.35\", ls=\":\")"
   ]
  },
  {
   "cell_type": "code",
   "execution_count": null,
   "id": "9",
   "metadata": {},
   "outputs": [],
   "source": [
    "# Flipping depth and making CTT threshold greater than the background,\n",
    "# we can get a reverse well.\n",
    "ctt = Field(\n",
    "    Blob(c=(0, 0), a=5, b=3, depth=-20)\n",
    ").to_xarray(ctt_threshold=300)\n",
    "\n",
    "# TAMS will still identify if we adjust the thresholds accordingly\n",
    "(ce,), _ = tams.identify(ctt, ctt_threshold=300, ctt_core_threshold=310)\n",
    "\n",
    "fig, ax = plt.subplots()\n",
    "\n",
    "ctt.plot(ax=ax)\n",
    "ce.plot(ax=ax, lw=2.5, ls=\":\", ec=\"black\", fc=\"none\")"
   ]
  },
  {
   "cell_type": "code",
   "execution_count": null,
   "id": "10",
   "metadata": {},
   "outputs": [],
   "source": [
    "fld = Field(\n",
    "    [\n",
    "        Blob(c=(0, 0), a=5, b=3),\n",
    "        Blob(c=(5, 0), a=5, b=3),\n",
    "    ]\n",
    ")\n",
    "\n",
    "fig, [ax1, ax2] = plt.subplots(2, 1, figsize=(8, 6), sharex=True, sharey=True, layout=\"constrained\")\n",
    "\n",
    "kws = dict(vmin=170, vmax=270)\n",
    "for ax, ctt in zip([ax1, ax2], [fld.to_xarray(), fld.to_xarray(additive=True)]):\n",
    "    ctt.plot(ax=ax, **kws)\n",
    "    ax.text(0.01, 0.98, f\"min: {ctt.min().item():.2f}\", ha=\"left\", va=\"top\", transform=ax.transAxes)\n",
    "    (ce,), _ = tams.identify(ctt)\n",
    "    ce.plot(ax=ax, lw=2.5, ls=\":\", ec=\"black\", fc=\"none\")\n",
    "\n",
    "ax1.set_xlabel(\"\")\n",
    "\n",
    "for ax in [ax1, ax2]:\n",
    "    ax.set_aspect(\"equal\")"
   ]
  },
  {
   "cell_type": "code",
   "execution_count": null,
   "id": "11",
   "metadata": {},
   "outputs": [],
   "source": [
    "# Nothing\n",
    "Sim().advance(2).to_xarray().plot(col=\"time\")"
   ]
  },
  {
   "cell_type": "code",
   "execution_count": null,
   "id": "12",
   "metadata": {},
   "outputs": [],
   "source": [
    "%%time\n",
    "\n",
    "ctt = Sim(\n",
    "    Field(\n",
    "        [\n",
    "            Blob(a=5).set_tendency(c=(2, 0)),\n",
    "            Blob(c=(-20, -10), a=3).set_tendency(c=(5, 3), a=1),\n",
    "        ],\n",
    "        lat=(-15, 15, 61),\n",
    "    ),\n",
    ").advance(9).to_xarray()\n",
    "\n",
    "ces, _ = tams.identify(ctt)\n",
    "\n",
    "fg = ctt.plot(col=\"time\", cmap=\"inferno_r\", col_wrap=5, aspect=1.35)\n",
    "for ce, ax in zip(ces, fg.axs.flat):\n",
    "    ce.plot(ax=ax, lw=2, ec=\"w\", fc=\"none\")"
   ]
  }
 ],
 "metadata": {
  "kernelspec": {
   "display_name": "Python 3 (ipykernel)",
   "language": "python",
   "name": "python3"
  },
  "language_info": {
   "codemirror_mode": {
    "name": "ipython",
    "version": 3
   },
   "file_extension": ".py",
   "mimetype": "text/x-python",
   "name": "python",
   "nbconvert_exporter": "python",
   "pygments_lexer": "ipython3",
   "version": "3.10.17"
  }
 },
 "nbformat": 4,
 "nbformat_minor": 5
}
