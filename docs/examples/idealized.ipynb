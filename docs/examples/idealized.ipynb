{
 "cells": [
  {
   "cell_type": "code",
   "execution_count": null,
   "id": "0",
   "metadata": {},
   "outputs": [],
   "source": [
    "import geopandas as gpd\n",
    "import matplotlib.pyplot as plt\n",
    "\n",
    "import tams\n",
    "from tams.idealized import Blob, Field"
   ]
  },
  {
   "cell_type": "code",
   "execution_count": null,
   "id": "1",
   "metadata": {},
   "outputs": [],
   "source": [
    "Blob().get_tendency()"
   ]
  },
  {
   "cell_type": "code",
   "execution_count": null,
   "id": "2",
   "metadata": {},
   "outputs": [],
   "source": [
    "Blob().polygon"
   ]
  },
  {
   "cell_type": "code",
   "execution_count": null,
   "id": "3",
   "metadata": {},
   "outputs": [],
   "source": [
    "Blob(c=(1, 2)).split()"
   ]
  },
  {
   "cell_type": "code",
   "execution_count": null,
   "id": "4",
   "metadata": {},
   "outputs": [],
   "source": [
    "Field(Blob(c=(1, 2), a=3, b=1, theta=20).split(3)).to_geopandas().plot(fc=\"none\")"
   ]
  },
  {
   "cell_type": "code",
   "execution_count": null,
   "id": "5",
   "metadata": {},
   "outputs": [],
   "source": [
    "b1 = Blob(a=3, b=1, theta=30)\n",
    "b2 = Blob(a=4, b=2)\n",
    "display(b1.ring)\n",
    "display(b2.ring)\n",
    "b3 = b1.merge(b2)\n",
    "display(b3.ring)"
   ]
  },
  {
   "cell_type": "code",
   "execution_count": null,
   "id": "6",
   "metadata": {},
   "outputs": [],
   "source": [
    "Field()"
   ]
  },
  {
   "cell_type": "code",
   "execution_count": null,
   "id": "7",
   "metadata": {},
   "outputs": [],
   "source": [
    "%%time\n",
    "\n",
    "b = Blob(c=(0, 0), a=5, b=3)\n",
    "\n",
    "ctt = Field(b).to_xarray()\n",
    "\n",
    "(ce,), _ = tams.identify(ctt)\n",
    "\n",
    "fig, ax = plt.subplots(figsize=(10, 6))\n",
    "\n",
    "ctt.plot(ax=ax)\n",
    "gpd.GeoSeries(b.ring).plot(ec=\"magenta\", ax=ax)\n",
    "\n",
    "ce.plot(ax=ax, lw=2.5, ls=\":\", ec=\"black\", fc=\"none\", zorder=10)\n",
    "\n",
    "ax.set_aspect(\"equal\")"
   ]
  },
  {
   "cell_type": "code",
   "execution_count": null,
   "id": "8",
   "metadata": {},
   "outputs": [],
   "source": [
    "fig, [ax1, ax2] = plt.subplots(1, 2, figsize=(8, 4), sharex=True, sharey=True, layout=\"constrained\")\n",
    "\n",
    "ctt.sel(lat=0, method=\"nearest\").plot(ax=ax1)\n",
    "ctt.sel(lon=0, method=\"nearest\").plot(ax=ax2)\n",
    "\n",
    "ax2.set_ylabel(\"\")\n",
    "for ax in fig.get_axes():\n",
    "    ax.axhline(235, c=\"0.35\", ls=\":\")"
   ]
  }
 ],
 "metadata": {
  "kernelspec": {
   "display_name": "Python 3 (ipykernel)",
   "language": "python",
   "name": "python3"
  },
  "language_info": {
   "codemirror_mode": {
    "name": "ipython",
    "version": 3
   },
   "file_extension": ".py",
   "mimetype": "text/x-python",
   "name": "python",
   "nbconvert_exporter": "python",
   "pygments_lexer": "ipython3",
   "version": "3.10.17"
  }
 },
 "nbformat": 4,
 "nbformat_minor": 5
}
