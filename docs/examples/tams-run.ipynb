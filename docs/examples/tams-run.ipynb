{
 "cells": [
  {
   "cell_type": "markdown",
   "id": "6922ca63-d1a4-43f7-8fc2-68e6851984c4",
   "metadata": {},
   "source": [
    "# {func}`tams.run`\n",
    "\n",
    "{func}`tams.run` is a convenience function that does\n",
    "\n",
    "1. {func}`tams.identify`\n",
    "2. {func}`tams.track`\n",
    "3. {func}`tams.classify`\n",
    "4. aggregation and statistics\n",
    "\n",
    "Using a selection of the {func}`example post-processed MPAS data <tams.load_example_mpas>`,\n",
    "we investigate its outputs."
   ]
  },
  {
   "cell_type": "code",
   "execution_count": null,
   "id": "3206baa9-1b54-4376-ba90-e465fefaa967",
   "metadata": {
    "tags": [
     "hide-output"
    ]
   },
   "outputs": [],
   "source": [
    "import xarray as xr\n",
    "\n",
    "import tams\n",
    "\n",
    "xr.set_options(display_expand_data=False)"
   ]
  },
  {
   "cell_type": "markdown",
   "id": "daee10a9-849a-483a-b2de-0e78e20b467f",
   "metadata": {},
   "source": [
    "{func}`tams.run` expects certain variable names."
   ]
  },
  {
   "cell_type": "code",
   "execution_count": null,
   "id": "9357c333-56fa-4e6e-9199-4e9b43725c4d",
   "metadata": {},
   "outputs": [],
   "source": [
    "ds = tams.load_example_mpas().rename({\"tb\": \"ctt\", \"precip\": \"pr\"}).isel(time=slice(1, 13))\n",
    "ds"
   ]
  },
  {
   "cell_type": "markdown",
   "id": "c392020f-4ec0-4ede-8d49-6858a5a8e92f",
   "metadata": {},
   "source": [
    "{func}`tams.run` produces three output datasets."
   ]
  },
  {
   "cell_type": "code",
   "execution_count": null,
   "id": "b893bba8-3603-446f-8609-cc39e9a504a3",
   "metadata": {
    "editable": true,
    "slideshow": {
     "slide_type": ""
    },
    "tags": [
     "hide-output"
    ]
   },
   "outputs": [],
   "source": [
    "%%time\n",
    "\n",
    "ce, mcs, mcs_summary = tams.run(ds, parallel=True)"
   ]
  },
  {
   "cell_type": "markdown",
   "id": "6ed73b98-9087-443c-aab3-4495fb0f1187",
   "metadata": {},
   "source": [
    "## CE dataset\n",
    "\n",
    "Identified cloud elements (CEs). Tracking has added `mcs_id`; classification has added `mcs_class`.\n",
    "\n",
    "Each row corresponds to a CE--time that belongs to an MCS. A certain MCS at a given time may include multiple CEs.  "
   ]
  },
  {
   "cell_type": "code",
   "execution_count": null,
   "id": "4a35b4cf-2525-4285-8606-d769f5444082",
   "metadata": {},
   "outputs": [],
   "source": [
    "ce"
   ]
  },
  {
   "cell_type": "code",
   "execution_count": null,
   "id": "8a96cddf-5a05-4a67-beca-565715b69c4a",
   "metadata": {},
   "outputs": [],
   "source": [
    "ce.info()"
   ]
  },
  {
   "cell_type": "code",
   "execution_count": null,
   "id": "dcb6b436-c0ee-4f8a-b117-a90ddc41f588",
   "metadata": {},
   "outputs": [],
   "source": [
    "ce.area_km2.describe()"
   ]
  },
  {
   "cell_type": "markdown",
   "id": "2bf1e67c-1774-457e-bd9b-ef87f06bfc5d",
   "metadata": {},
   "source": [
    "## MCS dataset\n",
    "\n",
    "At each time, CEs with the same MCS ID are combined into one.\n",
    "\n",
    "Some statistics of precip (`pr`) and cloud-top temperature (`ctt`) within the MCS areas are included.\n",
    "\n",
    "Each row corresponds to an MCS--time."
   ]
  },
  {
   "cell_type": "code",
   "execution_count": null,
   "id": "3fffdcfe-6208-4cca-b8a1-f0d208f7a3e8",
   "metadata": {},
   "outputs": [],
   "source": [
    "mcs"
   ]
  },
  {
   "cell_type": "code",
   "execution_count": null,
   "id": "05461c0c-7f00-481c-ab8b-52a7f43bbc27",
   "metadata": {},
   "outputs": [],
   "source": [
    "mcs.info()"
   ]
  },
  {
   "cell_type": "markdown",
   "id": "12b3a841-a75f-4295-90cf-cbb693545cfd",
   "metadata": {},
   "source": [
    "## MCS summary dataset\n",
    "\n",
    "No more shapes (just first and last centroid points).\n",
    "\n",
    "Each row corresponds to an MCS, including some statistics for the track such as the MCS's duration and initial and final coordinates."
   ]
  },
  {
   "cell_type": "code",
   "execution_count": null,
   "id": "8a8fd606-3924-47af-9d13-8063e6090d31",
   "metadata": {},
   "outputs": [],
   "source": [
    "mcs_summary"
   ]
  },
  {
   "cell_type": "code",
   "execution_count": null,
   "id": "38aff990-93aa-45e1-9897-00a51c17ed4e",
   "metadata": {},
   "outputs": [],
   "source": [
    "mcs_summary.info()"
   ]
  },
  {
   "cell_type": "code",
   "execution_count": null,
   "id": "dad5a677-1699-41d1-8e1b-93a36128577a",
   "metadata": {},
   "outputs": [],
   "source": [
    "mcs_summary.describe()"
   ]
  }
 ],
 "metadata": {
  "kernelspec": {
   "display_name": "Python 3 (ipykernel)",
   "language": "python",
   "name": "python3"
  },
  "language_info": {
   "codemirror_mode": {
    "name": "ipython",
    "version": 3
   },
   "file_extension": ".py",
   "mimetype": "text/x-python",
   "name": "python",
   "nbconvert_exporter": "python",
   "pygments_lexer": "ipython3",
   "version": "3.10.13"
  }
 },
 "nbformat": 4,
 "nbformat_minor": 5
}
