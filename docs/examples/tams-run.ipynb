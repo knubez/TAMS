{
 "cells": [
  {
   "cell_type": "markdown",
   "id": "0",
   "metadata": {},
   "source": [
    "# `tams.run()`\n",
    "\n",
    "{func}`tams.run` is a convenience function that does\n",
    "\n",
    "1. {func}`tams.identify`\n",
    "2. {func}`tams.track`\n",
    "3. {func}`tams.classify`\n",
    "4. aggregation and statistics\n",
    "\n",
    "Using a selection of the {func}`example post-processed MPAS data <tams.load_example_mpas>`,\n",
    "we investigate its outputs."
   ]
  },
  {
   "cell_type": "code",
   "execution_count": null,
   "id": "1",
   "metadata": {
    "tags": [
     "hide-output"
    ]
   },
   "outputs": [],
   "source": [
    "import xarray as xr\n",
    "\n",
    "import tams\n",
    "\n",
    "xr.set_options(display_expand_data=False)"
   ]
  },
  {
   "cell_type": "markdown",
   "id": "2",
   "metadata": {},
   "source": [
    "{func}`tams.run` expects certain variable names."
   ]
  },
  {
   "cell_type": "code",
   "execution_count": null,
   "id": "3",
   "metadata": {},
   "outputs": [],
   "source": [
    "ds = tams.data.open_example(\"mpas-regridded\").rename({\"tb\": \"ctt\"}).isel(time=slice(1, 13))\n",
    "ds"
   ]
  },
  {
   "cell_type": "markdown",
   "id": "4",
   "metadata": {},
   "source": [
    "{func}`tams.run` produces three output datasets."
   ]
  },
  {
   "cell_type": "code",
   "execution_count": null,
   "id": "5",
   "metadata": {
    "editable": true,
    "slideshow": {
     "slide_type": ""
    },
    "tags": [
     "hide-output"
    ]
   },
   "outputs": [],
   "source": [
    "%%time\n",
    "\n",
    "ce, mcs, mcs_summary = tams.run(ds, parallel=True)"
   ]
  },
  {
   "cell_type": "markdown",
   "id": "6",
   "metadata": {},
   "source": [
    "## CE dataset\n",
    "\n",
    "Identified cloud elements (CEs). Tracking has added `mcs_id`; classification has added `mcs_class`.\n",
    "\n",
    "Each row corresponds to a CE--time that belongs to an MCS. A certain MCS at a given time may include multiple CEs.  "
   ]
  },
  {
   "cell_type": "code",
   "execution_count": null,
   "id": "7",
   "metadata": {},
   "outputs": [],
   "source": [
    "ce"
   ]
  },
  {
   "cell_type": "code",
   "execution_count": null,
   "id": "8",
   "metadata": {},
   "outputs": [],
   "source": [
    "ce.info()"
   ]
  },
  {
   "cell_type": "code",
   "execution_count": null,
   "id": "9",
   "metadata": {},
   "outputs": [],
   "source": [
    "ce.area_km2.describe()"
   ]
  },
  {
   "cell_type": "markdown",
   "id": "10",
   "metadata": {},
   "source": [
    "## MCS dataset\n",
    "\n",
    "At each time, CEs with the same MCS ID are combined into one.\n",
    "\n",
    "Some statistics of precip (`pr`) and cloud-top temperature (`ctt`) within the MCS areas are included.\n",
    "\n",
    "Each row corresponds to an MCS--time."
   ]
  },
  {
   "cell_type": "code",
   "execution_count": null,
   "id": "11",
   "metadata": {},
   "outputs": [],
   "source": [
    "mcs"
   ]
  },
  {
   "cell_type": "code",
   "execution_count": null,
   "id": "12",
   "metadata": {},
   "outputs": [],
   "source": [
    "mcs.info()"
   ]
  },
  {
   "cell_type": "markdown",
   "id": "13",
   "metadata": {},
   "source": [
    "## MCS summary dataset\n",
    "\n",
    "No more shapes (just first and last centroid points).\n",
    "\n",
    "Each row corresponds to an MCS, including some statistics for the track such as the MCS's duration and initial and final coordinates."
   ]
  },
  {
   "cell_type": "code",
   "execution_count": null,
   "id": "14",
   "metadata": {},
   "outputs": [],
   "source": [
    "mcs_summary"
   ]
  },
  {
   "cell_type": "code",
   "execution_count": null,
   "id": "15",
   "metadata": {},
   "outputs": [],
   "source": [
    "mcs_summary.info()"
   ]
  },
  {
   "cell_type": "code",
   "execution_count": null,
   "id": "16",
   "metadata": {},
   "outputs": [],
   "source": [
    "mcs_summary.describe()"
   ]
  }
 ],
 "metadata": {
  "kernelspec": {
   "display_name": "Python 3 (ipykernel)",
   "language": "python",
   "name": "python3"
  },
  "language_info": {
   "codemirror_mode": {
    "name": "ipython",
    "version": 3
   },
   "file_extension": ".py",
   "mimetype": "text/x-python",
   "name": "python",
   "nbconvert_exporter": "python",
   "pygments_lexer": "ipython3",
   "version": "3.10.13"
  }
 },
 "nbformat": 4,
 "nbformat_minor": 5
}
