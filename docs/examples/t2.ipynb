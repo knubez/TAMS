{
 "cells": [
  {
   "cell_type": "markdown",
   "id": "0",
   "metadata": {},
   "source": [
    "# In contours with sample MPAS"
   ]
  },
  {
   "cell_type": "code",
   "execution_count": null,
   "id": "1",
   "metadata": {},
   "outputs": [],
   "source": [
    "import itertools\n",
    "import sys; sys.path.append(\"../\")\n",
    "import warnings\n",
    "\n",
    "import geopandas as gpd\n",
    "import matplotlib as mpl\n",
    "import matplotlib.pyplot as plt\n",
    "import pandas as pd\n",
    "from shapely.errors import ShapelyDeprecationWarning\n",
    "from shapely.geometry import MultiPolygon\n",
    "from shapely.ops import unary_union\n",
    "\n",
    "import tams"
   ]
  },
  {
   "cell_type": "markdown",
   "id": "2",
   "metadata": {},
   "source": [
    "## Experimenting with single time step"
   ]
  },
  {
   "cell_type": "code",
   "execution_count": null,
   "id": "3",
   "metadata": {},
   "outputs": [],
   "source": [
    "ds = tams.load_example_mpas().isel(time=1)\n",
    "tb = ds.tb\n",
    "precip = ds.precip\n",
    "precip.where(precip > 0).plot(norm=mpl.colors.LogNorm(vmin=1e-5))"
   ]
  },
  {
   "cell_type": "code",
   "execution_count": null,
   "id": "4",
   "metadata": {},
   "outputs": [],
   "source": [
    "res = tams.identify(tb)\n",
    "cs235, cs219 = res[0][0], res[1][0]"
   ]
  },
  {
   "cell_type": "code",
   "execution_count": null,
   "id": "5",
   "metadata": {},
   "outputs": [],
   "source": [
    "tams.data_in_contours(precip, cs219[:5], merge=True)"
   ]
  },
  {
   "cell_type": "code",
   "execution_count": null,
   "id": "6",
   "metadata": {},
   "outputs": [],
   "source": [
    "cs235.head()"
   ]
  },
  {
   "cell_type": "code",
   "execution_count": null,
   "id": "7",
   "metadata": {},
   "outputs": [],
   "source": [
    "cs235.set_geometry(\"cs219\").dissolve().cs219.geometry.values[0]"
   ]
  },
  {
   "cell_type": "code",
   "execution_count": null,
   "id": "8",
   "metadata": {},
   "outputs": [],
   "source": [
    "n1 = sum(len(mp.geoms) for mp in cs235.cs219)  # sum of polys over the multi-polys\n",
    "n2 = len(cs235.set_geometry(\"cs219\").dissolve().cs219.geometry.values[0].geoms)  # number of polys in dissolved multi-polys\n",
    "print(n1, n2, cs235.inds219.apply(len).sum())"
   ]
  },
  {
   "cell_type": "code",
   "execution_count": null,
   "id": "9",
   "metadata": {},
   "outputs": [],
   "source": [
    "cs235.cs219.explode()"
   ]
  },
  {
   "cell_type": "code",
   "execution_count": null,
   "id": "10",
   "metadata": {},
   "outputs": [],
   "source": [
    "cs235.cs219.explode(index_parts=True)  # 235 index, 219 contour ind within that"
   ]
  },
  {
   "cell_type": "code",
   "execution_count": null,
   "id": "11",
   "metadata": {},
   "outputs": [],
   "source": [
    "tams.data_in_contours(\n",
    "    precip,\n",
    "    gpd.GeoDataFrame(crs=\"EPSG:4326\", geometry=cs235.inds219.apply(lambda inds: MultiPolygon(cs219.geometry.iloc[inds].values)).rename(\"cs219\")),\n",
    ")"
   ]
  },
  {
   "cell_type": "code",
   "execution_count": null,
   "id": "12",
   "metadata": {},
   "outputs": [],
   "source": [
    "tams.data_in_contours(tb, gpd.GeoDataFrame(geometry=cs235.set_geometry(\"cs219\").geometry))"
   ]
  },
  {
   "cell_type": "code",
   "execution_count": null,
   "id": "13",
   "metadata": {},
   "outputs": [],
   "source": [
    "tams.data_in_contours(tb, cs235.set_geometry(\"cs219\", drop=True)).add_suffix(\"219\")\n",
    "# Without `drop=True` we get `AttributeError: 'DataFrame' object has no attribute 'geometry'`\n",
    "# (seems like a bug)"
   ]
  },
  {
   "cell_type": "code",
   "execution_count": null,
   "id": "14",
   "metadata": {},
   "outputs": [],
   "source": [
    "_, ax = plt.subplots(figsize=(12, 5))\n",
    "cs235.plot(ax=ax)\n",
    "cs235.cs219.plot(facecolor=\"none\", ax=ax)"
   ]
  },
  {
   "cell_type": "code",
   "execution_count": null,
   "id": "15",
   "metadata": {},
   "outputs": [],
   "source": [
    "# A check to see that the 235s have more count\n",
    "tams.data_in_contours(tb, cs235, merge=True).count_tb"
   ]
  },
  {
   "cell_type": "code",
   "execution_count": null,
   "id": "16",
   "metadata": {},
   "outputs": [],
   "source": [
    "# 219 K stats inside MCSs"
   ]
  },
  {
   "cell_type": "markdown",
   "id": "17",
   "metadata": {},
   "source": [
    "## Now with more time steps (adding `classify`)"
   ]
  },
  {
   "cell_type": "code",
   "execution_count": null,
   "id": "18",
   "metadata": {},
   "outputs": [],
   "source": [
    "ds = tams.load_example_mpas().isel(time=slice(1, 10))\n",
    "tb = ds.tb\n",
    "precip = ds.precip\n",
    "times = ds.time.values\n",
    "\n",
    "# Demonstrate some 219 holes\n",
    "tb.isel(time=0).plot.contour(levels=[214, 219, 224], colors=[\"b\", \"0.3\", \"r\"], linewidths=[0.7, 1.5, 0.7], size=10)\n",
    "plt.gca().set(xlim=(90, 110), ylim=(-1, 6))\n",
    "\n",
    "# To address, could use unary_region to smear over (essentially dropping the holes),\n",
    "# or check temperature inside to determine whether should be hole and figure how to set it that way?"
   ]
  },
  {
   "cell_type": "code",
   "execution_count": null,
   "id": "19",
   "metadata": {},
   "outputs": [],
   "source": [
    "css235, css219 = tams.identify(tb)\n",
    "cs = tams.track(css235, times)\n",
    "cs = tams.classify(cs)\n",
    "cs.head()"
   ]
  },
  {
   "cell_type": "code",
   "execution_count": null,
   "id": "20",
   "metadata": {},
   "outputs": [],
   "source": [
    "cs.cs219.crs"
   ]
  },
  {
   "cell_type": "code",
   "execution_count": null,
   "id": "21",
   "metadata": {},
   "outputs": [],
   "source": [
    "cs.index"
   ]
  },
  {
   "cell_type": "code",
   "execution_count": null,
   "id": "22",
   "metadata": {},
   "outputs": [],
   "source": [
    "cs[\"mcs_class\"].value_counts()"
   ]
  },
  {
   "cell_type": "markdown",
   "id": "23",
   "metadata": {},
   "source": [
    "### Selecting single MCS and time"
   ]
  },
  {
   "cell_type": "code",
   "execution_count": null,
   "id": "24",
   "metadata": {},
   "outputs": [],
   "source": [
    "mcs = cs.query(\"mcs_id == 9 and itime == 2\")\n",
    "mcs"
   ]
  },
  {
   "cell_type": "code",
   "execution_count": null,
   "id": "25",
   "metadata": {},
   "outputs": [],
   "source": [
    "mcs[[\"geometry\", \"cs219\"]].dissolve().set_geometry(\"cs219\", drop=True).explode().plot(fc=\"none\")"
   ]
  },
  {
   "cell_type": "code",
   "execution_count": null,
   "id": "26",
   "metadata": {},
   "outputs": [],
   "source": [
    "mcs[[\"geometry\", \"cs219\"]].set_geometry(\"cs219\", drop=True).dissolve().plot(fc=\"none\")"
   ]
  },
  {
   "cell_type": "code",
   "execution_count": null,
   "id": "27",
   "metadata": {},
   "outputs": [],
   "source": [
    "%timeit mcs[[\"geometry\", \"cs219\"]].set_geometry(\"cs219\", drop=True).dissolve()"
   ]
  },
  {
   "cell_type": "code",
   "execution_count": null,
   "id": "28",
   "metadata": {},
   "outputs": [],
   "source": [
    "mcs.crs  # preserved since we used .dissolve"
   ]
  },
  {
   "cell_type": "code",
   "execution_count": null,
   "id": "29",
   "metadata": {},
   "outputs": [],
   "source": [
    "MultiPolygon(itertools.chain.from_iterable((mp.geoms for mp in mcs.cs219.values)))"
   ]
  },
  {
   "cell_type": "code",
   "execution_count": null,
   "id": "30",
   "metadata": {},
   "outputs": [],
   "source": [
    "%timeit MultiPolygon(itertools.chain.from_iterable((mp.geoms for mp in mcs.cs219.values)))"
   ]
  },
  {
   "cell_type": "code",
   "execution_count": null,
   "id": "31",
   "metadata": {},
   "outputs": [],
   "source": [
    "unary_union(MultiPolygon(itertools.chain.from_iterable((mp.geoms for mp in mcs.cs219.values))))"
   ]
  },
  {
   "cell_type": "code",
   "execution_count": null,
   "id": "32",
   "metadata": {},
   "outputs": [],
   "source": [
    "%timeit unary_union(MultiPolygon(itertools.chain.from_iterable((mp.geoms for mp in mcs.cs219.values))))"
   ]
  },
  {
   "cell_type": "markdown",
   "id": "33",
   "metadata": {},
   "source": [
    "### Selecting single MCS (multiple times)\n",
    "\n",
    "to test out methods for constructing the MCS (time-resolved) and MCS-summary datasets"
   ]
  },
  {
   "cell_type": "code",
   "execution_count": null,
   "id": "34",
   "metadata": {},
   "outputs": [],
   "source": [
    "mcs = cs.query(\"mcs_id == 9\")\n",
    "mcs"
   ]
  },
  {
   "cell_type": "code",
   "execution_count": null,
   "id": "35",
   "metadata": {},
   "outputs": [],
   "source": [
    "mcs.groupby(\"time\").apply(lambda g: MultiPolygon(g.geometry.values))"
   ]
  },
  {
   "cell_type": "code",
   "execution_count": null,
   "id": "36",
   "metadata": {},
   "outputs": [],
   "source": [
    "for t, g in mcs.groupby(\"time\"): print(t, g[[\"geometry\"]].dissolve())"
   ]
  },
  {
   "cell_type": "code",
   "execution_count": null,
   "id": "37",
   "metadata": {},
   "outputs": [],
   "source": [
    "mcs.groupby(\"time\")[[\"geometry\"]].apply(lambda g: g.dissolve())"
   ]
  },
  {
   "cell_type": "code",
   "execution_count": null,
   "id": "38",
   "metadata": {},
   "outputs": [],
   "source": [
    "gpd.GeoSeries(mcs[[\"time\", \"geometry\"]].groupby(\"time\").apply(lambda g: g.geometry.unary_union))"
   ]
  },
  {
   "cell_type": "code",
   "execution_count": null,
   "id": "39",
   "metadata": {},
   "outputs": [],
   "source": [
    "gpd.GeoSeries(mcs[[\"time\", \"geometry\"]].groupby(\"time\").apply(lambda g: unary_union(MultiPolygon(g.geometry.values))))"
   ]
  },
  {
   "cell_type": "code",
   "execution_count": null,
   "id": "40",
   "metadata": {},
   "outputs": [],
   "source": [
    "gpd.GeoSeries(mcs[[\"time\", \"geometry\"]].groupby(\"time\").apply(lambda g: MultiPolygon(g.geometry.values)))"
   ]
  },
  {
   "cell_type": "markdown",
   "id": "41",
   "metadata": {},
   "source": [
    "### Agg over MCS CEs and times"
   ]
  },
  {
   "cell_type": "code",
   "execution_count": null,
   "id": "42",
   "metadata": {
    "jp-MarkdownHeadingCollapsed": true,
    "tags": []
   },
   "outputs": [],
   "source": [
    "# CE -> MCS\n",
    "\n",
    "# TODO: inds219 isn't relevant anymore here, should remove in track\n",
    "\n",
    "dfs_t = {}\n",
    "res_t = {}\n",
    "res_nt = {}\n",
    "for mcs_id, mcs in cs.groupby(\"mcs_id\"):\n",
    "    \n",
    "    # Time-varying\n",
    "    time_group = mcs.groupby(\"time\")\n",
    "    d = {}\n",
    "    \n",
    "    with warnings.catch_warnings():\n",
    "        # ShapelyDeprecationWarning: __len__ for multi-part geometries is deprecated and will be removed in Shapely 2.0. Check the length of the `geoms` property instead to get the  number of parts of a multi-part geometry.\n",
    "        warnings.filterwarnings(\n",
    "            \"ignore\",\n",
    "            category=ShapelyDeprecationWarning,\n",
    "            message=\"__len__ for multi-part geometries is deprecated\",\n",
    "        )\n",
    "        # d[\"cs235\"] = MultiPolygon(mcs.geometry.values)\n",
    "        # d[\"cs219\"] = MultiPolygon(itertools.chain.from_iterable((mp.geoms for mp in mcs.cs219.values)))\n",
    "        # d[\"cs235\"] = gpd.GeoSeries(mcs[[\"time\", \"geometry\"]].groupby(\"time\").apply(lambda g: MultiPolygon(g.geometry.values)))\n",
    "        d[\"cs235\"] = gpd.GeoSeries(time_group.apply(lambda g: MultiPolygon(g.geometry.values)))\n",
    "        d[\"cs219\"] = gpd.GeoSeries(time_group.apply(lambda g: MultiPolygon(itertools.chain.from_iterable((mp.geoms for mp in g.cs219.values)))))\n",
    "    \n",
    "    d[\"area_km2\"] = time_group.area_km2.sum()\n",
    "    d[\"area219_km2\"] = time_group.area219_km2.sum()\n",
    "\n",
    "    df = pd.DataFrame(d).reset_index()  # time -> column\n",
    "    df[\"mcs_id\"] = mcs_id\n",
    "    assert mcs.mcs_class.unique().size == 1\n",
    "    df[\"mcs_class\"] = mcs.mcs_class.values[0]\n",
    "    \n",
    "    # Summary stuff\n",
    "    d2 = {}\n",
    "    times = mcs.time.unique()\n",
    "    d2[\"first_time\"] = times.min()\n",
    "    d2[\"last_time\"] = times.max()\n",
    "    d2[\"duration\"] = d2[\"last_time\"] - d2[\"first_time\"] + pd.Timedelta(hours=1)\n",
    "    d2[\"mcs_id\"] = mcs_id\n",
    "    d2[\"mcs_class\"] = mcs.mcs_class.values[0]\n",
    "\n",
    "    # print(d)\n",
    "    # print(d2)\n",
    "    \n",
    "    dfs_t[mcs_id] = df\n",
    "    res_t[mcs_id] = d\n",
    "    res_nt[mcs_id] = d2"
   ]
  },
  {
   "cell_type": "code",
   "execution_count": null,
   "id": "43",
   "metadata": {},
   "outputs": [],
   "source": [
    "pd.DataFrame(res_t[7])"
   ]
  },
  {
   "cell_type": "code",
   "execution_count": null,
   "id": "44",
   "metadata": {},
   "outputs": [],
   "source": [
    "mcs = gpd.GeoDataFrame(pd.concat(dfs_t.values()).reset_index(drop=True)).set_geometry(\"cs235\", crs=\"EPSG:4326\").convert_dtypes()\n",
    "mcs.cs219 = mcs.cs219.set_crs(\"EPSG:4326\")\n",
    "mcs.mcs_class = mcs.mcs_class.astype(\"category\")\n",
    "mcs.head()"
   ]
  },
  {
   "cell_type": "code",
   "execution_count": null,
   "id": "45",
   "metadata": {},
   "outputs": [],
   "source": [
    "mcs.info()"
   ]
  },
  {
   "cell_type": "code",
   "execution_count": null,
   "id": "46",
   "metadata": {},
   "outputs": [],
   "source": [
    "mcs.query(\"mcs_id == 9\")"
   ]
  },
  {
   "cell_type": "markdown",
   "id": "47",
   "metadata": {},
   "source": [
    "### Add gridded data stats"
   ]
  },
  {
   "cell_type": "code",
   "execution_count": null,
   "id": "48",
   "metadata": {},
   "outputs": [],
   "source": [
    "# Add stats on gridded data for the different times\n",
    "dfs = []\n",
    "for t, g in mcs.groupby(\"time\"):\n",
    "    df1 = tams.data_in_contours(precip.sel(time=t), g, merge=True)\n",
    "    df2 = tams.data_in_contours(precip.sel(time=t), g.set_geometry(\"cs219\", drop=True), merge=False).add_suffix(\"219\")\n",
    "    df3 = tams.data_in_contours(tb.sel(time=t), g.set_geometry(\"cs219\", drop=True), merge=False).add_suffix(\"219\")\n",
    "    df = df1.join(df2).join(df3).drop(columns=[\"count_precip219\", ]).rename(columns={\"count_precip\": \"npixel\", \"count_tb219\": \"npixel219\"})\n",
    "    dfs.append(df)\n",
    "    \n",
    "mcs = pd.concat(dfs)\n",
    "mcs.head()"
   ]
  },
  {
   "cell_type": "code",
   "execution_count": null,
   "id": "49",
   "metadata": {},
   "outputs": [],
   "source": [
    "mcs.info()"
   ]
  },
  {
   "cell_type": "code",
   "execution_count": null,
   "id": "50",
   "metadata": {},
   "outputs": [],
   "source": [
    "mcs.geometry.boundary.plot()"
   ]
  },
  {
   "cell_type": "code",
   "execution_count": null,
   "id": "51",
   "metadata": {},
   "outputs": [],
   "source": [
    "mcs.cs219.boundary.plot(ec=\"r\")"
   ]
  },
  {
   "cell_type": "code",
   "execution_count": null,
   "id": "52",
   "metadata": {},
   "outputs": [],
   "source": [
    "mcs.query(\"mcs_id == 9\").set_index(\"time\").area_km2.plot()"
   ]
  },
  {
   "cell_type": "code",
   "execution_count": null,
   "id": "53",
   "metadata": {},
   "outputs": [],
   "source": [
    "mcs.query(\"mcs_id == 9\").set_index(\"time\").mean_precip219.plot()"
   ]
  },
  {
   "cell_type": "code",
   "execution_count": null,
   "id": "54",
   "metadata": {},
   "outputs": [],
   "source": [
    "gpd.GeoDataFrame(res_t.values()).info()"
   ]
  },
  {
   "cell_type": "code",
   "execution_count": null,
   "id": "55",
   "metadata": {},
   "outputs": [],
   "source": [
    "mcs2 = pd.DataFrame(res_nt.values()).reset_index(drop=True)\n",
    "mcs2.info()"
   ]
  },
  {
   "cell_type": "code",
   "execution_count": null,
   "id": "56",
   "metadata": {},
   "outputs": [],
   "source": [
    "mcs.cs235.to_crs(\"EPSG:32663\").centroid.to_crs(\"EPSG:4326\")\n",
    "# Looks like no difference if project first  using this projection\n",
    "# but warning avoided!"
   ]
  },
  {
   "cell_type": "code",
   "execution_count": null,
   "id": "57",
   "metadata": {},
   "outputs": [],
   "source": [
    "with warnings.catch_warnings():\n",
    "    # UserWarning: Geometry is in a geographic CRS. Results from 'centroid' are likely incorrect. Use 'GeoSeries.to_crs()' to re-project geometries to a projected CRS before this operation.\n",
    "    warnings.filterwarnings(\n",
    "        \"ignore\",\n",
    "        category=UserWarning,\n",
    "        message=\"Geometry is in a geographic CRS. Results from 'centroid' are likely incorrect.\",\n",
    "    )\n",
    "    p = mcs.cs235.centroid\n",
    "    \n",
    "p"
   ]
  },
  {
   "cell_type": "markdown",
   "id": "58",
   "metadata": {},
   "source": [
    "### Add stats to MCS-summary df"
   ]
  },
  {
   "cell_type": "code",
   "execution_count": null,
   "id": "59",
   "metadata": {},
   "outputs": [],
   "source": [
    "mcs2.join(mcs.groupby(\"mcs_id\")[[\"mean_precip\", \"mean_precip219\", \"mean_tb219\", \"area_km2\", \"area219_km2\"]].mean())"
   ]
  },
  {
   "cell_type": "code",
   "execution_count": null,
   "id": "60",
   "metadata": {},
   "outputs": [],
   "source": []
  },
  {
   "cell_type": "code",
   "execution_count": null,
   "id": "61",
   "metadata": {},
   "outputs": [],
   "source": [
    "mcs.attrs.update({\"info\": \"this is the MCS dataset\"})\n",
    "mcs.info()"
   ]
  },
  {
   "cell_type": "code",
   "execution_count": null,
   "id": "62",
   "metadata": {},
   "outputs": [],
   "source": [
    "mcs.convert_dtypes().info()"
   ]
  },
  {
   "cell_type": "code",
   "execution_count": null,
   "id": "63",
   "metadata": {},
   "outputs": [],
   "source": [
    "mcs.assign(mcs_class=mcs.mcs_class.astype(\"category\")).convert_dtypes().info()"
   ]
  },
  {
   "cell_type": "markdown",
   "id": "64",
   "metadata": {},
   "source": [
    "### Add first and last loc to MCS-summary df"
   ]
  },
  {
   "cell_type": "code",
   "execution_count": null,
   "id": "65",
   "metadata": {},
   "outputs": [],
   "source": [
    "# Add initial and ending coords (from time-resolved dataset centroids)\n",
    "\n",
    "def f(g):\n",
    "    g.sort_values(by=\"time\")  # should be already but just in case...\n",
    "    cen = g.geometry.to_crs(\"EPSG:32663\").centroid.to_crs(\"EPSG:4326\")\n",
    "    return gpd.GeoSeries({\"first_centroid\": cen.iloc[0], \"last_centroid\": cen.iloc[-1]})\n",
    "    # return pd.Series({\"first_centroid\": cen.iloc[0], \"last_centroid\": cen.iloc[-1]})\n",
    "\n",
    "points = gpd.GeoDataFrame(mcs.groupby(\"mcs_id\").apply(f).astype(\"geometry\"))\n",
    "# points = mcs.groupby(\"mcs_id\").apply(f).astype(\"geometry\")\n",
    "# ^ Initially we have GeoDataFrame but the columns don't have dtype geometry\n",
    "# `.astype(\"geometry\")` makes that conversion but we lose GeoDataFrame\n",
    "\n",
    "# `.set_crs()` only works on a geometry column in a GeoDataFrame\n",
    "points.first_centroid = points.first_centroid.set_crs(\"EPSG:4326\")    \n",
    "points.last_centroid = points.last_centroid.set_crs(\"EPSG:4326\")    \n",
    "\n",
    "assert points.first_centroid.crs == points.last_centroid.crs == \"EPSG:4326\"\n",
    "\n",
    "points.info()"
   ]
  },
  {
   "cell_type": "code",
   "execution_count": null,
   "id": "66",
   "metadata": {},
   "outputs": [],
   "source": [
    "p = points.last_centroid.difference(points.first_centroid).to_crs(\"EPSG:32663\")\n",
    "p"
   ]
  },
  {
   "cell_type": "code",
   "execution_count": null,
   "id": "67",
   "metadata": {},
   "outputs": [],
   "source": [
    "points[\"distance_km\"] = points.first_centroid.to_crs(\"EPSG:32663\").distance(points.last_centroid.to_crs(\"EPSG:32663\")) / 10**3\n",
    "points"
   ]
  },
  {
   "cell_type": "code",
   "execution_count": null,
   "id": "68",
   "metadata": {},
   "outputs": [],
   "source": [
    "gpd.GeoDataFrame(mcs2).join(points).set_geometry(\"first_centroid\").plot()"
   ]
  },
  {
   "cell_type": "code",
   "execution_count": null,
   "id": "69",
   "metadata": {},
   "outputs": [],
   "source": [
    "gpd.GeoDataFrame(mcs2).join(points).info()"
   ]
  },
  {
   "cell_type": "code",
   "execution_count": null,
   "id": "70",
   "metadata": {},
   "outputs": [],
   "source": [
    "gpd.GeoDataFrame(mcs2).join(points)"
   ]
  },
  {
   "cell_type": "code",
   "execution_count": null,
   "id": "71",
   "metadata": {},
   "outputs": [],
   "source": []
  }
 ],
 "metadata": {
  "language_info": {
   "codemirror_mode": {
    "name": "ipython",
    "version": 3
   },
   "file_extension": ".py",
   "mimetype": "text/x-python",
   "name": "python",
   "nbconvert_exporter": "python",
   "pygments_lexer": "ipython3"
  }
 },
 "nbformat": 4,
 "nbformat_minor": 5
}
