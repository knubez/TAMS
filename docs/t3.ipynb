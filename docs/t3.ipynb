{
 "cells": [
  {
   "cell_type": "markdown",
   "id": "6922ca63-d1a4-43f7-8fc2-68e6851984c4",
   "metadata": {},
   "source": [
    "# Testing the new `run` fn for MPAS sample"
   ]
  },
  {
   "cell_type": "code",
   "execution_count": null,
   "id": "3206baa9-1b54-4376-ba90-e465fefaa967",
   "metadata": {},
   "outputs": [],
   "source": [
    "import sys; sys.path.append(\"../\")\n",
    "\n",
    "import xarray as xr\n",
    "\n",
    "import tams"
   ]
  },
  {
   "cell_type": "code",
   "execution_count": null,
   "id": "e528969a-592a-4d67-9296-3b3ff0b5d032",
   "metadata": {},
   "outputs": [],
   "source": [
    "xr.set_options(display_expand_data=False)"
   ]
  },
  {
   "cell_type": "code",
   "execution_count": null,
   "id": "9357c333-56fa-4e6e-9199-4e9b43725c4d",
   "metadata": {},
   "outputs": [],
   "source": [
    "ds = tams.load_example_mpas().rename({\"tb\": \"ctt\", \"precip\": \"pr\"}).isel(time=slice(1, 20))\n",
    "ds"
   ]
  },
  {
   "cell_type": "code",
   "execution_count": null,
   "id": "b893bba8-3603-446f-8609-cc39e9a504a3",
   "metadata": {},
   "outputs": [],
   "source": [
    "%%time\n",
    "\n",
    "ce, mcs, mcs_summary = tams.run(ds, parallel=True)"
   ]
  },
  {
   "cell_type": "markdown",
   "id": "6ed73b98-9087-443c-aab3-4495fb0f1187",
   "metadata": {},
   "source": [
    "## CE dataset\n",
    "\n"
   ]
  },
  {
   "cell_type": "code",
   "execution_count": null,
   "id": "4a35b4cf-2525-4285-8606-d769f5444082",
   "metadata": {},
   "outputs": [],
   "source": [
    "ce"
   ]
  },
  {
   "cell_type": "code",
   "execution_count": null,
   "id": "8a96cddf-5a05-4a67-beca-565715b69c4a",
   "metadata": {},
   "outputs": [],
   "source": [
    "ce.info()"
   ]
  },
  {
   "cell_type": "markdown",
   "id": "2bf1e67c-1774-457e-bd9b-ef87f06bfc5d",
   "metadata": {},
   "source": [
    "## MCS dataset"
   ]
  },
  {
   "cell_type": "code",
   "execution_count": null,
   "id": "3fffdcfe-6208-4cca-b8a1-f0d208f7a3e8",
   "metadata": {},
   "outputs": [],
   "source": [
    "mcs"
   ]
  },
  {
   "cell_type": "code",
   "execution_count": null,
   "id": "05461c0c-7f00-481c-ab8b-52a7f43bbc27",
   "metadata": {},
   "outputs": [],
   "source": [
    "mcs.info()"
   ]
  },
  {
   "cell_type": "markdown",
   "id": "12b3a841-a75f-4295-90cf-cbb693545cfd",
   "metadata": {},
   "source": [
    "## MCS summary dataset"
   ]
  },
  {
   "cell_type": "code",
   "execution_count": null,
   "id": "8a8fd606-3924-47af-9d13-8063e6090d31",
   "metadata": {},
   "outputs": [],
   "source": [
    "mcs_summary"
   ]
  },
  {
   "cell_type": "code",
   "execution_count": null,
   "id": "38aff990-93aa-45e1-9897-00a51c17ed4e",
   "metadata": {},
   "outputs": [],
   "source": [
    "mcs_summary.info()"
   ]
  }
 ],
 "metadata": {
  "kernelspec": {
   "display_name": "Python 3 (ipykernel)",
   "language": "python",
   "name": "python3"
  },
  "language_info": {
   "codemirror_mode": {
    "name": "ipython",
    "version": 3
   },
   "file_extension": ".py",
   "mimetype": "text/x-python",
   "name": "python",
   "nbconvert_exporter": "python",
   "pygments_lexer": "ipython3",
   "version": "3.9.10"
  }
 },
 "nbformat": 4,
 "nbformat_minor": 5
}
