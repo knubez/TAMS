{
 "cells": [
  {
   "cell_type": "markdown",
   "id": "43635a39-e288-4a2e-9809-9c1888a5e14e",
   "metadata": {},
   "source": [
    "# In contours with sample MPAS"
   ]
  },
  {
   "cell_type": "code",
   "execution_count": null,
   "id": "b3731808-dd29-42f7-ae90-1d4293efedd8",
   "metadata": {},
   "outputs": [],
   "source": [
    "import sys; sys.path.append(\"../\")\n",
    "\n",
    "import matplotlib as mpl\n",
    "import pandas as pd\n",
    "\n",
    "import tams"
   ]
  },
  {
   "cell_type": "code",
   "execution_count": null,
   "id": "1c79bad4-2621-4113-baac-2f0f37dc345a",
   "metadata": {},
   "outputs": [],
   "source": [
    "ds = tams.load_example_mpas().isel(time=1)\n",
    "tb = ds.tb\n",
    "precip = ds.precip\n",
    "precip.where(precip > 0).plot(norm=mpl.colors.LogNorm(vmin=1e-5))"
   ]
  },
  {
   "cell_type": "code",
   "execution_count": null,
   "id": "e5f1e883-1c16-4a44-bf93-9b2214a1a6e0",
   "metadata": {},
   "outputs": [],
   "source": [
    "res = tams.identify(tb)\n",
    "cs235, cs219 = res[0][0], res[1][0]"
   ]
  },
  {
   "cell_type": "code",
   "execution_count": null,
   "id": "a3b29f16-39bf-4a09-a5ca-3cc6e3c52121",
   "metadata": {},
   "outputs": [],
   "source": [
    "tams.data_in_contours(precip, cs219[:5], merge=True)"
   ]
  },
  {
   "cell_type": "code",
   "execution_count": null,
   "id": "e902c2a5-4e2a-4520-bea3-9307a53a440a",
   "metadata": {},
   "outputs": [],
   "source": [
    "cs235"
   ]
  },
  {
   "cell_type": "code",
   "execution_count": null,
   "id": "6b494b3e-1600-483e-84c2-c97e891965dd",
   "metadata": {},
   "outputs": [],
   "source": [
    "# 219 K stats inside CEs\n",
    "\n",
    "# Add data to 219 data (not needed really)\n",
    "cs219 = tams.data_in_contours(tb, cs219, merge=True)\n",
    "\n",
    "\n",
    "# Row-wise lookup and apply method\n",
    "\n",
    "def f(row):\n",
    "    \"\"\"Compute stats for 219s associated with a certain 245.\"\"\"\n",
    "    return tams.data_in_contours(tb, cs219.iloc[row.inds219].dissolve())\n",
    "\n",
    "res = cs235.apply(f, axis=\"columns\")  # Series of DataFrames\n",
    "res.head()\n",
    "pd.concat(res.to_list()).reset_index(drop=True).rename(columns={\"count_tb\": \"npixels219\"})"
   ]
  },
  {
   "cell_type": "code",
   "execution_count": null,
   "id": "90456507-2c7a-47dc-a845-d17bb059c7f2",
   "metadata": {},
   "outputs": [],
   "source": [
    "# 219 MultiPolygon column method\n",
    "\n",
    "import geopandas as gpd\n",
    "from shapely.geometry import MultiPolygon"
   ]
  },
  {
   "cell_type": "code",
   "execution_count": null,
   "id": "e7980ce8-0c1e-48a9-b702-35fa14bf334c",
   "metadata": {},
   "outputs": [],
   "source": [
    "%timeit gpd.GeoSeries(cs235.inds219.apply(lambda inds: cs219.iloc[inds][[\"geometry\"]].dissolve().geometry[0]))"
   ]
  },
  {
   "cell_type": "code",
   "execution_count": null,
   "id": "425aa201-f3d8-407b-8763-1cdbb9f25793",
   "metadata": {},
   "outputs": [],
   "source": [
    "%timeit gpd.GeoSeries(cs235.inds219.apply(lambda inds: MultiPolygon(cs219.geometry.iloc[inds].values)).rename(\"cs219\"))"
   ]
  },
  {
   "cell_type": "code",
   "execution_count": null,
   "id": "1193a966-b7da-484a-b45d-9d51bf27feef",
   "metadata": {},
   "outputs": [],
   "source": [
    "tams.data_in_contours(\n",
    "    precip,\n",
    "    gpd.GeoDataFrame(crs=\"EPSG:4326\", geometry=cs235.inds219.apply(lambda inds: MultiPolygon(cs219.geometry.iloc[inds].values)).rename(\"cs219\")),\n",
    ")"
   ]
  },
  {
   "cell_type": "code",
   "execution_count": null,
   "id": "eb3c07b5-bd9e-425a-a306-53e574ef8e17",
   "metadata": {},
   "outputs": [],
   "source": [
    "tmp = gpd.GeoSeries(cs235.inds219.apply(lambda inds: MultiPolygon(cs219.geometry.iloc[inds].values)).rename(\"cs219\"))\n",
    "cs235[\"cs219\"] = tmp\n",
    "cs235"
   ]
  },
  {
   "cell_type": "code",
   "execution_count": null,
   "id": "4e7bf893-581c-4eb3-a937-618653789b7d",
   "metadata": {},
   "outputs": [],
   "source": [
    "cs235.set_geometry(\"cs219\").dissolve().cs219.geometry.values[0]"
   ]
  },
  {
   "cell_type": "code",
   "execution_count": null,
   "id": "c0eb0db1-f601-40e8-a630-1a2a032dee0f",
   "metadata": {},
   "outputs": [],
   "source": [
    "len(cs235.set_geometry(\"cs219\").dissolve().cs219.geometry.values[0].geoms)"
   ]
  },
  {
   "cell_type": "code",
   "execution_count": null,
   "id": "3b83339e-dfd3-405e-8fa7-ef53a0cd5571",
   "metadata": {},
   "outputs": [],
   "source": [
    "for i in cs235.dissolve().cs219.values[0].geoms: print(i)"
   ]
  },
  {
   "cell_type": "code",
   "execution_count": null,
   "id": "2e5fe390-e83a-4918-877e-389efb164fc5",
   "metadata": {},
   "outputs": [],
   "source": [
    "cs235.cs219.explode(index_parts=True).reset_index()"
   ]
  },
  {
   "cell_type": "code",
   "execution_count": null,
   "id": "7f5d2d86-6716-400c-ae8e-4311dd18ca8c",
   "metadata": {},
   "outputs": [],
   "source": [
    "tams.data_in_contours(tb, cs235.set_geometry(\"cs219\", drop=True)).add_suffix(\"219\")\n",
    "# Without `drop=True` we get `AttributeError: 'DataFrame' object has no attribute 'geometry'`\n",
    "# (seems like a bug)"
   ]
  },
  {
   "cell_type": "code",
   "execution_count": null,
   "id": "9bcc4d5c-2e25-4e96-8dbf-b1a592726587",
   "metadata": {},
   "outputs": [],
   "source": [
    "tams.data_in_contours(tb, gpd.GeoDataFrame(geometry=cs235.set_geometry(\"cs219\").geometry))"
   ]
  },
  {
   "cell_type": "code",
   "execution_count": null,
   "id": "b5d22b02-06ca-47fa-a4ea-ff8b01e023f1",
   "metadata": {},
   "outputs": [],
   "source": [
    "# A check to see that the 235s have more count\n",
    "tams.data_in_contours(tb, cs235, merge=True)"
   ]
  },
  {
   "cell_type": "code",
   "execution_count": null,
   "id": "22709071-2bea-4ce9-9163-30247b081190",
   "metadata": {},
   "outputs": [],
   "source": [
    "# 219 K stats inside MCSs"
   ]
  },
  {
   "cell_type": "code",
   "execution_count": null,
   "id": "c816b106-2ea2-4531-8c69-c2bb1b436321",
   "metadata": {},
   "outputs": [],
   "source": []
  }
 ],
 "metadata": {
  "kernelspec": {
   "display_name": "Python 3 (ipykernel)",
   "language": "python",
   "name": "python3"
  },
  "language_info": {
   "codemirror_mode": {
    "name": "ipython",
    "version": 3
   },
   "file_extension": ".py",
   "mimetype": "text/x-python",
   "name": "python",
   "nbconvert_exporter": "python",
   "pygments_lexer": "ipython3",
   "version": "3.9.10"
  }
 },
 "nbformat": 4,
 "nbformat_minor": 5
}
