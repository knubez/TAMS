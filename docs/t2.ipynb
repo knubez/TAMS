{
 "cells": [
  {
   "cell_type": "markdown",
   "id": "43635a39-e288-4a2e-9809-9c1888a5e14e",
   "metadata": {},
   "source": [
    "# In contours with sample MPAS"
   ]
  },
  {
   "cell_type": "code",
   "execution_count": null,
   "id": "b3731808-dd29-42f7-ae90-1d4293efedd8",
   "metadata": {},
   "outputs": [],
   "source": [
    "import itertools\n",
    "import sys; sys.path.append(\"../\")\n",
    "import warnings\n",
    "\n",
    "import geopandas as gpd\n",
    "import matplotlib as mpl\n",
    "import matplotlib.pyplot as plt\n",
    "import pandas as pd\n",
    "from shapely.errors import ShapelyDeprecationWarning\n",
    "from shapely.geometry import MultiPolygon\n",
    "from shapely.ops import unary_union\n",
    "\n",
    "import tams"
   ]
  },
  {
   "cell_type": "markdown",
   "id": "5ba16294-0898-46d2-871e-9199cd75bae2",
   "metadata": {},
   "source": [
    "## Experimenting with single time step"
   ]
  },
  {
   "cell_type": "code",
   "execution_count": null,
   "id": "1c79bad4-2621-4113-baac-2f0f37dc345a",
   "metadata": {},
   "outputs": [],
   "source": [
    "ds = tams.load_example_mpas().isel(time=1)\n",
    "tb = ds.tb\n",
    "precip = ds.precip\n",
    "precip.where(precip > 0).plot(norm=mpl.colors.LogNorm(vmin=1e-5))"
   ]
  },
  {
   "cell_type": "code",
   "execution_count": null,
   "id": "e5f1e883-1c16-4a44-bf93-9b2214a1a6e0",
   "metadata": {},
   "outputs": [],
   "source": [
    "res = tams.identify(tb)\n",
    "cs235, cs219 = res[0][0], res[1][0]"
   ]
  },
  {
   "cell_type": "code",
   "execution_count": null,
   "id": "a3b29f16-39bf-4a09-a5ca-3cc6e3c52121",
   "metadata": {},
   "outputs": [],
   "source": [
    "tams.data_in_contours(precip, cs219[:5], merge=True)"
   ]
  },
  {
   "cell_type": "code",
   "execution_count": null,
   "id": "eb3c07b5-bd9e-425a-a306-53e574ef8e17",
   "metadata": {},
   "outputs": [],
   "source": [
    "cs235.head()"
   ]
  },
  {
   "cell_type": "code",
   "execution_count": null,
   "id": "4e7bf893-581c-4eb3-a937-618653789b7d",
   "metadata": {},
   "outputs": [],
   "source": [
    "cs235.set_geometry(\"cs219\").dissolve().cs219.geometry.values[0]"
   ]
  },
  {
   "cell_type": "code",
   "execution_count": null,
   "id": "c0eb0db1-f601-40e8-a630-1a2a032dee0f",
   "metadata": {},
   "outputs": [],
   "source": [
    "n1 = sum(len(mp.geoms) for mp in cs235.cs219)  # sum of polys over the multi-polys\n",
    "n2 = len(cs235.set_geometry(\"cs219\").dissolve().cs219.geometry.values[0].geoms)  # number of polys in dissolved multi-polys\n",
    "print(n1, n2, cs235.inds219.apply(len).sum())"
   ]
  },
  {
   "cell_type": "code",
   "execution_count": null,
   "id": "5834098f-2f5f-4077-be3d-b45caebabab6",
   "metadata": {},
   "outputs": [],
   "source": [
    "cs235.cs219.explode()"
   ]
  },
  {
   "cell_type": "code",
   "execution_count": null,
   "id": "2e5fe390-e83a-4918-877e-389efb164fc5",
   "metadata": {},
   "outputs": [],
   "source": [
    "cs235.cs219.explode(index_parts=True)  # 235 index, 219 contour ind within that"
   ]
  },
  {
   "cell_type": "code",
   "execution_count": null,
   "id": "1193a966-b7da-484a-b45d-9d51bf27feef",
   "metadata": {},
   "outputs": [],
   "source": [
    "tams.data_in_contours(\n",
    "    precip,\n",
    "    gpd.GeoDataFrame(crs=\"EPSG:4326\", geometry=cs235.inds219.apply(lambda inds: MultiPolygon(cs219.geometry.iloc[inds].values)).rename(\"cs219\")),\n",
    ")"
   ]
  },
  {
   "cell_type": "code",
   "execution_count": null,
   "id": "9bcc4d5c-2e25-4e96-8dbf-b1a592726587",
   "metadata": {},
   "outputs": [],
   "source": [
    "tams.data_in_contours(tb, gpd.GeoDataFrame(geometry=cs235.set_geometry(\"cs219\").geometry))"
   ]
  },
  {
   "cell_type": "code",
   "execution_count": null,
   "id": "7f5d2d86-6716-400c-ae8e-4311dd18ca8c",
   "metadata": {},
   "outputs": [],
   "source": [
    "tams.data_in_contours(tb, cs235.set_geometry(\"cs219\", drop=True)).add_suffix(\"219\")\n",
    "# Without `drop=True` we get `AttributeError: 'DataFrame' object has no attribute 'geometry'`\n",
    "# (seems like a bug)"
   ]
  },
  {
   "cell_type": "code",
   "execution_count": null,
   "id": "78970cdc-3965-4eef-a928-efc57f99772c",
   "metadata": {},
   "outputs": [],
   "source": [
    "_, ax = plt.subplots(figsize=(12, 5))\n",
    "cs235.plot(ax=ax)\n",
    "cs235.cs219.plot(facecolor=\"none\", ax=ax)"
   ]
  },
  {
   "cell_type": "code",
   "execution_count": null,
   "id": "b5d22b02-06ca-47fa-a4ea-ff8b01e023f1",
   "metadata": {},
   "outputs": [],
   "source": [
    "# A check to see that the 235s have more count\n",
    "tams.data_in_contours(tb, cs235, merge=True).count_tb"
   ]
  },
  {
   "cell_type": "code",
   "execution_count": null,
   "id": "22709071-2bea-4ce9-9163-30247b081190",
   "metadata": {},
   "outputs": [],
   "source": [
    "# 219 K stats inside MCSs"
   ]
  },
  {
   "cell_type": "markdown",
   "id": "48d30fc9-de71-4174-84e4-37e2a5a38636",
   "metadata": {},
   "source": [
    "## Now with more time steps (adding `classify`)"
   ]
  },
  {
   "cell_type": "code",
   "execution_count": null,
   "id": "fc95eed6-766b-4d51-b24d-68c472cb777f",
   "metadata": {},
   "outputs": [],
   "source": [
    "ds = tams.load_example_mpas().isel(time=slice(1, 10))\n",
    "tb = ds.tb\n",
    "precip = ds.precip\n",
    "times = ds.time.values\n",
    "\n",
    "# Demonstrate some 219 holes\n",
    "tb.isel(time=0).plot.contour(levels=[214, 219, 224], colors=[\"b\", \"0.3\", \"r\"], linewidths=[0.7, 1.5, 0.7], size=10)\n",
    "plt.gca().set(xlim=(90, 110), ylim=(-1, 6))\n",
    "\n",
    "# To address, could use unary_region to smear over (essentially dropping the holes),\n",
    "# or check temperature inside to determine whether should be hole and figure how to set it that way?"
   ]
  },
  {
   "cell_type": "code",
   "execution_count": null,
   "id": "8e687835-8406-404e-8c11-36cf4b8adb35",
   "metadata": {},
   "outputs": [],
   "source": [
    "css235, css219 = tams.identify(tb)\n",
    "cs = tams.track(css235, times)\n",
    "cs = tams.classify(cs)\n",
    "cs.head()"
   ]
  },
  {
   "cell_type": "code",
   "execution_count": null,
   "id": "bb9830b5-4364-42a9-9e94-2bd0c7ce689a",
   "metadata": {},
   "outputs": [],
   "source": [
    "cs.cs219.crs"
   ]
  },
  {
   "cell_type": "code",
   "execution_count": null,
   "id": "28106ead-2606-458d-94a2-be91f65e08a4",
   "metadata": {},
   "outputs": [],
   "source": [
    "cs.index"
   ]
  },
  {
   "cell_type": "code",
   "execution_count": null,
   "id": "ed833a43-ccd6-4a28-84e0-9c5cbce24034",
   "metadata": {},
   "outputs": [],
   "source": [
    "cs[\"mcs_class\"].value_counts()"
   ]
  },
  {
   "cell_type": "markdown",
   "id": "3ff57d7a-cb1d-4ad5-a80b-9f2c69ec3653",
   "metadata": {},
   "source": [
    "### Selecting single MCS and time"
   ]
  },
  {
   "cell_type": "code",
   "execution_count": null,
   "id": "deea225d-5ece-4a8e-b4e9-a9ead903412a",
   "metadata": {},
   "outputs": [],
   "source": [
    "mcs = cs.query(\"mcs_id == 9 and itime == 2\")\n",
    "mcs"
   ]
  },
  {
   "cell_type": "code",
   "execution_count": null,
   "id": "d92440b8-0bef-4dca-b9c9-cf563832f44b",
   "metadata": {},
   "outputs": [],
   "source": [
    "mcs[[\"geometry\", \"cs219\"]].dissolve().set_geometry(\"cs219\", drop=True).explode().plot(fc=\"none\")"
   ]
  },
  {
   "cell_type": "code",
   "execution_count": null,
   "id": "a1bd8cfe-6aa1-4785-805b-4981582f0618",
   "metadata": {},
   "outputs": [],
   "source": [
    "mcs[[\"geometry\", \"cs219\"]].set_geometry(\"cs219\", drop=True).dissolve().plot(fc=\"none\")"
   ]
  },
  {
   "cell_type": "code",
   "execution_count": null,
   "id": "328c6d77-3998-403f-bc53-446491ae1a4c",
   "metadata": {},
   "outputs": [],
   "source": [
    "%timeit mcs[[\"geometry\", \"cs219\"]].set_geometry(\"cs219\", drop=True).dissolve()"
   ]
  },
  {
   "cell_type": "code",
   "execution_count": null,
   "id": "3677ffac-8662-4b8e-81cf-82c26df59964",
   "metadata": {},
   "outputs": [],
   "source": [
    "mcs.crs  # preserved since we used .dissolve"
   ]
  },
  {
   "cell_type": "code",
   "execution_count": null,
   "id": "5d684f5a-ff52-4db6-b858-3fd4ced3625b",
   "metadata": {},
   "outputs": [],
   "source": [
    "MultiPolygon(itertools.chain.from_iterable((mp.geoms for mp in mcs.cs219.values)))"
   ]
  },
  {
   "cell_type": "code",
   "execution_count": null,
   "id": "03bfd75c-b588-4073-8f37-b1468a92cf79",
   "metadata": {},
   "outputs": [],
   "source": [
    "%timeit MultiPolygon(itertools.chain.from_iterable((mp.geoms for mp in mcs.cs219.values)))"
   ]
  },
  {
   "cell_type": "code",
   "execution_count": null,
   "id": "d4887885-9ae5-4b14-a42f-58d136cad157",
   "metadata": {},
   "outputs": [],
   "source": [
    "unary_union(MultiPolygon(itertools.chain.from_iterable((mp.geoms for mp in mcs.cs219.values))))"
   ]
  },
  {
   "cell_type": "code",
   "execution_count": null,
   "id": "e3a7881b-547c-417d-8c7e-630e1d87aff9",
   "metadata": {},
   "outputs": [],
   "source": [
    "%timeit unary_union(MultiPolygon(itertools.chain.from_iterable((mp.geoms for mp in mcs.cs219.values))))"
   ]
  },
  {
   "cell_type": "markdown",
   "id": "29724658-ef8d-4a4c-ab81-8927f72b0090",
   "metadata": {},
   "source": [
    "### Selecting single MCS (multiple times)\n",
    "\n",
    "to test out methods for constructing the MCS (time-resolved) and MCS-summary datasets"
   ]
  },
  {
   "cell_type": "code",
   "execution_count": null,
   "id": "a55ceb99-d7c8-490b-9a02-6486b64906d0",
   "metadata": {},
   "outputs": [],
   "source": [
    "mcs = cs.query(\"mcs_id == 9\")\n",
    "mcs"
   ]
  },
  {
   "cell_type": "code",
   "execution_count": null,
   "id": "2805fb89-35a1-42c7-8cc5-20ae170ac6bd",
   "metadata": {},
   "outputs": [],
   "source": [
    "mcs.groupby(\"time\").apply(lambda g: MultiPolygon(g.geometry.values))"
   ]
  },
  {
   "cell_type": "code",
   "execution_count": null,
   "id": "66728e17-c272-4fa6-95a4-fafada7e76c0",
   "metadata": {},
   "outputs": [],
   "source": [
    "for t, g in mcs.groupby(\"time\"): print(t, g[[\"geometry\"]].dissolve())"
   ]
  },
  {
   "cell_type": "code",
   "execution_count": null,
   "id": "f078e24d-c3b9-4505-83b3-5446f23a7c0d",
   "metadata": {},
   "outputs": [],
   "source": [
    "mcs.groupby(\"time\")[[\"geometry\"]].apply(lambda g: g.dissolve())"
   ]
  },
  {
   "cell_type": "code",
   "execution_count": null,
   "id": "be434b6b-202c-4666-ae7d-e3522bc14c0d",
   "metadata": {},
   "outputs": [],
   "source": [
    "gpd.GeoSeries(mcs[[\"time\", \"geometry\"]].groupby(\"time\").apply(lambda g: g.geometry.unary_union))"
   ]
  },
  {
   "cell_type": "code",
   "execution_count": null,
   "id": "30d44c14-f420-4e1d-b4e3-d862ea5eea2b",
   "metadata": {},
   "outputs": [],
   "source": [
    "gpd.GeoSeries(mcs[[\"time\", \"geometry\"]].groupby(\"time\").apply(lambda g: unary_union(MultiPolygon(g.geometry.values))))"
   ]
  },
  {
   "cell_type": "code",
   "execution_count": null,
   "id": "fc0f01c5-c2b0-46ab-9b92-4faf59e6647a",
   "metadata": {},
   "outputs": [],
   "source": [
    "gpd.GeoSeries(mcs[[\"time\", \"geometry\"]].groupby(\"time\").apply(lambda g: MultiPolygon(g.geometry.values)))"
   ]
  },
  {
   "cell_type": "markdown",
   "id": "de28fda6-570b-4b30-bdf1-63786a2d0535",
   "metadata": {},
   "source": [
    "### Agg over MCS CEs and times"
   ]
  },
  {
   "cell_type": "code",
   "execution_count": null,
   "id": "13880f06-c3c6-42f5-8686-95ffc5333ab6",
   "metadata": {
    "jp-MarkdownHeadingCollapsed": true,
    "tags": []
   },
   "outputs": [],
   "source": [
    "# CE -> MCS\n",
    "\n",
    "# TODO: inds219 isn't relevant anymore here, should remove in track\n",
    "\n",
    "dfs_t = {}\n",
    "res_t = {}\n",
    "res_nt = {}\n",
    "for mcs_id, mcs in cs.groupby(\"mcs_id\"):\n",
    "    \n",
    "    # Time-varying\n",
    "    time_group = mcs.groupby(\"time\")\n",
    "    d = {}\n",
    "    \n",
    "    with warnings.catch_warnings():\n",
    "        # ShapelyDeprecationWarning: __len__ for multi-part geometries is deprecated and will be removed in Shapely 2.0. Check the length of the `geoms` property instead to get the  number of parts of a multi-part geometry.\n",
    "        warnings.filterwarnings(\n",
    "            \"ignore\",\n",
    "            category=ShapelyDeprecationWarning,\n",
    "            message=\"__len__ for multi-part geometries is deprecated\",\n",
    "        )\n",
    "        # d[\"cs235\"] = MultiPolygon(mcs.geometry.values)\n",
    "        # d[\"cs219\"] = MultiPolygon(itertools.chain.from_iterable((mp.geoms for mp in mcs.cs219.values)))\n",
    "        # d[\"cs235\"] = gpd.GeoSeries(mcs[[\"time\", \"geometry\"]].groupby(\"time\").apply(lambda g: MultiPolygon(g.geometry.values)))\n",
    "        d[\"cs235\"] = gpd.GeoSeries(time_group.apply(lambda g: MultiPolygon(g.geometry.values)))\n",
    "        d[\"cs219\"] = gpd.GeoSeries(time_group.apply(lambda g: MultiPolygon(itertools.chain.from_iterable((mp.geoms for mp in g.cs219.values)))))\n",
    "    \n",
    "    d[\"area_km2\"] = time_group.area_km2.sum()\n",
    "    d[\"area219_km2\"] = time_group.area219_km2.sum()\n",
    "\n",
    "    df = pd.DataFrame(d).reset_index()  # time -> column\n",
    "    df[\"mcs_id\"] = mcs_id\n",
    "    assert mcs.mcs_class.unique().size == 1\n",
    "    df[\"mcs_class\"] = mcs.mcs_class.values[0]\n",
    "    \n",
    "    # Summary stuff\n",
    "    d2 = {}\n",
    "    times = mcs.time.unique()\n",
    "    d2[\"first_time\"] = times.min()\n",
    "    d2[\"last_time\"] = times.max()\n",
    "    d2[\"duration\"] = d2[\"last_time\"] - d2[\"first_time\"] + pd.Timedelta(hours=1)\n",
    "    d2[\"mcs_id\"] = mcs_id\n",
    "    d2[\"mcs_class\"] = mcs.mcs_class.values[0]\n",
    "\n",
    "    # print(d)\n",
    "    # print(d2)\n",
    "    \n",
    "    dfs_t[mcs_id] = df\n",
    "    res_t[mcs_id] = d\n",
    "    res_nt[mcs_id] = d2"
   ]
  },
  {
   "cell_type": "code",
   "execution_count": null,
   "id": "562c3c5b-d878-4ea7-b3d7-e1fe50eaa7fe",
   "metadata": {},
   "outputs": [],
   "source": [
    "pd.DataFrame(res_t[7])"
   ]
  },
  {
   "cell_type": "code",
   "execution_count": null,
   "id": "4022441a-ef77-448e-a547-ca51e6ebfced",
   "metadata": {},
   "outputs": [],
   "source": [
    "mcs = gpd.GeoDataFrame(pd.concat(dfs_t.values()).reset_index(drop=True)).set_geometry(\"cs235\", crs=\"EPSG:4326\").convert_dtypes()\n",
    "mcs.cs219 = mcs.cs219.set_crs(\"EPSG:4326\")\n",
    "mcs.mcs_class = mcs.mcs_class.astype(\"category\")\n",
    "mcs.head()"
   ]
  },
  {
   "cell_type": "code",
   "execution_count": null,
   "id": "3c3e5002-923b-414f-81fb-d3c1040a903b",
   "metadata": {},
   "outputs": [],
   "source": [
    "mcs.info()"
   ]
  },
  {
   "cell_type": "code",
   "execution_count": null,
   "id": "7aaa907a-d168-4ffe-b4a9-af78b13c8d0f",
   "metadata": {},
   "outputs": [],
   "source": [
    "mcs.query(\"mcs_id == 9\")"
   ]
  },
  {
   "cell_type": "markdown",
   "id": "47d56593-24f7-4b6a-9d62-671238a009bc",
   "metadata": {},
   "source": [
    "### Add gridded data stats"
   ]
  },
  {
   "cell_type": "code",
   "execution_count": null,
   "id": "1b711941-53ef-4fc2-8894-0baf60d2803d",
   "metadata": {},
   "outputs": [],
   "source": [
    "# Add stats on gridded data for the different times\n",
    "dfs = []\n",
    "for t, g in mcs.groupby(\"time\"):\n",
    "    df1 = tams.data_in_contours(precip.sel(time=t), g, merge=True)\n",
    "    df2 = tams.data_in_contours(precip.sel(time=t), g.set_geometry(\"cs219\", drop=True), merge=False).add_suffix(\"219\")\n",
    "    df3 = tams.data_in_contours(tb.sel(time=t), g.set_geometry(\"cs219\", drop=True), merge=False).add_suffix(\"219\")\n",
    "    df = df1.join(df2).join(df3).drop(columns=[\"count_precip219\", ]).rename(columns={\"count_precip\": \"npixel\", \"count_tb219\": \"npixel219\"})\n",
    "    dfs.append(df)\n",
    "    \n",
    "mcs = pd.concat(dfs)\n",
    "mcs.head()"
   ]
  },
  {
   "cell_type": "code",
   "execution_count": null,
   "id": "cfae34d3-bdc6-4672-96a0-2e3f1a574e04",
   "metadata": {},
   "outputs": [],
   "source": [
    "mcs.info()"
   ]
  },
  {
   "cell_type": "code",
   "execution_count": null,
   "id": "6bf61733-9cae-484e-bd8e-3e959546b49e",
   "metadata": {},
   "outputs": [],
   "source": [
    "mcs.geometry.boundary.plot()"
   ]
  },
  {
   "cell_type": "code",
   "execution_count": null,
   "id": "c815a809-e332-43a4-944b-37bf553cb171",
   "metadata": {},
   "outputs": [],
   "source": [
    "mcs.cs219.boundary.plot(ec=\"r\")"
   ]
  },
  {
   "cell_type": "code",
   "execution_count": null,
   "id": "3a57b58a-a8e0-4b68-b066-a0bd48312e18",
   "metadata": {},
   "outputs": [],
   "source": [
    "mcs.query(\"mcs_id == 9\").set_index(\"time\").area_km2.plot()"
   ]
  },
  {
   "cell_type": "code",
   "execution_count": null,
   "id": "133dc070-6cf7-4eac-9c22-26a6d21549ae",
   "metadata": {},
   "outputs": [],
   "source": [
    "mcs.query(\"mcs_id == 9\").set_index(\"time\").mean_precip219.plot()"
   ]
  },
  {
   "cell_type": "code",
   "execution_count": null,
   "id": "38f90158-18d6-48ab-aafa-918b617dc625",
   "metadata": {},
   "outputs": [],
   "source": [
    "gpd.GeoDataFrame(res_t.values()).info()"
   ]
  },
  {
   "cell_type": "code",
   "execution_count": null,
   "id": "ef2edaa2-f233-410a-b250-dd403c3b1119",
   "metadata": {},
   "outputs": [],
   "source": [
    "mcs2 = pd.DataFrame(res_nt.values()).reset_index(drop=True)\n",
    "mcs2.info()"
   ]
  },
  {
   "cell_type": "code",
   "execution_count": null,
   "id": "24f3dde9-b5c3-4aee-b2ef-8bd6bbfdfa7d",
   "metadata": {},
   "outputs": [],
   "source": [
    "mcs.cs235.to_crs(\"EPSG:32663\").centroid.to_crs(\"EPSG:4326\")\n",
    "# Looks like no difference if project first  using this projection\n",
    "# but warning avoided!"
   ]
  },
  {
   "cell_type": "code",
   "execution_count": null,
   "id": "26b01ae4-00d3-47f4-9971-f043416a315b",
   "metadata": {},
   "outputs": [],
   "source": [
    "with warnings.catch_warnings():\n",
    "    # UserWarning: Geometry is in a geographic CRS. Results from 'centroid' are likely incorrect. Use 'GeoSeries.to_crs()' to re-project geometries to a projected CRS before this operation.\n",
    "    warnings.filterwarnings(\n",
    "        \"ignore\",\n",
    "        category=UserWarning,\n",
    "        message=\"Geometry is in a geographic CRS. Results from 'centroid' are likely incorrect.\",\n",
    "    )\n",
    "    p = mcs.cs235.centroid\n",
    "    \n",
    "p"
   ]
  },
  {
   "cell_type": "markdown",
   "id": "4e45978a-543b-4841-902a-34639e996574",
   "metadata": {},
   "source": [
    "### Add stats to MCS-summary df"
   ]
  },
  {
   "cell_type": "code",
   "execution_count": null,
   "id": "f813a6ae-19e4-4bbd-b0f7-6ed9b5f8eb23",
   "metadata": {},
   "outputs": [],
   "source": [
    "mcs2.join(mcs.groupby(\"mcs_id\")[[\"mean_precip\", \"mean_precip219\", \"mean_tb219\", \"area_km2\", \"area219_km2\"]].mean())"
   ]
  },
  {
   "cell_type": "code",
   "execution_count": null,
   "id": "0a61e4b2-67e7-43bf-a41e-16c89aa0cd2f",
   "metadata": {},
   "outputs": [],
   "source": []
  },
  {
   "cell_type": "code",
   "execution_count": null,
   "id": "4feb626d-9abd-4e41-9d02-8ed43f44961e",
   "metadata": {},
   "outputs": [],
   "source": [
    "mcs.attrs.update({\"info\": \"this is the MCS dataset\"})\n",
    "mcs.info()"
   ]
  },
  {
   "cell_type": "code",
   "execution_count": null,
   "id": "fc98ce7a-e264-4475-94a7-d477768bff5d",
   "metadata": {},
   "outputs": [],
   "source": [
    "mcs.convert_dtypes().info()"
   ]
  },
  {
   "cell_type": "code",
   "execution_count": null,
   "id": "68e31da9-9578-4682-929d-e268f2ecbe5c",
   "metadata": {},
   "outputs": [],
   "source": [
    "mcs.assign(mcs_class=mcs.mcs_class.astype(\"category\")).convert_dtypes().info()"
   ]
  },
  {
   "cell_type": "markdown",
   "id": "acd3eb43-00bc-4abe-a808-d34ea02c779f",
   "metadata": {},
   "source": [
    "### Add first and last loc to MCS-summary df"
   ]
  },
  {
   "cell_type": "code",
   "execution_count": null,
   "id": "ed2e94b3-670b-44d0-847a-7ce17b7635e7",
   "metadata": {},
   "outputs": [],
   "source": [
    "# Add initial and ending coords (from time-resolved dataset centroids)\n",
    "\n",
    "def f(g):\n",
    "    g.sort_values(by=\"time\")  # should be already but just in case...\n",
    "    cen = g.geometry.to_crs(\"EPSG:32663\").centroid.to_crs(\"EPSG:4326\")\n",
    "    return gpd.GeoSeries({\"first_centroid\": cen.iloc[0], \"last_centroid\": cen.iloc[-1]})\n",
    "    # return pd.Series({\"first_centroid\": cen.iloc[0], \"last_centroid\": cen.iloc[-1]})\n",
    "\n",
    "points = gpd.GeoDataFrame(mcs.groupby(\"mcs_id\").apply(f).astype(\"geometry\"))\n",
    "# points = mcs.groupby(\"mcs_id\").apply(f).astype(\"geometry\")\n",
    "# ^ Initially we have GeoDataFrame but the columns don't have dtype geometry\n",
    "# `.astype(\"geometry\")` makes that conversion but we lose GeoDataFrame\n",
    "\n",
    "# `.set_crs()` only works on a geometry column in a GeoDataFrame\n",
    "points.first_centroid = points.first_centroid.set_crs(\"EPSG:4326\")    \n",
    "points.last_centroid = points.last_centroid.set_crs(\"EPSG:4326\")    \n",
    "\n",
    "assert points.first_centroid.crs == points.last_centroid.crs == \"EPSG:4326\"\n",
    "\n",
    "points.info()"
   ]
  },
  {
   "cell_type": "code",
   "execution_count": null,
   "id": "6295b638-ccd8-47c7-9de5-b9ab3864f791",
   "metadata": {},
   "outputs": [],
   "source": [
    "p = points.last_centroid.difference(points.first_centroid).to_crs(\"EPSG:32663\")\n",
    "p"
   ]
  },
  {
   "cell_type": "code",
   "execution_count": null,
   "id": "b04b6519-d80a-47f6-a7f6-7e1f19d79af5",
   "metadata": {},
   "outputs": [],
   "source": [
    "points[\"distance_km\"] = points.first_centroid.to_crs(\"EPSG:32663\").distance(points.last_centroid.to_crs(\"EPSG:32663\")) / 10**3\n",
    "points"
   ]
  },
  {
   "cell_type": "code",
   "execution_count": null,
   "id": "f7c0cd6f-7328-4ff6-a8f3-7e61bcbf5f07",
   "metadata": {},
   "outputs": [],
   "source": [
    "gpd.GeoDataFrame(mcs2).join(points).set_geometry(\"first_centroid\").plot()"
   ]
  },
  {
   "cell_type": "code",
   "execution_count": null,
   "id": "d12370c0-a7f8-4b01-919e-db56754ced4f",
   "metadata": {},
   "outputs": [],
   "source": [
    "gpd.GeoDataFrame(mcs2).join(points).info()"
   ]
  },
  {
   "cell_type": "code",
   "execution_count": null,
   "id": "02e2cf74-98ad-49d3-a1aa-21bfe025935d",
   "metadata": {},
   "outputs": [],
   "source": [
    "gpd.GeoDataFrame(mcs2).join(points)"
   ]
  },
  {
   "cell_type": "code",
   "execution_count": null,
   "id": "f65c3b7c-0475-49b4-99e8-6d1c3a3be804",
   "metadata": {},
   "outputs": [],
   "source": []
  }
 ],
 "metadata": {
  "kernelspec": {
   "display_name": "Python 3 (ipykernel)",
   "language": "python",
   "name": "python3"
  },
  "language_info": {
   "codemirror_mode": {
    "name": "ipython",
    "version": 3
   },
   "file_extension": ".py",
   "mimetype": "text/x-python",
   "name": "python",
   "nbconvert_exporter": "python",
   "pygments_lexer": "ipython3",
   "version": "3.9.10"
  }
 },
 "nbformat": 4,
 "nbformat_minor": 5
}
