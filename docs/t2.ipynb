{
 "cells": [
  {
   "cell_type": "markdown",
   "id": "43635a39-e288-4a2e-9809-9c1888a5e14e",
   "metadata": {},
   "source": [
    "# In contours with sample MPAS"
   ]
  },
  {
   "cell_type": "code",
   "execution_count": null,
   "id": "b3731808-dd29-42f7-ae90-1d4293efedd8",
   "metadata": {},
   "outputs": [],
   "source": [
    "import sys; sys.path.append(\"../\")\n",
    "import warnings\n",
    "\n",
    "import geopandas as gpd\n",
    "import matplotlib as mpl\n",
    "import pandas as pd\n",
    "from shapely.geometry import MultiPolygon\n",
    "\n",
    "import tams"
   ]
  },
  {
   "cell_type": "code",
   "execution_count": null,
   "id": "1c79bad4-2621-4113-baac-2f0f37dc345a",
   "metadata": {},
   "outputs": [],
   "source": [
    "ds = tams.load_example_mpas().isel(time=1)\n",
    "tb = ds.tb\n",
    "precip = ds.precip\n",
    "precip.where(precip > 0).plot(norm=mpl.colors.LogNorm(vmin=1e-5))"
   ]
  },
  {
   "cell_type": "code",
   "execution_count": null,
   "id": "e5f1e883-1c16-4a44-bf93-9b2214a1a6e0",
   "metadata": {},
   "outputs": [],
   "source": [
    "res = tams.identify(tb)\n",
    "cs235, cs219 = res[0][0], res[1][0]"
   ]
  },
  {
   "cell_type": "code",
   "execution_count": null,
   "id": "a3b29f16-39bf-4a09-a5ca-3cc6e3c52121",
   "metadata": {},
   "outputs": [],
   "source": [
    "tams.data_in_contours(precip, cs219[:5], merge=True)"
   ]
  },
  {
   "cell_type": "code",
   "execution_count": null,
   "id": "eb3c07b5-bd9e-425a-a306-53e574ef8e17",
   "metadata": {},
   "outputs": [],
   "source": [
    "cs235.head()"
   ]
  },
  {
   "cell_type": "code",
   "execution_count": null,
   "id": "4e7bf893-581c-4eb3-a937-618653789b7d",
   "metadata": {},
   "outputs": [],
   "source": [
    "cs235.set_geometry(\"cs219\").dissolve().cs219.geometry.values[0]"
   ]
  },
  {
   "cell_type": "code",
   "execution_count": null,
   "id": "c0eb0db1-f601-40e8-a630-1a2a032dee0f",
   "metadata": {},
   "outputs": [],
   "source": [
    "n1 = sum(len(mp.geoms) for mp in cs235.cs219)  # sum of polys over the multi-polys\n",
    "n2 = len(cs235.set_geometry(\"cs219\").dissolve().cs219.geometry.values[0].geoms)  # number of polys in dissolved multi-polys\n",
    "print(n1, n2, cs235.inds219.apply(len).sum())"
   ]
  },
  {
   "cell_type": "code",
   "execution_count": null,
   "id": "5834098f-2f5f-4077-be3d-b45caebabab6",
   "metadata": {},
   "outputs": [],
   "source": [
    "cs235.cs219.explode()"
   ]
  },
  {
   "cell_type": "code",
   "execution_count": null,
   "id": "2e5fe390-e83a-4918-877e-389efb164fc5",
   "metadata": {},
   "outputs": [],
   "source": [
    "cs235.cs219.explode(index_parts=True)  # 235 index, 219 contour ind within that"
   ]
  },
  {
   "cell_type": "code",
   "execution_count": null,
   "id": "1193a966-b7da-484a-b45d-9d51bf27feef",
   "metadata": {},
   "outputs": [],
   "source": [
    "tams.data_in_contours(\n",
    "    precip,\n",
    "    gpd.GeoDataFrame(crs=\"EPSG:4326\", geometry=cs235.inds219.apply(lambda inds: MultiPolygon(cs219.geometry.iloc[inds].values)).rename(\"cs219\")),\n",
    ")"
   ]
  },
  {
   "cell_type": "code",
   "execution_count": null,
   "id": "9bcc4d5c-2e25-4e96-8dbf-b1a592726587",
   "metadata": {},
   "outputs": [],
   "source": [
    "tams.data_in_contours(tb, gpd.GeoDataFrame(geometry=cs235.set_geometry(\"cs219\").geometry))"
   ]
  },
  {
   "cell_type": "code",
   "execution_count": null,
   "id": "7f5d2d86-6716-400c-ae8e-4311dd18ca8c",
   "metadata": {},
   "outputs": [],
   "source": [
    "tams.data_in_contours(tb, cs235.set_geometry(\"cs219\", drop=True)).add_suffix(\"219\")\n",
    "# Without `drop=True` we get `AttributeError: 'DataFrame' object has no attribute 'geometry'`\n",
    "# (seems like a bug)"
   ]
  },
  {
   "cell_type": "code",
   "execution_count": null,
   "id": "78970cdc-3965-4eef-a928-efc57f99772c",
   "metadata": {},
   "outputs": [],
   "source": [
    "import matplotlib.pyplot as plt\n",
    "\n",
    "_, ax = plt.subplots(figsize=(12, 5))\n",
    "cs235.plot(ax=ax)\n",
    "cs235.cs219.plot(facecolor=\"none\", ax=ax)"
   ]
  },
  {
   "cell_type": "code",
   "execution_count": null,
   "id": "b5d22b02-06ca-47fa-a4ea-ff8b01e023f1",
   "metadata": {},
   "outputs": [],
   "source": [
    "# A check to see that the 235s have more count\n",
    "tams.data_in_contours(tb, cs235, merge=True).count_tb"
   ]
  },
  {
   "cell_type": "code",
   "execution_count": null,
   "id": "22709071-2bea-4ce9-9163-30247b081190",
   "metadata": {},
   "outputs": [],
   "source": [
    "# 219 K stats inside MCSs"
   ]
  },
  {
   "cell_type": "code",
   "execution_count": null,
   "id": "fc95eed6-766b-4d51-b24d-68c472cb777f",
   "metadata": {},
   "outputs": [],
   "source": [
    "ds = tams.load_example_mpas().isel(time=slice(1, 10))\n",
    "tb = ds.tb\n",
    "precip = ds.precip\n",
    "times = ds.time.values\n",
    "\n",
    "# Demonstrate some 219 holes\n",
    "tb.isel(time=0).plot.contour(levels=[214, 219, 224], colors=[\"b\", \"0.3\", \"r\"], linewidths=[0.7, 1.5, 0.7], size=10)\n",
    "plt.gca().set(xlim=(90, 110), ylim=(-1, 6))\n",
    "\n",
    "# To address, could use unary_region to smear over (essentially dropping the holes),\n",
    "# or check temperature inside to determine whether should be hole and figure how to set it that way?"
   ]
  },
  {
   "cell_type": "code",
   "execution_count": null,
   "id": "8e687835-8406-404e-8c11-36cf4b8adb35",
   "metadata": {},
   "outputs": [],
   "source": [
    "css235, css219 = tams.identify(tb)\n",
    "cs = tams.track(css235, times)\n",
    "cs = tams.classify(cs)\n",
    "cs.head()"
   ]
  },
  {
   "cell_type": "code",
   "execution_count": null,
   "id": "28106ead-2606-458d-94a2-be91f65e08a4",
   "metadata": {},
   "outputs": [],
   "source": [
    "cs.index"
   ]
  },
  {
   "cell_type": "code",
   "execution_count": null,
   "id": "ed833a43-ccd6-4a28-84e0-9c5cbce24034",
   "metadata": {},
   "outputs": [],
   "source": [
    "cs[\"mcs_class\"].value_counts()"
   ]
  },
  {
   "cell_type": "code",
   "execution_count": null,
   "id": "deea225d-5ece-4a8e-b4e9-a9ead903412a",
   "metadata": {},
   "outputs": [],
   "source": [
    "mcs = cs.query(\"mcs_id == 9 and itime == 2\")\n",
    "mcs"
   ]
  },
  {
   "cell_type": "code",
   "execution_count": null,
   "id": "d92440b8-0bef-4dca-b9c9-cf563832f44b",
   "metadata": {},
   "outputs": [],
   "source": [
    "mcs[[\"geometry\", \"cs219\"]].dissolve().set_geometry(\"cs219\", drop=True).explode().plot()"
   ]
  },
  {
   "cell_type": "code",
   "execution_count": null,
   "id": "a1bd8cfe-6aa1-4785-805b-4981582f0618",
   "metadata": {},
   "outputs": [],
   "source": [
    "mcs[[\"geometry\", \"cs219\"]].set_geometry(\"cs219\", drop=True).dissolve().plot(fc=\"none\")"
   ]
  },
  {
   "cell_type": "code",
   "execution_count": null,
   "id": "03bfd75c-b588-4073-8f37-b1468a92cf79",
   "metadata": {},
   "outputs": [],
   "source": [
    "import itertools\n",
    "\n",
    "MultiPolygon(itertools.chain.from_iterable((mp.geoms for mp in mcs.cs219.values)))"
   ]
  },
  {
   "cell_type": "code",
   "execution_count": null,
   "id": "a55ceb99-d7c8-490b-9a02-6486b64906d0",
   "metadata": {},
   "outputs": [],
   "source": [
    "mcs = cs.query(\"mcs_id == 9\")\n",
    "mcs"
   ]
  },
  {
   "cell_type": "code",
   "execution_count": null,
   "id": "2805fb89-35a1-42c7-8cc5-20ae170ac6bd",
   "metadata": {},
   "outputs": [],
   "source": [
    "mcs.groupby(\"time\").apply(lambda g: MultiPolygon(g.geometry.values))"
   ]
  },
  {
   "cell_type": "code",
   "execution_count": null,
   "id": "66728e17-c272-4fa6-95a4-fafada7e76c0",
   "metadata": {},
   "outputs": [],
   "source": [
    "for _, g in mcs.groupby(\"time\"): print(t, g[[\"geometry\"]].dissolve())"
   ]
  },
  {
   "cell_type": "code",
   "execution_count": null,
   "id": "f078e24d-c3b9-4505-83b3-5446f23a7c0d",
   "metadata": {},
   "outputs": [],
   "source": [
    "mcs.groupby(\"time\")[[\"geometry\"]].apply(lambda g: g.dissolve())"
   ]
  },
  {
   "cell_type": "code",
   "execution_count": null,
   "id": "be434b6b-202c-4666-ae7d-e3522bc14c0d",
   "metadata": {},
   "outputs": [],
   "source": [
    "gpd.GeoSeries(mcs[[\"time\", \"geometry\"]].groupby(\"time\").apply(lambda g: g.geometry.unary_union))"
   ]
  },
  {
   "cell_type": "code",
   "execution_count": null,
   "id": "30d44c14-f420-4e1d-b4e3-d862ea5eea2b",
   "metadata": {},
   "outputs": [],
   "source": [
    "from shapely.ops import unary_union\n",
    "\n",
    "gpd.GeoSeries(mcs[[\"time\", \"geometry\"]].groupby(\"time\").apply(lambda g: unary_union(MultiPolygon(g.geometry.values))))"
   ]
  },
  {
   "cell_type": "code",
   "execution_count": null,
   "id": "fc0f01c5-c2b0-46ab-9b92-4faf59e6647a",
   "metadata": {},
   "outputs": [],
   "source": [
    "gpd.GeoSeries(mcs[[\"time\", \"geometry\"]].groupby(\"time\").apply(lambda g: MultiPolygon(g.geometry.values)))"
   ]
  },
  {
   "cell_type": "code",
   "execution_count": null,
   "id": "13880f06-c3c6-42f5-8686-95ffc5333ab6",
   "metadata": {
    "jp-MarkdownHeadingCollapsed": true,
    "tags": []
   },
   "outputs": [],
   "source": [
    "# CE -> MCS\n",
    "from shapely.errors import ShapelyDeprecationWarning\n",
    "\n",
    "# TODO: inds219 isn't relevant anymore here, should remove in track\n",
    "\n",
    "dfs_t = {}\n",
    "res_t = {}\n",
    "res_nt = {}\n",
    "for mcs_id, mcs in cs.groupby(\"mcs_id\"):\n",
    "    \n",
    "    # Time-varying\n",
    "    time_group = mcs.groupby(\"time\")\n",
    "    d = {}\n",
    "    \n",
    "    with warnings.catch_warnings():\n",
    "        # ShapelyDeprecationWarning: __len__ for multi-part geometries is deprecated and will be removed in Shapely 2.0. Check the length of the `geoms` property instead to get the  number of parts of a multi-part geometry.\n",
    "        warnings.filterwarnings(\n",
    "            \"ignore\",\n",
    "            category=ShapelyDeprecationWarning,\n",
    "            message=\"__len__ for multi-part geometries is deprecated\",\n",
    "        )\n",
    "        # d[\"cs235\"] = MultiPolygon(mcs.geometry.values)\n",
    "        # d[\"cs219\"] = MultiPolygon(itertools.chain.from_iterable((mp.geoms for mp in mcs.cs219.values)))\n",
    "        # d[\"cs235\"] = gpd.GeoSeries(mcs[[\"time\", \"geometry\"]].groupby(\"time\").apply(lambda g: MultiPolygon(g.geometry.values)))\n",
    "        d[\"cs235\"] = gpd.GeoSeries(time_group.apply(lambda g: MultiPolygon(g.geometry.values)))\n",
    "        d[\"cs219\"] = gpd.GeoSeries(time_group.apply(lambda g: MultiPolygon(itertools.chain.from_iterable((mp.geoms for mp in g.cs219.values)))))\n",
    "    \n",
    "    d[\"area_km2\"] = time_group.area_km2.sum()\n",
    "    d[\"area219_km2\"] = time_group.area219_km2.sum()\n",
    "\n",
    "    df = pd.DataFrame(d).reset_index()  # time -> column\n",
    "    df[\"mcs_id\"] = mcs_id\n",
    "    assert mcs.mcs_class.unique().size == 1\n",
    "    df[\"mcs_class\"] = mcs.mcs_class.values[0]\n",
    "    \n",
    "    # Summary stuff\n",
    "    d2 = {}\n",
    "    times = mcs.time.unique()\n",
    "    d2[\"min_time\"] = times.min()\n",
    "    d2[\"max_time\"] = times.max()\n",
    "    d2[\"duration\"] = d2[\"max_time\"] - d2[\"min_time\"] + pd.Timedelta(hours=1)\n",
    "    d2[\"mcs_id\"] = mcs_id\n",
    "    d2[\"mcs_class\"] = mcs.mcs_class.values[0]\n",
    "\n",
    "    # print(d)\n",
    "    # print(d2)\n",
    "    \n",
    "    dfs_t[mcs_id] = df\n",
    "    res_t[mcs_id] = d\n",
    "    res_nt[mcs_id] = d2"
   ]
  },
  {
   "cell_type": "code",
   "execution_count": null,
   "id": "562c3c5b-d878-4ea7-b3d7-e1fe50eaa7fe",
   "metadata": {},
   "outputs": [],
   "source": [
    "pd.DataFrame(res_t[7])"
   ]
  },
  {
   "cell_type": "code",
   "execution_count": null,
   "id": "4022441a-ef77-448e-a547-ca51e6ebfced",
   "metadata": {},
   "outputs": [],
   "source": [
    "mcs = gpd.GeoDataFrame(pd.concat(dfs_t.values()).reset_index(drop=True)).set_geometry(\"cs235\", crs=\"EPSG:4326\")\n",
    "mcs.head()"
   ]
  },
  {
   "cell_type": "code",
   "execution_count": null,
   "id": "7aaa907a-d168-4ffe-b4a9-af78b13c8d0f",
   "metadata": {},
   "outputs": [],
   "source": [
    "mcs.query(\"mcs_id == 9\")"
   ]
  },
  {
   "cell_type": "code",
   "execution_count": null,
   "id": "1b711941-53ef-4fc2-8894-0baf60d2803d",
   "metadata": {},
   "outputs": [],
   "source": [
    "dfs = []\n",
    "for t, g in mcs.groupby(\"time\"):\n",
    "    df1 = tams.data_in_contours(precip.sel(time=t), g, merge=True)\n",
    "    df2 = tams.data_in_contours(precip.sel(time=t), g.set_geometry(\"cs219\", drop=True), merge=False).add_suffix(\"219\")\n",
    "    df3 = tams.data_in_contours(tb.sel(time=t), g.set_geometry(\"cs219\", drop=True), merge=False).add_suffix(\"219\")\n",
    "    df = df1.join(df2).join(df3).drop(columns=[\"count_precip219\", ]).rename(columns={\"count_precip\": \"npixel\", \"count_tb219\": \"npixel219\"})\n",
    "    dfs.append(df)\n",
    "    \n",
    "mcs = pd.concat(dfs)\n",
    "mcs.head()"
   ]
  },
  {
   "cell_type": "code",
   "execution_count": null,
   "id": "6bf61733-9cae-484e-bd8e-3e959546b49e",
   "metadata": {},
   "outputs": [],
   "source": [
    "mcs.geometry.boundary.plot()"
   ]
  },
  {
   "cell_type": "code",
   "execution_count": null,
   "id": "3a57b58a-a8e0-4b68-b066-a0bd48312e18",
   "metadata": {},
   "outputs": [],
   "source": [
    "mcs.query(\"mcs_id == 9\").set_index(\"time\").area_km2.plot()"
   ]
  },
  {
   "cell_type": "code",
   "execution_count": null,
   "id": "133dc070-6cf7-4eac-9c22-26a6d21549ae",
   "metadata": {},
   "outputs": [],
   "source": [
    "mcs.query(\"mcs_id == 9\").set_index(\"time\").mean_precip219.plot()"
   ]
  },
  {
   "cell_type": "code",
   "execution_count": null,
   "id": "ef2edaa2-f233-410a-b250-dd403c3b1119",
   "metadata": {},
   "outputs": [],
   "source": [
    "pd.DataFrame(res_nt).T.reset_index(drop=True)"
   ]
  },
  {
   "cell_type": "code",
   "execution_count": null,
   "id": "0a61e4b2-67e7-43bf-a41e-16c89aa0cd2f",
   "metadata": {},
   "outputs": [],
   "source": []
  }
 ],
 "metadata": {
  "kernelspec": {
   "display_name": "Python 3 (ipykernel)",
   "language": "python",
   "name": "python3"
  },
  "language_info": {
   "codemirror_mode": {
    "name": "ipython",
    "version": 3
   },
   "file_extension": ".py",
   "mimetype": "text/x-python",
   "name": "python",
   "nbconvert_exporter": "python",
   "pygments_lexer": "ipython3",
   "version": "3.9.10"
  }
 },
 "nbformat": 4,
 "nbformat_minor": 5
}
