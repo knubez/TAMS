{
 "cells": [
  {
   "cell_type": "markdown",
   "id": "88896d3f-02c6-450a-b312-6e7267c98562",
   "metadata": {},
   "source": [
    "Step 2 for pre-processed MOSA WRF data.\n",
    "* Track\n",
    "* Classify CEs\n",
    "* Create df with info but not full set of CE coordinates"
   ]
  },
  {
   "cell_type": "code",
   "execution_count": null,
   "id": "c81a53e7-65d9-4c16-be91-9ac8c9519c3b",
   "metadata": {},
   "outputs": [],
   "source": [
    "from pathlib import Path\n",
    "\n",
    "import cartopy.crs as ccrs\n",
    "import matplotlib.pyplot as plt\n",
    "import numpy as np\n",
    "import xarray as xr\n",
    "\n",
    "#from lib import run_wrf_preproced"
   ]
  },
  {
   "cell_type": "markdown",
   "id": "0dc8f85c-3c62-4135-a51e-9ec9817587b7",
   "metadata": {},
   "source": [
    "## Get files"
   ]
  },
  {
   "cell_type": "code",
   "execution_count": null,
   "id": "6cca8605-6c55-4c41-adaa-1eac4560ded4",
   "metadata": {},
   "outputs": [],
   "source": [
    "files = sorted(Path(\"/glade/scratch/zmoon/mosa-pre\").glob(\"tb_rainrate*.parquet\"))\n",
    "\n",
    "print(f\"{len(files)} total files\")\n",
    "\n",
    "# files = files[:1000]  # test\n",
    "files = [p for p in files if p.name.startswith(\"tb_rainrate_2010\") or p.name.startswith(\"tb_rainrate_2011\")]  # first WY\n",
    "\n",
    "print(f\"using {len(files)} files\")\n",
    "\n",
    "print(files[0])\n",
    "print(\"...\")\n",
    "print(files[-1])"
   ]
  },
  {
   "cell_type": "markdown",
   "id": "992cbe36-e09a-4fe2-add5-02eaf36d3f6b",
   "metadata": {},
   "source": [
    "## Run"
   ]
  },
  {
   "cell_type": "code",
   "execution_count": null,
   "id": "24c08be5-0a2b-4505-b1a1-deefc99eb077",
   "metadata": {},
   "outputs": [],
   "source": [
    "ce = run_wrf_preproced(files)\n",
    "ce"
   ]
  },
  {
   "cell_type": "markdown",
   "id": "309dba44-6e7e-4b96-a02f-44881527290c",
   "metadata": {},
   "source": [
    "## Plot"
   ]
  },
  {
   "cell_type": "code",
   "execution_count": null,
   "id": "55b87077-fe94-4175-a995-c89d1be6bcd9",
   "metadata": {},
   "outputs": [],
   "source": [
    "ce.area_km2.astype(np.float64)"
   ]
  },
  {
   "cell_type": "code",
   "execution_count": null,
   "id": "eff4f946-4078-47ec-a560-3c6cc93b01b1",
   "metadata": {},
   "outputs": [],
   "source": [
    "proj = ccrs.Mercator()\n",
    "tran = ccrs.PlateCarree()\n",
    "\n",
    "fig, ax = plt.subplots(subplot_kw=dict(projection=proj), figsize=(7, 10))\n",
    "\n",
    "ax.coastlines()\n",
    "ax.gridlines(draw_labels=True)\n",
    "\n",
    "ax.scatter(ce.lon, ce.lat, s=ce.area_km2.astype(np.float64)/10000, marker=\".\", transform=tran, alpha=0.2, lw=0)"
   ]
  },
  {
   "cell_type": "markdown",
   "id": "81a4905e-5a15-4c9e-bca6-808167d86ca2",
   "metadata": {},
   "source": [
    "## Save df\n",
    "\n",
    "They only want MCSs, so we can drop the CEs that are not part of an MCS"
   ]
  },
  {
   "cell_type": "code",
   "execution_count": null,
   "id": "02f30a46-47bd-4a9a-9790-65d821acaeb0",
   "metadata": {},
   "outputs": [],
   "source": [
    "mcs = (\n",
    "    ce[ce.is_mcs]\n",
    "    .reset_index(drop=True)\n",
    "    .drop(columns=[\"is_mcs\", \"not_is_mcs_reason\"])\n",
    ")\n",
    "mcs"
   ]
  },
  {
   "cell_type": "code",
   "execution_count": null,
   "id": "3fc108ff-624f-4070-95b2-93102ea01c97",
   "metadata": {},
   "outputs": [],
   "source": [
    "fig, ax = plt.subplots(figsize=(10, 9))\n",
    "\n",
    "n = 0\n",
    "for _, g in mcs.groupby(\"mcs_id\"):\n",
    "    g.plot(x=\"lon\", y=\"lat\", ax=ax, label=\"\", legend=False)\n",
    "    n += 1\n",
    "    \n",
    "    if n > 50:\n",
    "        break"
   ]
  },
  {
   "cell_type": "markdown",
   "id": "0f1171ec-88a2-48ab-9304-aa6343756f24",
   "metadata": {},
   "source": [
    "## A function to pre-process GPM data "
   ]
  },
  {
   "cell_type": "code",
   "execution_count": null,
   "id": "9f4f6c8d-4772-4887-9018-dcefa90e6126",
   "metadata": {
    "tags": []
   },
   "outputs": [],
   "source": [
    "ds=xr.open_mfdataset(\"/glade/campaign/mmm/c3we/prein/SouthAmerica/MCS-Tracking/GPM/2019/merg_2019123101*.nc\",\n",
    "                     concat_dim='xtime', combine='nested', parallel=True) "
   ]
  },
  {
   "cell_type": "code",
   "execution_count": null,
   "id": "9da205af-04c6-4db1-b5a9-51e74dc29b10",
   "metadata": {},
   "outputs": [],
   "source": [
    "ds.precipitationCal"
   ]
  },
  {
   "cell_type": "code",
   "execution_count": null,
   "id": "9b4babe0-ff9c-4afb-92fa-426cd3205574",
   "metadata": {},
   "outputs": [],
   "source": [
    "ds.Tb.isel(time=1).plot()"
   ]
  },
  {
   "cell_type": "markdown",
   "id": "8f1fd409-8343-4b59-b7e5-dd001dc33f22",
   "metadata": {},
   "source": [
    "## For IMERG (rain = precipitationCal): "
   ]
  },
  {
   "cell_type": "code",
   "execution_count": null,
   "id": "a935c417-768f-4790-8055-21311ac2883b",
   "metadata": {},
   "outputs": [],
   "source": [
    "## For multiple files\n",
    "#precip_hourly = [ds.precipitationCal.isel(xtime=i).isel(time=0) for i in range(len(ds.precipitationCal))]\n",
    "\n",
    "## Function for just one file at a time \n",
    "def imerg_hourly(ds):\n",
    "    precip_hourly = ds.precipitationCal.isel(time=0)\n",
    "    assert precip_hourly.time.dt.minute == 0\n",
    "    precip_hourly[\"time\"] = precip_hourly.time.dt.floor(\"H\")\n",
    "    return (precip_hourly)"
   ]
  },
  {
   "cell_type": "markdown",
   "id": "92a2a5a2-e042-4847-b7f4-4e3a20f0812e",
   "metadata": {},
   "source": [
    "## For MERGIR (brightnes temp = Tb):"
   ]
  },
  {
   "cell_type": "code",
   "execution_count": null,
   "id": "6b5191f6-bfe5-451b-9443-56b63475ac3d",
   "metadata": {},
   "outputs": [],
   "source": [
    "## For multiple files\n",
    "#precip_hourly = [ds.precipitationCal.isel(xtime=i).isel(time=0) for i in range(len(ds.precipitationCal))]\n",
    "\n",
    "## Function for just one file at a time \n",
    "def mergir_hourly(ds):\n",
    "    Tb_hourly = ds.precipitationCal.mean(dim = \"time\") \n",
    "    Tb_hourly = Tb_hourly.assign_coords(time=ds.time.values[0])\n",
    "    assert Tb_hourly.time.dt.minute == 0\n",
    "    Tb_hourly[\"time\"] = Tb_hourly.time.dt.floor(\"H\")\n",
    "    return Tb_hourly"
   ]
  },
  {
   "cell_type": "code",
   "execution_count": null,
   "id": "51a94869-e08d-49f3-84f5-ece15d42dd98",
   "metadata": {},
   "outputs": [],
   "source": [
    "mergir_hourly(ds)"
   ]
  },
  {
   "cell_type": "code",
   "execution_count": null,
   "id": "75d6952d-85e5-4abc-a3b2-24365a12bf88",
   "metadata": {},
   "outputs": [],
   "source": []
  },
  {
   "cell_type": "code",
   "execution_count": null,
   "id": "e6059652-487f-4639-aba4-047007f19fe6",
   "metadata": {},
   "outputs": [],
   "source": []
  },
  {
   "cell_type": "code",
   "execution_count": null,
   "id": "505e7c3d-3b66-4d33-801c-a45410fee815",
   "metadata": {},
   "outputs": [],
   "source": [
    "(ds.precipitationCal.isel(time=0)- ds.precipitationCal.isel(time=1)).plot() "
   ]
  },
  {
   "cell_type": "code",
   "execution_count": null,
   "id": "0dfd6594-4dc0-434b-a560-4464d8e70353",
   "metadata": {},
   "outputs": [],
   "source": [
    "ds.precipitationCal.isel(time=0)"
   ]
  },
  {
   "cell_type": "code",
   "execution_count": null,
   "id": "765824ab-9530-4908-9d4d-654e35760b23",
   "metadata": {},
   "outputs": [],
   "source": [
    "precip_hourly = []\n",
    "for i in range(len(ds.precipitationCal)):\n",
    "    \n",
    "    precip_hourly.append(ds.precipitationCal.isel(time=0)  \n",
    "    "
   ]
  },
  {
   "cell_type": "code",
   "execution_count": null,
   "id": "5e25890d-c5dc-4a5f-921d-627a4916e8c9",
   "metadata": {},
   "outputs": [],
   "source": []
  }
 ],
 "metadata": {
  "kernelspec": {
   "display_name": "Python [conda env:miniconda3-aew_project]",
   "language": "python",
   "name": "conda-env-miniconda3-aew_project-py"
  },
  "language_info": {
   "codemirror_mode": {
    "name": "ipython",
    "version": 3
   },
   "file_extension": ".py",
   "mimetype": "text/x-python",
   "name": "python",
   "nbconvert_exporter": "python",
   "pygments_lexer": "ipython3",
   "version": "3.9.10"
  }
 },
 "nbformat": 4,
 "nbformat_minor": 5
}
